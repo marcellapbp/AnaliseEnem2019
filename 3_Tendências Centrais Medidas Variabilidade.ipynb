{
  "nbformat": 4,
  "nbformat_minor": 0,
  "metadata": {
    "colab": {
      "name": "3_Tendências_Centrais_Medidas_Variabilidade.ipynb",
      "provenance": [],
      "collapsed_sections": [],
      "toc_visible": true,
      "authorship_tag": "ABX9TyPCYuToaZ7o1zp4APOZ82DY",
      "include_colab_link": true
    },
    "kernelspec": {
      "name": "python3",
      "display_name": "Python 3"
    }
  },
  "cells": [
    {
      "cell_type": "markdown",
      "metadata": {
        "id": "view-in-github",
        "colab_type": "text"
      },
      "source": [
        "<a href=\"https://colab.research.google.com/github/marcellapbp/AnaliseEnem2019/blob/main/3_Tend%C3%AAncias_Centrais_Medidas_Variabilidade.ipynb\" target=\"_parent\"><img src=\"https://colab.research.google.com/assets/colab-badge.svg\" alt=\"Open In Colab\"/></a>"
      ]
    },
    {
      "cell_type": "markdown",
      "metadata": {
        "id": "qW2j-tcxAjKl"
      },
      "source": [
        "# Tendências Centrais e Medidas de Variabilidade\n",
        "Para o estudo das Tendências Centrais e Medidas de Variabilidade, que são conceitos estatísticos que nos ajudam a descrever e resumir os dados, foi escolhido a informação da idade dos alunos inscritos no Enem 2019 por ser uma informação mais concreta e de comum conhecimento facilitando a compreensão dos conceitos."
      ]
    },
    {
      "cell_type": "markdown",
      "metadata": {
        "id": "bCDmFClv_3L9"
      },
      "source": [
        "**Fonte de Apoio:**\n",
        "<br>Data Science From Scratch (Capítulo 5 Statistics)\n",
        "<br>Curso da Analytics Vidhya Path to Become Data Scientist in 2020 (Aula Variability)\n",
        "\n",
        "\n",
        "---\n",
        "\n",
        "Importando bibliotecas"
      ]
    },
    {
      "cell_type": "code",
      "metadata": {
        "id": "_MMQBY1ivw7Q"
      },
      "source": [
        "import pandas as pd\n",
        "import seaborn as sns\n",
        "import matplotlib.pyplot as plt\n",
        "import statistics as stat\n",
        "from scipy.stats import variation"
      ],
      "execution_count": 17,
      "outputs": []
    },
    {
      "cell_type": "markdown",
      "metadata": {
        "id": "rv5WKj1u7AhT"
      },
      "source": [
        "Conferindo os dados"
      ]
    },
    {
      "cell_type": "code",
      "metadata": {
        "colab": {
          "base_uri": "https://localhost:8080/",
          "height": 273
        },
        "id": "TLo6MhQzyH9l",
        "outputId": "f1ad4298-aa35-4a07-c40f-380bee6e2461"
      },
      "source": [
        "df = pd.read_csv('/content/MICRODADOS_ENEM_2019_SP.csv')\n",
        "df.head()"
      ],
      "execution_count": 2,
      "outputs": [
        {
          "output_type": "execute_result",
          "data": {
            "text/html": [
              "<div>\n",
              "<style scoped>\n",
              "    .dataframe tbody tr th:only-of-type {\n",
              "        vertical-align: middle;\n",
              "    }\n",
              "\n",
              "    .dataframe tbody tr th {\n",
              "        vertical-align: top;\n",
              "    }\n",
              "\n",
              "    .dataframe thead th {\n",
              "        text-align: right;\n",
              "    }\n",
              "</style>\n",
              "<table border=\"1\" class=\"dataframe\">\n",
              "  <thead>\n",
              "    <tr style=\"text-align: right;\">\n",
              "      <th></th>\n",
              "      <th>NU_INSCRICAO</th>\n",
              "      <th>NU_ANO</th>\n",
              "      <th>CO_MUNICIPIO_RESIDENCIA</th>\n",
              "      <th>NO_MUNICIPIO_RESIDENCIA</th>\n",
              "      <th>CO_UF_RESIDENCIA</th>\n",
              "      <th>SG_UF_RESIDENCIA</th>\n",
              "      <th>NU_IDADE</th>\n",
              "      <th>TP_SEXO</th>\n",
              "      <th>TP_ESTADO_CIVIL</th>\n",
              "      <th>TP_COR_RACA</th>\n",
              "      <th>TP_NACIONALIDADE</th>\n",
              "      <th>CO_MUNICIPIO_NASCIMENTO</th>\n",
              "      <th>NO_MUNICIPIO_NASCIMENTO</th>\n",
              "      <th>CO_UF_NASCIMENTO</th>\n",
              "      <th>SG_UF_NASCIMENTO</th>\n",
              "      <th>TP_ST_CONCLUSAO</th>\n",
              "      <th>TP_ANO_CONCLUIU</th>\n",
              "      <th>TP_ESCOLA</th>\n",
              "      <th>TP_ENSINO</th>\n",
              "      <th>IN_TREINEIRO</th>\n",
              "      <th>CO_ESCOLA</th>\n",
              "      <th>CO_MUNICIPIO_ESC</th>\n",
              "      <th>NO_MUNICIPIO_ESC</th>\n",
              "      <th>CO_UF_ESC</th>\n",
              "      <th>SG_UF_ESC</th>\n",
              "      <th>TP_DEPENDENCIA_ADM_ESC</th>\n",
              "      <th>TP_LOCALIZACAO_ESC</th>\n",
              "      <th>TP_SIT_FUNC_ESC</th>\n",
              "      <th>IN_BAIXA_VISAO</th>\n",
              "      <th>IN_CEGUEIRA</th>\n",
              "      <th>IN_SURDEZ</th>\n",
              "      <th>IN_DEFICIENCIA_AUDITIVA</th>\n",
              "      <th>IN_SURDO_CEGUEIRA</th>\n",
              "      <th>IN_DEFICIENCIA_FISICA</th>\n",
              "      <th>IN_DEFICIENCIA_MENTAL</th>\n",
              "      <th>IN_DEFICIT_ATENCAO</th>\n",
              "      <th>IN_DISLEXIA</th>\n",
              "      <th>IN_DISCALCULIA</th>\n",
              "      <th>IN_AUTISMO</th>\n",
              "      <th>IN_VISAO_MONOCULAR</th>\n",
              "      <th>...</th>\n",
              "      <th>TX_RESPOSTAS_CH</th>\n",
              "      <th>TX_RESPOSTAS_LC</th>\n",
              "      <th>TX_RESPOSTAS_MT</th>\n",
              "      <th>TP_LINGUA</th>\n",
              "      <th>TX_GABARITO_CN</th>\n",
              "      <th>TX_GABARITO_CH</th>\n",
              "      <th>TX_GABARITO_LC</th>\n",
              "      <th>TX_GABARITO_MT</th>\n",
              "      <th>TP_STATUS_REDACAO</th>\n",
              "      <th>NU_NOTA_COMP1</th>\n",
              "      <th>NU_NOTA_COMP2</th>\n",
              "      <th>NU_NOTA_COMP3</th>\n",
              "      <th>NU_NOTA_COMP4</th>\n",
              "      <th>NU_NOTA_COMP5</th>\n",
              "      <th>NU_NOTA_REDACAO</th>\n",
              "      <th>Q001</th>\n",
              "      <th>Q002</th>\n",
              "      <th>Q003</th>\n",
              "      <th>Q004</th>\n",
              "      <th>Q005</th>\n",
              "      <th>Q006</th>\n",
              "      <th>Q007</th>\n",
              "      <th>Q008</th>\n",
              "      <th>Q009</th>\n",
              "      <th>Q010</th>\n",
              "      <th>Q011</th>\n",
              "      <th>Q012</th>\n",
              "      <th>Q013</th>\n",
              "      <th>Q014</th>\n",
              "      <th>Q015</th>\n",
              "      <th>Q016</th>\n",
              "      <th>Q017</th>\n",
              "      <th>Q018</th>\n",
              "      <th>Q019</th>\n",
              "      <th>Q020</th>\n",
              "      <th>Q021</th>\n",
              "      <th>Q022</th>\n",
              "      <th>Q023</th>\n",
              "      <th>Q024</th>\n",
              "      <th>Q025</th>\n",
              "    </tr>\n",
              "  </thead>\n",
              "  <tbody>\n",
              "    <tr>\n",
              "      <th>0</th>\n",
              "      <td>190001017053</td>\n",
              "      <td>2019</td>\n",
              "      <td>3546801</td>\n",
              "      <td>Santa Isabel</td>\n",
              "      <td>35</td>\n",
              "      <td>SP</td>\n",
              "      <td>22</td>\n",
              "      <td>M</td>\n",
              "      <td>1</td>\n",
              "      <td>3</td>\n",
              "      <td>1</td>\n",
              "      <td>1506500.0</td>\n",
              "      <td>Santa Izabel do Pará</td>\n",
              "      <td>15.0</td>\n",
              "      <td>PA</td>\n",
              "      <td>1</td>\n",
              "      <td>4</td>\n",
              "      <td>1</td>\n",
              "      <td>1.0</td>\n",
              "      <td>0</td>\n",
              "      <td>NaN</td>\n",
              "      <td>NaN</td>\n",
              "      <td>NaN</td>\n",
              "      <td>NaN</td>\n",
              "      <td>NaN</td>\n",
              "      <td>NaN</td>\n",
              "      <td>NaN</td>\n",
              "      <td>NaN</td>\n",
              "      <td>0</td>\n",
              "      <td>0</td>\n",
              "      <td>0</td>\n",
              "      <td>0</td>\n",
              "      <td>0</td>\n",
              "      <td>0</td>\n",
              "      <td>0</td>\n",
              "      <td>0</td>\n",
              "      <td>0</td>\n",
              "      <td>0</td>\n",
              "      <td>0</td>\n",
              "      <td>0</td>\n",
              "      <td>...</td>\n",
              "      <td>EEACECDBADBEABAAEAEACAAAECBEEEBACACCDEDACADCB</td>\n",
              "      <td>ADBBE99999DEDDBCAAAEEDDDBAADCCACECDCAEBCBCEBBA...</td>\n",
              "      <td>EDBADBDBAECBBB*CBADBAECCBACECDEDECBACCECDCCAA</td>\n",
              "      <td>0</td>\n",
              "      <td>AAECACDEADCBCDDDBCBDADAEABCEBABEEBCBEECEBDADC</td>\n",
              "      <td>EEBCEEDBADBBCBABCCADCEBACDBBACCACACBEADBBADCB</td>\n",
              "      <td>ADBBEDCABAABBCBCDAAECDDDBAAAECADECDCEBDEEAECBD...</td>\n",
              "      <td>EEEADBEBACABCDBABECECACDCBDCCEDCDABEDECDDDBAA</td>\n",
              "      <td>1.0</td>\n",
              "      <td>160.0</td>\n",
              "      <td>200.0</td>\n",
              "      <td>180.0</td>\n",
              "      <td>200.0</td>\n",
              "      <td>200.0</td>\n",
              "      <td>940.0</td>\n",
              "      <td>H</td>\n",
              "      <td>E</td>\n",
              "      <td>C</td>\n",
              "      <td>B</td>\n",
              "      <td>7.0</td>\n",
              "      <td>C</td>\n",
              "      <td>A</td>\n",
              "      <td>B</td>\n",
              "      <td>C</td>\n",
              "      <td>A</td>\n",
              "      <td>A</td>\n",
              "      <td>B</td>\n",
              "      <td>A</td>\n",
              "      <td>B</td>\n",
              "      <td>A</td>\n",
              "      <td>A</td>\n",
              "      <td>A</td>\n",
              "      <td>A</td>\n",
              "      <td>C</td>\n",
              "      <td>A</td>\n",
              "      <td>A</td>\n",
              "      <td>D</td>\n",
              "      <td>A</td>\n",
              "      <td>B</td>\n",
              "      <td>B</td>\n",
              "    </tr>\n",
              "    <tr>\n",
              "      <th>1</th>\n",
              "      <td>190001019476</td>\n",
              "      <td>2019</td>\n",
              "      <td>3538204</td>\n",
              "      <td>Pinhalzinho</td>\n",
              "      <td>35</td>\n",
              "      <td>SP</td>\n",
              "      <td>19</td>\n",
              "      <td>M</td>\n",
              "      <td>1</td>\n",
              "      <td>3</td>\n",
              "      <td>1</td>\n",
              "      <td>1503804.0</td>\n",
              "      <td>Jacundá</td>\n",
              "      <td>15.0</td>\n",
              "      <td>PA</td>\n",
              "      <td>1</td>\n",
              "      <td>2</td>\n",
              "      <td>1</td>\n",
              "      <td>1.0</td>\n",
              "      <td>0</td>\n",
              "      <td>NaN</td>\n",
              "      <td>NaN</td>\n",
              "      <td>NaN</td>\n",
              "      <td>NaN</td>\n",
              "      <td>NaN</td>\n",
              "      <td>NaN</td>\n",
              "      <td>NaN</td>\n",
              "      <td>NaN</td>\n",
              "      <td>0</td>\n",
              "      <td>0</td>\n",
              "      <td>0</td>\n",
              "      <td>0</td>\n",
              "      <td>0</td>\n",
              "      <td>0</td>\n",
              "      <td>0</td>\n",
              "      <td>0</td>\n",
              "      <td>0</td>\n",
              "      <td>0</td>\n",
              "      <td>0</td>\n",
              "      <td>0</td>\n",
              "      <td>...</td>\n",
              "      <td>NaN</td>\n",
              "      <td>NaN</td>\n",
              "      <td>NaN</td>\n",
              "      <td>1</td>\n",
              "      <td>NaN</td>\n",
              "      <td>NaN</td>\n",
              "      <td>NaN</td>\n",
              "      <td>NaN</td>\n",
              "      <td>NaN</td>\n",
              "      <td>NaN</td>\n",
              "      <td>NaN</td>\n",
              "      <td>NaN</td>\n",
              "      <td>NaN</td>\n",
              "      <td>NaN</td>\n",
              "      <td>NaN</td>\n",
              "      <td>D</td>\n",
              "      <td>D</td>\n",
              "      <td>B</td>\n",
              "      <td>B</td>\n",
              "      <td>4.0</td>\n",
              "      <td>C</td>\n",
              "      <td>A</td>\n",
              "      <td>B</td>\n",
              "      <td>D</td>\n",
              "      <td>A</td>\n",
              "      <td>B</td>\n",
              "      <td>B</td>\n",
              "      <td>A</td>\n",
              "      <td>A</td>\n",
              "      <td>A</td>\n",
              "      <td>A</td>\n",
              "      <td>A</td>\n",
              "      <td>A</td>\n",
              "      <td>B</td>\n",
              "      <td>A</td>\n",
              "      <td>A</td>\n",
              "      <td>C</td>\n",
              "      <td>A</td>\n",
              "      <td>B</td>\n",
              "      <td>A</td>\n",
              "    </tr>\n",
              "    <tr>\n",
              "      <th>2</th>\n",
              "      <td>190001019850</td>\n",
              "      <td>2019</td>\n",
              "      <td>3550308</td>\n",
              "      <td>São Paulo</td>\n",
              "      <td>35</td>\n",
              "      <td>SP</td>\n",
              "      <td>17</td>\n",
              "      <td>F</td>\n",
              "      <td>1</td>\n",
              "      <td>3</td>\n",
              "      <td>1</td>\n",
              "      <td>1501402.0</td>\n",
              "      <td>Belém</td>\n",
              "      <td>15.0</td>\n",
              "      <td>PA</td>\n",
              "      <td>2</td>\n",
              "      <td>0</td>\n",
              "      <td>3</td>\n",
              "      <td>1.0</td>\n",
              "      <td>0</td>\n",
              "      <td>15567761.0</td>\n",
              "      <td>1501402.0</td>\n",
              "      <td>Belém</td>\n",
              "      <td>15.0</td>\n",
              "      <td>PA</td>\n",
              "      <td>4.0</td>\n",
              "      <td>1.0</td>\n",
              "      <td>1.0</td>\n",
              "      <td>0</td>\n",
              "      <td>0</td>\n",
              "      <td>0</td>\n",
              "      <td>0</td>\n",
              "      <td>0</td>\n",
              "      <td>0</td>\n",
              "      <td>0</td>\n",
              "      <td>0</td>\n",
              "      <td>0</td>\n",
              "      <td>0</td>\n",
              "      <td>0</td>\n",
              "      <td>0</td>\n",
              "      <td>...</td>\n",
              "      <td>BCDCABABABBCBAEEEBCACACAEDBCCAEBEABEADBAEACCB</td>\n",
              "      <td>BDABE99999BCBDADDBDCDAAECDEECDBCBCCDEDAACDEDBB...</td>\n",
              "      <td>DBEBAECBADCACECADBBBBCEBADCEABECAADDBEDDBAECB</td>\n",
              "      <td>0</td>\n",
              "      <td>DADCCEBBCCACBEEBEEBACBCDDDDADBCBBCEAEADEADAAE</td>\n",
              "      <td>BACCCBABBADCBCEEEBCACACEEDBCCADBEADBADBBBACDB</td>\n",
              "      <td>BDABEABCADBCBAADDBECDAAECDAECBECBCCDEEAAADDBBC...</td>\n",
              "      <td>DBEBACABCDBABECEEEDCBDCCEDCDABEDAADDDECACAECB</td>\n",
              "      <td>1.0</td>\n",
              "      <td>160.0</td>\n",
              "      <td>120.0</td>\n",
              "      <td>200.0</td>\n",
              "      <td>200.0</td>\n",
              "      <td>200.0</td>\n",
              "      <td>880.0</td>\n",
              "      <td>E</td>\n",
              "      <td>E</td>\n",
              "      <td>F</td>\n",
              "      <td>B</td>\n",
              "      <td>6.0</td>\n",
              "      <td>D</td>\n",
              "      <td>A</td>\n",
              "      <td>B</td>\n",
              "      <td>C</td>\n",
              "      <td>A</td>\n",
              "      <td>A</td>\n",
              "      <td>B</td>\n",
              "      <td>A</td>\n",
              "      <td>A</td>\n",
              "      <td>A</td>\n",
              "      <td>A</td>\n",
              "      <td>A</td>\n",
              "      <td>A</td>\n",
              "      <td>A</td>\n",
              "      <td>A</td>\n",
              "      <td>A</td>\n",
              "      <td>C</td>\n",
              "      <td>A</td>\n",
              "      <td>A</td>\n",
              "      <td>A</td>\n",
              "    </tr>\n",
              "    <tr>\n",
              "      <th>3</th>\n",
              "      <td>190001024874</td>\n",
              "      <td>2019</td>\n",
              "      <td>3548708</td>\n",
              "      <td>São Bernardo do Campo</td>\n",
              "      <td>35</td>\n",
              "      <td>SP</td>\n",
              "      <td>19</td>\n",
              "      <td>M</td>\n",
              "      <td>1</td>\n",
              "      <td>3</td>\n",
              "      <td>1</td>\n",
              "      <td>3548708.0</td>\n",
              "      <td>São Bernardo do Campo</td>\n",
              "      <td>35.0</td>\n",
              "      <td>SP</td>\n",
              "      <td>2</td>\n",
              "      <td>0</td>\n",
              "      <td>2</td>\n",
              "      <td>1.0</td>\n",
              "      <td>0</td>\n",
              "      <td>35904958.0</td>\n",
              "      <td>3548708.0</td>\n",
              "      <td>São Bernardo do Campo</td>\n",
              "      <td>35.0</td>\n",
              "      <td>SP</td>\n",
              "      <td>2.0</td>\n",
              "      <td>1.0</td>\n",
              "      <td>1.0</td>\n",
              "      <td>0</td>\n",
              "      <td>0</td>\n",
              "      <td>0</td>\n",
              "      <td>0</td>\n",
              "      <td>0</td>\n",
              "      <td>0</td>\n",
              "      <td>0</td>\n",
              "      <td>0</td>\n",
              "      <td>0</td>\n",
              "      <td>0</td>\n",
              "      <td>0</td>\n",
              "      <td>0</td>\n",
              "      <td>...</td>\n",
              "      <td>AC.BECDABAECBCBBEAACA.EDCDEAEAADCEABDAAACEBCC</td>\n",
              "      <td>99999CBEAEBBCEDBABEBDAADCEAEDEBBEACACACACDCEDB...</td>\n",
              "      <td>ADDCEEEDADABDBDAAACAECEBBABEBDBEEBADCEBDEDCDA</td>\n",
              "      <td>1</td>\n",
              "      <td>DADCCEBBCCACBEEBEEBACBCDDDDADBCBBCEAEADEADAAE</td>\n",
              "      <td>ACACEEBCCBABADBBBACDBBACCCCADCEBADCBEEDBBEADB</td>\n",
              "      <td>EBBADCABDABACBCEBDEEAAADDBECDECDDBADBCDAAECBCC...</td>\n",
              "      <td>DBEBACABCDBABECEEEDCBDCCEDCDABEDAADDDECACAECB</td>\n",
              "      <td>1.0</td>\n",
              "      <td>80.0</td>\n",
              "      <td>160.0</td>\n",
              "      <td>120.0</td>\n",
              "      <td>100.0</td>\n",
              "      <td>100.0</td>\n",
              "      <td>560.0</td>\n",
              "      <td>B</td>\n",
              "      <td>B</td>\n",
              "      <td>B</td>\n",
              "      <td>B</td>\n",
              "      <td>4.0</td>\n",
              "      <td>C</td>\n",
              "      <td>A</td>\n",
              "      <td>C</td>\n",
              "      <td>D</td>\n",
              "      <td>B</td>\n",
              "      <td>B</td>\n",
              "      <td>B</td>\n",
              "      <td>A</td>\n",
              "      <td>B</td>\n",
              "      <td>B</td>\n",
              "      <td>B</td>\n",
              "      <td>A</td>\n",
              "      <td>B</td>\n",
              "      <td>B</td>\n",
              "      <td>B</td>\n",
              "      <td>A</td>\n",
              "      <td>B</td>\n",
              "      <td>B</td>\n",
              "      <td>A</td>\n",
              "      <td>B</td>\n",
              "    </tr>\n",
              "    <tr>\n",
              "      <th>4</th>\n",
              "      <td>190001024931</td>\n",
              "      <td>2019</td>\n",
              "      <td>3549409</td>\n",
              "      <td>São Joaquim da Barra</td>\n",
              "      <td>35</td>\n",
              "      <td>SP</td>\n",
              "      <td>37</td>\n",
              "      <td>M</td>\n",
              "      <td>2</td>\n",
              "      <td>1</td>\n",
              "      <td>1</td>\n",
              "      <td>3549409.0</td>\n",
              "      <td>São Joaquim da Barra</td>\n",
              "      <td>35.0</td>\n",
              "      <td>SP</td>\n",
              "      <td>1</td>\n",
              "      <td>3</td>\n",
              "      <td>1</td>\n",
              "      <td>1.0</td>\n",
              "      <td>0</td>\n",
              "      <td>NaN</td>\n",
              "      <td>NaN</td>\n",
              "      <td>NaN</td>\n",
              "      <td>NaN</td>\n",
              "      <td>NaN</td>\n",
              "      <td>NaN</td>\n",
              "      <td>NaN</td>\n",
              "      <td>NaN</td>\n",
              "      <td>0</td>\n",
              "      <td>0</td>\n",
              "      <td>0</td>\n",
              "      <td>0</td>\n",
              "      <td>0</td>\n",
              "      <td>0</td>\n",
              "      <td>0</td>\n",
              "      <td>0</td>\n",
              "      <td>0</td>\n",
              "      <td>0</td>\n",
              "      <td>0</td>\n",
              "      <td>0</td>\n",
              "      <td>...</td>\n",
              "      <td>NaN</td>\n",
              "      <td>NaN</td>\n",
              "      <td>NaN</td>\n",
              "      <td>1</td>\n",
              "      <td>NaN</td>\n",
              "      <td>NaN</td>\n",
              "      <td>NaN</td>\n",
              "      <td>NaN</td>\n",
              "      <td>NaN</td>\n",
              "      <td>NaN</td>\n",
              "      <td>NaN</td>\n",
              "      <td>NaN</td>\n",
              "      <td>NaN</td>\n",
              "      <td>NaN</td>\n",
              "      <td>NaN</td>\n",
              "      <td>B</td>\n",
              "      <td>B</td>\n",
              "      <td>A</td>\n",
              "      <td>A</td>\n",
              "      <td>3.0</td>\n",
              "      <td>C</td>\n",
              "      <td>A</td>\n",
              "      <td>B</td>\n",
              "      <td>C</td>\n",
              "      <td>A</td>\n",
              "      <td>B</td>\n",
              "      <td>B</td>\n",
              "      <td>A</td>\n",
              "      <td>A</td>\n",
              "      <td>A</td>\n",
              "      <td>B</td>\n",
              "      <td>A</td>\n",
              "      <td>A</td>\n",
              "      <td>A</td>\n",
              "      <td>A</td>\n",
              "      <td>A</td>\n",
              "      <td>C</td>\n",
              "      <td>B</td>\n",
              "      <td>B</td>\n",
              "      <td>B</td>\n",
              "    </tr>\n",
              "  </tbody>\n",
              "</table>\n",
              "<p>5 rows × 136 columns</p>\n",
              "</div>"
            ],
            "text/plain": [
              "   NU_INSCRICAO  NU_ANO  CO_MUNICIPIO_RESIDENCIA  ... Q023  Q024 Q025\n",
              "0  190001017053    2019                  3546801  ...    A     B    B\n",
              "1  190001019476    2019                  3538204  ...    A     B    A\n",
              "2  190001019850    2019                  3550308  ...    A     A    A\n",
              "3  190001024874    2019                  3548708  ...    B     A    B\n",
              "4  190001024931    2019                  3549409  ...    B     B    B\n",
              "\n",
              "[5 rows x 136 columns]"
            ]
          },
          "metadata": {
            "tags": []
          },
          "execution_count": 2
        }
      ]
    },
    {
      "cell_type": "markdown",
      "metadata": {
        "id": "uEC4Ee_e7DgO"
      },
      "source": [
        "Uma forma rápida de ver alguns dados estatísticos é com a função `describe()`.\n",
        "<br>\n",
        "Nela temos a média, desvio padrão, quartis, e mínimo e máximo, no entanto o objetivo desse notebook é fazer um estudo mais aprofundado desses conceitos fundamentais estatísticos."
      ]
    },
    {
      "cell_type": "code",
      "metadata": {
        "colab": {
          "base_uri": "https://localhost:8080/"
        },
        "id": "7Wp2gFO4yVQl",
        "outputId": "65ae1237-c846-4057-b5a6-c4988622f0ca"
      },
      "source": [
        "df.NU_IDADE.describe()"
      ],
      "execution_count": 3,
      "outputs": [
        {
          "output_type": "execute_result",
          "data": {
            "text/plain": [
              "count    19335.000000\n",
              "mean        21.493095\n",
              "std          6.630445\n",
              "min         14.000000\n",
              "25%         17.000000\n",
              "50%         19.000000\n",
              "75%         23.000000\n",
              "max         72.000000\n",
              "Name: NU_IDADE, dtype: float64"
            ]
          },
          "metadata": {
            "tags": []
          },
          "execution_count": 3
        }
      ]
    },
    {
      "cell_type": "markdown",
      "metadata": {
        "id": "5Ivqbd1N79Pf"
      },
      "source": [
        "\n",
        "\n",
        "---\n",
        "\n",
        "\n",
        "## Tendências Centrais"
      ]
    },
    {
      "cell_type": "markdown",
      "metadata": {
        "id": "UcE3zwHX7bjs"
      },
      "source": [
        "As Tendências Centrais são composta por:\n",
        "\n",
        "\n",
        "1.   Moda\n",
        "\n",
        "> é o valor que mais se repete na sequência\n",
        "\n",
        "\n",
        "2.   Média\n",
        "\n",
        "\n",
        "> é a soma de todos os números dividido pela quantidade de elementos\n",
        "\n",
        "\n",
        "3.   Mediana\n",
        "\n",
        "\n",
        "> é o número do meio de uma lista ordenada, caso a quatidade de elementos seja par é feito a média dos dois elementos medianos\n",
        "\n"
      ]
    },
    {
      "cell_type": "code",
      "metadata": {
        "colab": {
          "base_uri": "https://localhost:8080/",
          "height": 444
        },
        "id": "2jaHkAg72QXW",
        "outputId": "fc1ea422-43f3-4b21-8b77-0f0d5b8ac95c"
      },
      "source": [
        "#ajustando tamanho do gráfico\n",
        "plt.figure(figsize=(20,6))\n",
        "#criando boxplot\n",
        "sns.boxplot(x=df.NU_IDADE, color='yellow')\n",
        "\n",
        "#calculando as Tendências Centrais\n",
        "moda    = df.NU_IDADE.mode().unique()\n",
        "media   = df.NU_IDADE.mean()\n",
        "mediana = df.NU_IDADE.median()\n",
        "\n",
        "#imprimindo valores das Tendências Centrais\n",
        "print(f'Moda:     {moda}')\n",
        "print(f'Média:    {media}')\n",
        "print(f'Mediana:  {mediana}')\n",
        "\n",
        "#adicionando Tendências Centrais ao gráfico já plotado\n",
        "plt.axvline(x=moda,     color='red')\n",
        "plt.axvline(x=media,    color='blue')\n",
        "plt.axvline(x=mediana,  color='black', linestyle=':') #medina coincidiu com 50%\n",
        "\n",
        "#mudando a escala de x para facilitar enxergar a concentração de idade por volta dos 20 anos\n",
        "plt.xticks(ticks=range(0,100,5));"
      ],
      "execution_count": 5,
      "outputs": [
        {
          "output_type": "stream",
          "text": [
            "Moda:     [17]\n",
            "Média:    21.493095422808377\n",
            "Mediana:  19.0\n"
          ],
          "name": "stdout"
        },
        {
          "output_type": "display_data",
          "data": {
            "image/png": "[encoded data removed]",
            "text/plain": [
              "<Figure size 1440x432 with 1 Axes>"
            ]
          },
          "metadata": {
            "tags": [],
            "needs_background": "light"
          }
        }
      ]
    },
    {
      "cell_type": "markdown",
      "metadata": {
        "id": "hSK6_VE89SEO"
      },
      "source": [
        "São conceitos que resumem os dados em um único valor e são muito úteis para entender um pouco do seu comportamento sem precisar olhar um a um, em alguns casos o volume é tão grande que isso não é possível. No entanto não podemos nos limitar a esses valores já que eles não nos contam tudo sobre os dados. Podemos ter situações onde os dados são muito similares ou muito divergentes e ainda assim as tendências centrais apresentam resultados similares. Para isso temos as Medidas de Variabilidade."
      ]
    },
    {
      "cell_type": "markdown",
      "metadata": {
        "id": "RtgXDgYo8DLO"
      },
      "source": [
        "\n",
        "\n",
        "---\n",
        "\n",
        "\n",
        "## Medidas de Variabilidade\n",
        "Com as Medidas de Variabilidade conseguimos entender a dispersão dos dados, se eles são muito variados ou muito similares. Existem vários cálculos, cada um com seus prós e contras, nesse notebook teremos os seguintes cálculos:\n",
        "\n",
        "\n",
        "1.   Amplitude (Range)\n",
        "2.   Desvio Absoluto Médio (Mean Absolute Deviation (MAD))\n",
        "3.   Variância (Variance)\n",
        "4.   Desvio Padrão (Standard Deviation (STD))\n",
        "5.   Coeficiente de Variação (Coefficient of Variation)\n",
        "\n"
      ]
    },
    {
      "cell_type": "markdown",
      "metadata": {
        "id": "dPfA-xoIYdfy"
      },
      "source": [
        "**Amplitude (Range)**\n",
        "<br>\n",
        "![range.PNG](data:image/png;base64,iVBORw0KGgoAAAANSUhEUgAAAoMAAACDCAYAAAD28RGnAAAAAXNSR0IArs4c6QAAAARnQU1BAACxjwv8YQUAAAAJcEhZcwAAEnQAABJ0Ad5mH3gAABWbSURBVHhe7ZyNlew0s0VvCsRACuRACMRACmRABmRABERAAiRABuQw3zpAPeqeV7J+bHdPt/ZeqxYzPZYsS/VzJPflywcAAAAAbAtiEAAAAGBjEIMAAAAAG4MYBAAAANgYxCAAAADAxiAGAQAAADYGMQgAAACwMYhBAAAAgI1BDAIAAABsDGIQAAAAYGMQgwAAAAAbgxgEAAAA2BjEIAAAAMDGIAYBAAAANgYxCAAAALAxiEEAAACAjUEMAgAAAGwMYhAAAABgYxCDAAAAABuDGAQAAADYGMQgAAAAwMYgBgEAAAA2BjEIAAAAsDGIQQAAAICNQQwCAAAAbAxiEAAAAGBjEIMAAAAAG4MYBAAAANgYxCAAAADAxiAGAQAAADYGMQgAAACwMYhBAAAAgI1BDAIAAABsDGIQAAAAYGMQgwAAAAAbgxgEAAAA2BjEIAAAAMDGIAYBAAAANgYxCAAAALAxiEEAAACAjUEMAgAAAGwMYhAAAABgYxCDAAAAABuDGAQAAADYGMQgAAAAwMYgBgEAAAA2BjEIAAAAsDGIQQAAAICNQQwCAAAAbAxiEAAAAGBjEIMAAAAAG4MYBAAAANgYxCAAAADAxjxUDP7+++8fP/zww8c333zz8eXLl79Nv//555//XtFGbX/88cePb7/99v/ayvT7L7/88u9V8/z1118fv/766999f/fdd1/1rXF+//33Hz/99NPHb7/99m+Lf1Cb+LvGNoKe059B9/S+K/7444//11Y/67OR+bsCjXN2nrQ28Xc9w1Wor59//vnvfiuf0Oe6t9YXnofipIr50ZgJ1I/WNK+z/A3gHVCeUr7KPq6Ymc3v6kd5Medo9aP4ATjiIWJQDqoCEM7pJmdtObyKvhcBtxVHj6DJRapnEhkqQD6ekcKme+U2bi1BqHEqIVRtwvQMVwotZ2WelNhcNF4xRq21i78ju3tuoEbx3IvbkbiR/7f6UVwAvDqKg6OcphymOOihPNfqBzEIPW4Xg3LQESFRJXY5cHWt22yxr4JPY5ToyX0pADWG3viPOCpm2TQe5yi43UYTxgy6f3UK6POkwn92nnpUa6Z5lYiO59Y4JNbzNTKNa2Z3DeeQb/R8QVb5fEbr6v6XjQIHr85ojettfHoxR/6DHreKweygSupxElAFgAp7pncaFqb+Z6jurXsdCSk9h7cJ83FncjHTOON1tgKzCtw8htGCmi36v4JK3N01Tz1c4GlcR6/Wq1PoR71SlI/7vT+DPYrst3md5PPVxuZoHXubKN0L4FXJtUh1Ivy5lUNauVefH9UK/Q2gx21VIhcFObo7sjtvFgtZCOrzEJEqKH5SMCMyKiGoz0ZovebWKVmFnjcLQS9cldjNz5nnR9dGe/VbnX7JNMYraAnmEVoFvDVPPXyeqrl0qmQ64ydn2F0MHvn8jF9V8ZFN/QO8Ksrj4ctVfaz8v6pVuc607Kq6AO/NbVUiREHl6MJFQxTrXDCq0xydJOR2oyLD28lGBY7Qfby9rHWyka+vxEvVn8jBrYIXAtGpEsAVgkdj9X6vmKfWcxzhCXFECIqcaMMQg49BGxnNdbXe1bpUr4pdNOqa6C82ZY9aT4C7kE+36uNovfIcqbhQDKrPOIkfrZGwN7dVCTmjHLNVvLMDyyT8ciE9euWZ2x29Zgr8pE2mIJyhJXKqQA4UqNVuTngQx3ii2PWETzWeswVSz+LzpIRy9IzOyjxVVP2MrLWoBO2jxMPuYrCH1sHHln1Da5d9sFUsAd6dHCMRCxnfNFViEWCUp1WJ7MThyFEErnbqqgCNnDBlKnEyKygzPib1LwGsn3tCUNwhBl2gyqoTniOumKdKUM34xNlTYLiPyj/CxyT65CvxOUIQdqaqW4FvmshvcJaniMGj05MzAqvirLAIqu/pnflHCd6XnjuCe+QErCqq+myVap5WxGX13crZ+fZ/aKB5mREFul9uL2ud0MJjqfws/Dav2+yaA7wbrY2Tb5rOHgIAiKeIwTgBc1MB0CvdK6l2V7OngqLqZ1Vg6P7eV9iooLta8FTPN/paNnN2nvzVh2xGdFengldvMOAcvj7y5bxuygMrMQqvTfaJz2ISX8+i2jgpP+aDCU7P4SqeIgar0yPZlf9rFFEF06owiFO7bKvCtRI8spmx5Z1h2Op41M77qr7YP4L3I5sZl58KzrSvNhl3bDDgHL5h0Brl+HpmAYbnkX3is9izfdHHk/OjYgYhCFfxFDFYCatV8XFEdXq2Ijirk7wz463GJZtJPN72zHiuegVezZPWepTqVG/kf4sgcV2dSEowIwQ/H9Xrr7CZU2R4Lyp/eLY9WwxWeU2mvLrr6bkEsM/Hylss+JqHi8HqFEp2RxGoROdKAFUnThJ0q1SnXwr6UaoTz6vHs5IEq3kaEXNBdWKc/UJrp3HpMwmKVqLU8yAqPi+V6Jed+Q4uvD6VTzzbni0Gq426bGfxU9U/Nv3nebgYVJH2hZw5PRqlcpjV+1QiZfWVdrWrkc0Ed5UgVsVPdZonW6Gap9HvQIpKvI+a2sZ3z+BzU20IV7++AfDOVPVy902Tv1k481YM/uPhYrASMmdOtVpUr6JmTt+ClnhbPaKvTkVmReqV3xesTvOunKfRnXUl3t00TxqbTD6jNdZ8sit8PVz4z8YAwA5Um/WZty3viL8R2n0+ruLhYrASMne80nOHkc2cUgVXn2RWYnjGmSvRdWZnJFHl/a2I82qeZKNU4v2OTcLdjIjaZ9hnQgXOxaAMUQ/wNVVe3f0kzHPH6ls6+JqHVonW6dEdRaD6HtyKGKz6ObMTqUTqjDNXJ4tnRNNVormap5lXf5UoXRnHs0EMHqNYr4SgjFf8AP9R5fow1VKAK3lolagK5V27HL+PbPSVZdA67TojUqr+Zl45V6LpzMlqVZhnn681TzMi9SpR+mwQg21UwKo3A2GvuN4Ad9A6PQ+brWUAPR5aJZTs3anvet/v95HNBJAKVysYVwOxJRRmqE7gzpysel+ymRMazVM1JtnMiWclBl8x4bXW+Nn2GchrrI2CC0P9HWB3vPZU3+tm4wRX89AqURX8u973+31kM+JCIrXqQ7ZKJYZnCqBEn7c/e7Lq/clmxGB1Uhk2M9+Vb/Da8H3IfhJfH6hiDGBn/PQ8/uWwH0ywcYKreWj2zc4cdtfpT3WvUXEROzEJrSuDsCp+Mzu86nXszKvYCu9PNjqmGE/rBHWGSgyu7n71ikX9zbx+h/vI/2hKvhIn2dXm6Ip8oD5yrKm4tnxBxVfjyAVYca/P9LcKjV/PNNNmBuUpxbWfuMunlZti/vRMGoNsNLdpfLlvrYd+74075imPKYQKXEf2Kf0cVPnxCpTD8z0VN0d+736ptkdfU1IszrbJyMejXWUj+SLGEHVKYzm6v/6W80fESMTdu/IwMdha1Luo7qVk1iOPUz9nJ5adSYCVaJopfnJIb3/2ZNX7k408o+YmnkfB4/OUE9kIlVDW886Sx6X/vnsAf3bkG3lNcxKW7+e/yUZitIWKWFU0ZZUvaCxVTIZVPqx4O2qj+6+i+fA4apnHy0geybHhdjRutcuCIWwlPqFNzu9aJ817oLjIcy+bqR2O+m75WuX3eUNXmdcMxWKvzUisVzkiW4+jMfgGquXnYVUOeSceJgbjtC3bmcTZo3J0JdAjcrKUo2rhvY+WA8vpcqFz1Lf3JevtyDNVoWslBF2bk0mLqs+ekMvzpASmZ/A+ZgtF5R+6x8z8eHHvrTfciwtB94nKb1o5QbGov7WSsXyyJ6Ry7ObCe2Q5plfajOJFS8+ifsL/9V/372w91L43P1UuOWp3diMK/+G+5T4k4ZL/LmvVIrWVP4XvOEd+FBa+oD6OBFK2iM2VNkeoP43Z2x7VKbWpalu2XB/0vL05kc3WtVfiYWKwSqRy2LtoJe6WQMrOEAVJn3n76nVMdtTW65pZZ66onLVK4PHsur4XbK2dU9WvyPOk8SvoqnnS886gcXofspHgU1s/KYmxwf3k9Vd8ad7dr1rroc/zdbLqukjsEiZO3pyov/BdH0Mk/xwfKqhxv8qPw/9abapNzGxei77Djny+yiMtAZ2J+ND8KF40fi+Wfl9dU61PWCuXQhv5juZOfqz51Vr01kHo2nyNTGvj6LqIhaqf7D/yiZYvyK/z+sfmJIjnyKa/t9roc/dz2ejXG4SPsRVneQyaixiDC2r9TciP4zONMfxac+P+H23ekYeJwWp3OeMIs2Snz6Zx5Ptq4bOTavHlTKIqDr4bzvfJbZ0qEKpgPcLby6LwBfk+I/17gITlIBI+T/q7gkVUiWGlUHiwh+lzjTPPre6t8bkIlB2tA1xPJYiyZV9xqs1I9juR+69yRvTh6+7xK/+NvnRtNabs4zL5Xu6/auN+q99H8fv1Ylb3z9fLFH9HRIxrHTyGcj/KjZk8tnj2aPPORfFOqnyVTfPcQn/z690fo/9WzEUf7meew3Nu1bVVPvWarj5y/1WbfH20GcWfv8oFIvu716HcXuPX33WdzPOO0Ge5jexdeciTedIJq5z1SioBemRytqNikq+R5QBS4FTOH1RjqZzvCA8GWQS15jInGg/2I2bnyYOsEnErRGB6XzPWSkJwH70Cd7QxiMSdTT4Qm5wsBI9O3BSLvu4ev+GnHucZL4rhj0dt3P+PxpnxZ9c9RshtZL4hrNA8VsXTc0o8Y573mVwCxxzlN+Xho9xVbZy0fsr9aqd1is9bQknXVQLM/T58+mjt3e/j2Y7a5OtlrXFWeNsj/aDaWuWd3F7jD/9v5ahKA7wrD3myKuHL8e+mum/LqmSv30fESS9Zqp+q3awY9oBt2azIrBy+ZVo3DxyfIwXZKtVObNRUwODxHG0mRnxxZDOyIkiyoAmTrx7FXVVwe228KI74YZVbRkSdYi+3kXnemsFzinJmzgcr8w418qE819nkC0ebJnHUPtts/hfVhq63OfGNxEgbv773zIH7/Yp+qGJHdjRfXo/O1LbPzkPEYJVg5XyPYERcaHythFoVlDAF8EjgVaJUbWfRGKsADFOAjBSUCj2HFye36vSzCrBq5zmDnmFEIISpYM0Ka7iGVoEajQ3RStJhoydtjvzC++qNyYWdrHd64XEzUuCqk5gRPJf0im8P3wgqxuN5EILX0qpFynUjPiOuqEcVVb7t5VS/Xvc/auNxrutH8blb8c1q/ns6xON0NRe9Ag8Rg5WAeeQpjhxUzpMdXmPSwo6ICCXg/Az6WU4yuiO/UgzrnnqWXIBUSFaTQKaaJ/2sz1rJyoNFtipIHT2T5skTlX7X5/KhkfWD+5BfVP4yuy7qR2sa/ci/1c8ZX3K/GRFcOa5G2ug58/WyEfw+PcEZ3FGccn9hynGj+Q3GUD7L6z5bRwKvR/Lz0VpWUfmwxnWEC7uRNi7GRjdAQrkgt13RD96H1qI39xpjbnNFnf2svO8LcGiiQLoq2eekFAbwbKoC1xOWK21WCpyf7qkojeLFaVREHuExfFVugNfAfXhEJK20cTHWE48Z39i1DieO8D5GNlL5etnKfV8FKvdm5IBUAK/uJoWCPweKbPXEE+BKvFipEPRwkSZR1GOlwHmb0Zip4u0K0eZvLq4QmPA6uD/q9x7uMyPCysXY6Kl/tUmbpeqjV/s0vnz9zKbtFUEMboQHvYLzTDGpvr/yzsfo8DqsFCtvMyLsVk4svM3oCYkL3BGxOsLKc8P74CfDI5sBbzN76j4jrNzvZ14vB77RG9kcely8+0EHYnATPKBkZ4WbJwTZFScVAGdZKXD+CrZX4Px7U6MFLreRjZ6Q+PhGBG6PKi+sFFt4TVZPm71NDz84mBFWK6fvzoqw8xyy8j3FVwIxuAnu2GePvP0IXTbyegHgbqoCN/J1CG/TY6XAVa+rRsRgFW9nN3OVEAyDPVg5MXNfHNk8KDZymxlhNXsKWTEr7Ko4fefvCwqifhPcsc/u/v2UQjZScAHu5ooCp+LRw2NgpMBVom6kuHkxk52JtywEtYnTaUvu+90LH/yDn5iNbOjdV0ZOqPP1slH/Wj25zFR99GLON0rv/n1BgRjchOzYsjNi0Iut7IpXVgBX4MVq5MTO24wUxXy9bKTArYhBL9iyEYHbQuNUcVM/Epkqll783v2VGPzDyobG2/ROqN3nZ4SVtx3ZpDlVzPVYea386iAGNyE7tmwlqIQKRxSSMBWm2d0awF1cUeB6bSSo8vUyR9d4oaxOKY6KaYg0PxmsNnO6tidItZGL+NV/43p/nqp/FVVE4nuR11zW8x8x20Y+k6+f8d2RjV3P772P6v6O5wP1kVEc+2evDmJwE/w7G7KRwM8oALwo5YIC8BnI/inrnbwJb9Pz6d5pg9qH6PJ/vOKbqdYpZBQxbbbUX27jBS1Eo/qO18fxWVzrRbk3rvwaWrGvcVTt4DVZOTHzNvKZHj0xVvlu4G1dgOW2rQOJnrCrCF8Pyzkk18F3eiOGGNwELyYyOXQrgBwFgweIAhAhCJ+JKwrcapuIBYmuEFZVjEn8edt84iaxFQUsYszvF6fxsvxKKxen6j5hVUH067WBVP8q0FH8dnhdtgs9kVZxRZuW71aboqO22V8lClvk9rKRzUzEb1jEleIwYuHd6h9icCMUMO7k+l2OLidXgGXk6GrjOyuZPjvzBXaAO/DiocTdY6XAyfdzm8pUrDymRCUkK1Phy8WmuiabF8QoWm5V0RW9cUUhhvfA83reSLTwNoqdHnF6d2Strx+MtHW/z1Q+PeLD1Zu0bO8mBAVicDNUxPwEYMaUDBRgAJ8RT+IjBW6ljdB1uV22XpHsFTnFmRetVtyqMPlph9pW17aEYODFPuwdi9/u+MHAyonZ6FcGWhuTyncz8uOjtr1a5F+NGNkcCvl6bpetis13ADG4KXJmFSQVNDm3dv0tx1cBUVBxEgifHS9WR6cGwWqBExJ90V4xpFgZjRPdJwtR9aPfWwVOMav+8/10/6owqZjlmFYcjzyX+vIx6Z7vWPx2phI7Pb+t2oz6RfhutJMoa/muc6atb/TUzyiKwyxE1ddIPnlVEIMAAAAAG4MYBAAAANgYxCAAAADAxiAGAQAAADYGMQgAAACwMYhBAAAAgI1BDAIAAABsDGIQAAAAYGMQgwAAAAAbgxgEAAAA2BjEIAAAAMDGIAYBAAAANgYxCAAAALAxiEEAAACAjUEMAgAAAGwMYhAAAABgYxCDAAAAABuDGAQAAADYGMQgAAAAwMYgBgEAAAA2BjEIAAAAsDGIQQAAAICNQQwCAAAAbAxiEAAAAGBjEIMAAAAAG4MYBAAAANgYxCAAAADAxiAGAQAAADYGMQgAAACwMYhBAAAAgI1BDAIAAABsDGIQAAAAYGMQgwAAAAAbgxgEAAAA2BjEIAAAAMDGIAYBAAAAtuXj438NyPkbYwvnfAAAAABJRU5ErkJggg==)"
      ]
    },
    {
      "cell_type": "markdown",
      "metadata": {
        "id": "LgnJ-46m_QHn"
      },
      "source": [
        "O grande ponto positivo dessa fórmula com certeza é sua simplicidade. Por outro lado está longe de ser perfeita, uma vez que apenas utiliza os valores extremos da lista ignorando todo o resto. Outliers nesse caso causariam grande impacto."
      ]
    },
    {
      "cell_type": "code",
      "metadata": {
        "id": "BjnRyMjO6ae1"
      },
      "source": [
        "def data_range(data):\n",
        "  '''\n",
        "    Calcular a Medida de Variabilidade Range\n",
        "  '''\n",
        "  range = max(data) - min(data) \n",
        "  print(f'Mínimo = {min(data)}')\n",
        "  print(f'Máximo = {max(data)}')\n",
        "  print(f'Range  = {range}')\n",
        "  return range"
      ],
      "execution_count": 7,
      "outputs": []
    },
    {
      "cell_type": "markdown",
      "metadata": {
        "id": "g6sVzqyOA_Hq"
      },
      "source": [
        "Se considerarmos todas as idades do dataset o resultado foi de 58, no entanto se eliminarmos os outliers conforme o boxplot acima nos mostrou, o valor cai para 18. O nosso resultado teve uma diferença de 40, algo bem significante."
      ]
    },
    {
      "cell_type": "code",
      "metadata": {
        "colab": {
          "base_uri": "https://localhost:8080/"
        },
        "id": "TCHuOoMJA5tq",
        "outputId": "c7876864-b820-48d1-b70b-a34d6a22c0f5"
      },
      "source": [
        "data_range(df.NU_IDADE)"
      ],
      "execution_count": 8,
      "outputs": [
        {
          "output_type": "stream",
          "text": [
            "Mínimo = 14\n",
            "Máximo = 72\n",
            "Range  = 58\n"
          ],
          "name": "stdout"
        },
        {
          "output_type": "execute_result",
          "data": {
            "text/plain": [
              "58"
            ]
          },
          "metadata": {
            "tags": []
          },
          "execution_count": 8
        }
      ]
    },
    {
      "cell_type": "code",
      "metadata": {
        "colab": {
          "base_uri": "https://localhost:8080/"
        },
        "id": "JmFEAi-yA5kD",
        "outputId": "60fc4928-a548-461d-c90c-62f610e29a2f"
      },
      "source": [
        "data_range(df[df.NU_IDADE < 33].NU_IDADE)"
      ],
      "execution_count": 9,
      "outputs": [
        {
          "output_type": "stream",
          "text": [
            "Mínimo = 14\n",
            "Máximo = 32\n",
            "Range  = 18\n"
          ],
          "name": "stdout"
        },
        {
          "output_type": "execute_result",
          "data": {
            "text/plain": [
              "18"
            ]
          },
          "metadata": {
            "tags": []
          },
          "execution_count": 9
        }
      ]
    },
    {
      "cell_type": "markdown",
      "metadata": {
        "id": "O8LPxwAJYfT8"
      },
      "source": [
        "**Desvio Absoluto Médio (Mean Absolute Deviation (MAD))**\n",
        "<br>\n",
        "![mad.PNG](data:image/png;base64,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)"
      ]
    },
    {
      "cell_type": "markdown",
      "metadata": {
        "id": "3PrN7cWfBosc"
      },
      "source": [
        "Ter valores dispersos no dataset, poderia ser dito como ter valores que desviam da média:"
      ]
    },
    {
      "cell_type": "markdown",
      "metadata": {
        "id": "1XKgW-7TCGsy"
      },
      "source": [
        "![media.PNG](data:image/png;base64,iVBORw0KGgoAAAANSUhEUgAAABUAAAAhCAYAAAA2/OAtAAAAAXNSR0IArs4c6QAAAARnQU1BAACxjwv8YQUAAAAJcEhZcwAAEnQAABJ0Ad5mH3gAAAEaSURBVEhL7ZRtDYMwEECxgAYs4AEJaMACDnCAAxSgAAMYwAEeuryl1x2jH2QDfvGShtCW1+v1SmYu4JGez73SaZpMlmWHG/OFe6X/8Ej3rOtqmqZ5H0Ce56bvezvyQc9JHhSTy7J0k6XN82xn+OdodtK2bU1RFGZZlk1Z0S8gZAcsRD/vmp20qqrNVlgAKf2ARIQhvDnVIJFox3F0zxhJqYikdV1nR8IkpeRWhHVd2944SSmQw1OlHIhIObQjRKXUIyJdk6QjRVRKGSHU9ToMgx0NE5RyBdm2RObLK9fXVw1OKtHoO63rEZlES54l177/gpOyonxE+94m73qcxuI+nFQi4WBCN0ZuFxHqf8E30YP6lUd6PhdIjXkBOWqZZ5GtKNAAAAAASUVORK5CYII=) **-> média**\n",
        "<br>\n",
        "![elemento.PNG](data:image/png;base64,iVBORw0KGgoAAAANSUhEUgAAAB4AAAAiCAYAAABIiGl0AAAAAXNSR0IArs4c6QAAAARnQU1BAACxjwv8YQUAAAAJcEhZcwAAEnQAABJ0Ad5mH3gAAAFySURBVFhH7ZVhkYMwEEaxgAYs4AEJaMACDnCAAxSgAAMYwAEecvOYfL3QSUJLc/R+8M3stE02ecnuZpuZL+kGX6YbfJn+D3hdV9M0jcmyzOR5bvq+tzO/cn2waZrszOvagdmwLMvHhrJ5nq2H3+eMdqvatjVFUZhlWbZbaGPGJaBEgsMwzu8z2oGrqtqFjUMAZhwBEvRTReMESLcex/HxmUJRsGCyruvszOeKgsm1oHVd29Fjuev47lMUjMjpu+BhGLY1scKLgikigSm0lAqCea/A3DcbCtsZBcE8IaDueyaEMbFGvhiHD8kLph0SYt3Ql2daqa/K1UqPUrOBdSu3B7vvFSBjGHlX7n19nMPgxz4xbWA5y55Dqip1LbSxDuk7lKsNLGfCE+pM6mLc1O3dz1JajtpqsLjOCBhQ7EhJwYQXqP5UYkoKVspe6elJwWo2qhNeSegt/xmYfBPyULEmBQNxm02sxSYFv6MbfJm+BDbmB5SDlfbx9RDVAAAAAElFTkSuQmCC)**-> cada elemento da lista**\n",
        "<br>\n",
        "![absoluto.PNG](data:image/png;base64,iVBORw0KGgoAAAANSUhEUgAAAGsAAAAuCAYAAAAvKufTAAAAAXNSR0IArs4c6QAAAARnQU1BAACxjwv8YQUAAAAJcEhZcwAAEnQAABJ0Ad5mH3gAAAIeSURBVHhe7ZiLsYIwEEVpgRpswR4owRpsgQ7owA6owApswAbswB7y5jJezWPAD/lMLuyZyaiYwC4nLITKGTKYLCFMlhAmSwiTJYTJEsJkCWGyhDBZQszK6rrOVVU1NCM9TdMM5xqfc5isCFwul+e5+qah/xiTlQmTtTFMlhAmSwiTJUQWWff73R2Px6FfXdfudDo9/nnh90GbusGqEiv/5LIQxH6/f/Zju16vjx7TfdZCzPyTy2rb1u12O3e73f49vmI7QaCYcUgA2/F7LcTMP7ks7Ni/pBG4f0AEx0DXSMz8MSaprDEIjmPO5/PzcyuE5J9dFgNkwz5S48cZ2t6dqG8IyT+7LNRujjkcDo+tn/HH4fsvlCRraf4guyyAGv1rsH3fD2PW8PCxJH+QXRZupAwWN9utEZJ/VllYTyBAXB0c92tJUyY0/6yycBAE6q83UN7ewQDZkLAqS/L3ySYLr1Jw+XMmTdVtvIbBPsfwNYxy2QzJnySTxdmDK4En219PIEiORR1nLZ96b8bjYD8qxMyfJJPl/4c2vtz5dOe3ORlM7F0ipREzf5JMFk8wStfcCp2recwofJ+DJQOzT4WY+ZNksmIBQamPoULxslD6PgW4FYqXxXKCY22d4mVxAcm6j6cr5bVWCFKycP9CoHM37LVTvCyI4dMgSuKWXk+NKV6W8SJIllEeJksIkyWEyRLCZAlhsoQwWUKYLBmc+wN/sghKvCEHJwAAAABJRU5ErkJggg==)**-> diferença entre cada elemento e a média, no entanto convertido em valor absoluto <br>(sem o valor absoluto, o resultado de vários valores positivos e negativos se anulam atrapalhando o resultado)**\n",
        "<br>\n",
        "![soma.PNG](data:image/png;base64,iVBORw0KGgoAAAANSUhEUgAAADQAAABxCAYAAACa7YA0AAAAAXNSR0IArs4c6QAAAARnQU1BAACxjwv8YQUAAAAJcEhZcwAAEnQAABJ0Ad5mH3gAAAQpSURBVHhe7ZwBceMwEEVDoRhKIRwKoRhKoQzKIAyKoAhKoATKIBx88zL5czsayVLiXUm585vR9M5JLT3LX5Ycp4flH2MXmp1daHZ2odnZhdb4/f1d3t7elsPhsDw9PS1fX1+X7efzeXl/f79s47XX19fL9gjchL6/v5fn5+fLT0Ro+MvLy0UGSWT5N+/htc/Pz+tv+uLeQ4CUhJBBRLCN1z4+Pq5bfAnJEEefRlMkKY7H4+P0kFCO+GmhpyT68/Nz3epLiJByokFBKFuUKNz3bHvBZgcY6dhOjqJwF1Iv0Espyk/UgADuQjSWRqf5AbZTGAUhHTA8cBfSsHw6na5b/qILK0L2uuWJu5B6ITeKMVQjRdHF1ht3odHsQrOzC83OLjQ7/4+QLpAzlZZJbVFIS4CZyiYhpi65nUbe4LAwa9fsXGWTEDDBtDtUyU08I2A9pQktZbMQ0CNWhkIlUUvoFHt/wkWIo5TLE6dDuiKNwK6AXYSglKfcIi4CRKjPTQhKeUpvhESgVbCrEJTyFLFQs+g+hbvQWp5m4SYhKOWJW1QzcLMQjMxTjbuEoJSnHkP5GncLlfLUEtxI7haCUp4i74zW2CQEpTx530BsZbMQzJQnF6FSnnotNSwuQlDKU6+lhnATglKeei01wFUIcnnidOyVJ3eh0XlyF4JSnqI++baECEEuTz2W7mFCkMtT9NI9VKiUp8ile6gQlPIUtdQIF4JSniLoIgS5PEXQTSjNU9R1qZuQzVLkzKGLUNo7kdeiLkI2P9Gz73AhO8L1mM+FCvXKjSVMqGduLGFCPXNjCRHqnRuLu9CI3FhchUblxuIqNCo3FjehkbmxuAiNzo1ls9AMubFsFpohN5ZNQvp0mjIyN5a7hfi4RDKjc2O5S4jGc09AQqNzY7lLSE92UGbIjeVmoVG50UGsfdx5k9DI3KheN6GRueHRG3ehkbmxz8zV6m4SGn29sRfv2qfrVaHR1xs7T9wsNPp6o+8buQnZ3MxSas/mFYVsbmYqNbLvsLmZrdTIvmPW3qHUeCihlkdB68oPxi40O01CdnIY/Yz2VpqENDmc6fnsEnuGZmdVKJ3LRcy0mZWoHmbzyig/tWxgglpb2IlqD/FcjirLIdnWQuMFizVySeP11zBoOLN6/s8BtMuHlgGpKqRZQ+mBI1XWWqwQDVav23rS71Hod2tLB6gKqdujl92lMwFhCbn0kBZY0Ys7RKgnfepR3x2iHS2sCtnzNxKOvOpJB55b/9LMaks5zWo7U0NaS25f6oXchZttvOYyyik/aztTQ1tLTki9kA48Nj8tAwKsCuno6OlDOyp5giT1pPmxK2dRGxiahcgTFUc8WqlGpwNPmmEiULuVtipE4zXKcfq1DJu3ol4ojWI6HRHh1K+dIatCj8guNDu70OzsQnOzLH8A0LLjvnkkYwkAAAAASUVORK5CYII=)**-> é somado o resultado anterior para cada elemento**\n",
        "<br>\n",
        "![dividido.PNG](data:image/png;base64,iVBORw0KGgoAAAANSUhEUgAAABwAAABXCAYAAAAXkiU7AAAAAXNSR0IArs4c6QAAAARnQU1BAACxjwv8YQUAAAAJcEhZcwAAEnQAABJ0Ad5mH3gAAAHNSURBVGhD7ZkBrYMwEIaxMA1YwMMkoGEWcIADHEzBFMzADMwBHvryE/6Xy9712rFjIXn3Jc0YdP3KtYX01qQvE0J3QujOZuE0Tel0OqVxHNczdbwtvF6vqW3b1DTNUnYTvopY7vf7WqOOovB2u/2KLpfLIui6bl9h3/fp+XyuZ9ISxt2EGiG0CKFKCC1CqPK/hHi4v8MmIV5TFA7DsJ6to0r4eDyW0OFupExKcR0FdS2qhOfz+Y8kV1DXYlNIPyGE7oTQnRC6E0J3jiHUXjtbyyvHEO5JCN0JoTshdCeE7hxLiP0ec6PImcoU5jzPy06YuVR81uyGs0JkgOV7DQWbUQCZTNLKIjuloQopQyIdsHFsNimTSVscU1i6S1UIEaSEO2A0jGPeKYGEQvk7japJQyHGSdtSS2EpjVIlZGP4n0IbI5lGKVGsgR6zsVyKRIa8RFEoe6+lRDCJeJ2TzKIoZO8RTg05fqUcDSgKIUJjuXAhzFaHXjGF6DF7nwsX12jN+AFTCAmFuenO6xhrgnWaW4+mUD5BcvA6Hwb4RHhz42kKOX7aYiesw4Lv1tMmK8QCZyNWihKNU4qIuGQTPQmhOyF0J4TuhNCdLwtT+gH+PHMQCe2RUQAAAABJRU5ErkJggg==)**->e por fim dividido pela quantidade de elementos**"
      ]
    },
    {
      "cell_type": "code",
      "metadata": {
        "id": "eq6nkFLy9kBk",
        "colab": {
          "base_uri": "https://localhost:8080/"
        },
        "outputId": "19cd1921-c54b-4982-fc0c-b4ec951d2649"
      },
      "source": [
        "df.NU_IDADE.mad()"
      ],
      "execution_count": null,
      "outputs": [
        {
          "output_type": "execute_result",
          "data": {
            "text/plain": [
              "4.734933204978034"
            ]
          },
          "metadata": {
            "tags": []
          },
          "execution_count": 6
        }
      ]
    },
    {
      "cell_type": "code",
      "metadata": {
        "colab": {
          "base_uri": "https://localhost:8080/"
        },
        "id": "IDhtlTzdMGJo",
        "outputId": "1b5b4da0-e975-473d-bef8-5963a92babc6"
      },
      "source": [
        "print(f'A variação média da idade dos inscritos é de {df.NU_IDADE.mad()}')  "
      ],
      "execution_count": 28,
      "outputs": [
        {
          "output_type": "stream",
          "text": [
            "A variação média da idade dos inscritos é de 4.629875638044762\n"
          ],
          "name": "stdout"
        }
      ]
    },
    {
      "cell_type": "markdown",
      "metadata": {
        "id": "VCzI0qT7Y3v0"
      },
      "source": [
        "**Variância (Variance)**\n",
        "<br>\n",
        "![variance.PNG](data:image/png;base64,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)"
      ]
    },
    {
      "cell_type": "markdown",
      "metadata": {
        "id": "B5Wgm9LdEDMs"
      },
      "source": [
        "A grande diferença desse cálculo para o anterior, é que calcular o absoluto pode influenciar negativamente no resultado, e uma forma de resolver isso é calculando o quadrado do resultado, pois naturalmente esse cálculo faz com que o resultado deixe de ser negativo."
      ]
    },
    {
      "cell_type": "code",
      "metadata": {
        "id": "lpceSOx5YnFe",
        "colab": {
          "base_uri": "https://localhost:8080/"
        },
        "outputId": "f1fc4fe8-a368-4911-fe52-df35c4493b1c"
      },
      "source": [
        "stat.variance(df.NU_IDADE)"
      ],
      "execution_count": 12,
      "outputs": [
        {
          "output_type": "execute_result",
          "data": {
            "text/plain": [
              "43.96280274329911"
            ]
          },
          "metadata": {
            "tags": []
          },
          "execution_count": 12
        }
      ]
    },
    {
      "cell_type": "markdown",
      "metadata": {
        "id": "rwG_sbSeMXTG"
      },
      "source": [
        "Aqui o resultado ficou muito maior e até desproporcional, já que olhando para a maior concentração de inscritos no enem temos jovens entre 17 e 23 anos, e a idade não irá variar em 43 anos."
      ]
    },
    {
      "cell_type": "code",
      "metadata": {
        "colab": {
          "base_uri": "https://localhost:8080/"
        },
        "id": "warvKjXZMQjF",
        "outputId": "8176c6e5-601d-476d-e808-78917fb38153"
      },
      "source": [
        "print(f'A variação média da idade dos inscritos é de {stat.variance(df.NU_IDADE)}')  "
      ],
      "execution_count": 29,
      "outputs": [
        {
          "output_type": "stream",
          "text": [
            "A variação média da idade dos inscritos é de 43.96280274329911\n"
          ],
          "name": "stdout"
        }
      ]
    },
    {
      "cell_type": "markdown",
      "metadata": {
        "id": "CskpDiYRY8Xc"
      },
      "source": [
        "**Desvio Padrão (Standard Deviation (STD))**\n",
        "<br>\n",
        "![std.PNG](data:image/png;base64,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)"
      ]
    },
    {
      "cell_type": "markdown",
      "metadata": {
        "id": "ZSa1R2iOEazR"
      },
      "source": [
        "Apesar de o cálculo anterior eliminar o problema dos valores absolutos, cria outro problema, distorcendo os dados, pois ficam ao quadrado e perdem a proporção inicial. Uma forma de resolver isso é ao final fazer a raiz quadrada do resultado, assim desfazendo o valores que foram calculados ao quadrado e retornando a proporção inicial."
      ]
    },
    {
      "cell_type": "code",
      "metadata": {
        "id": "TR2Au1t9ZFKr",
        "colab": {
          "base_uri": "https://localhost:8080/"
        },
        "outputId": "498942d5-35ea-4de1-8441-1608dcff3d94"
      },
      "source": [
        "df.NU_IDADE.std()"
      ],
      "execution_count": 13,
      "outputs": [
        {
          "output_type": "execute_result",
          "data": {
            "text/plain": [
              "6.630445139150973"
            ]
          },
          "metadata": {
            "tags": []
          },
          "execution_count": 13
        }
      ]
    },
    {
      "cell_type": "markdown",
      "metadata": {
        "id": "qePlHGWdNBO5"
      },
      "source": [
        "Esse resultado faz mais sentido, se olharmos por exemplo para a média que é 21 anos, a variação fica entre 15 e 27 aproximadamente, fazendo um pouco mais de sentido quando olhamos para o boxplot inicial."
      ]
    },
    {
      "cell_type": "code",
      "metadata": {
        "colab": {
          "base_uri": "https://localhost:8080/"
        },
        "id": "LKvxMB_eM5A8",
        "outputId": "b0c78069-9d63-43a6-add1-90e9bac23f79"
      },
      "source": [
        "print(f'A variação média da idade dos inscritos é de {df.NU_IDADE.std()}')  "
      ],
      "execution_count": 30,
      "outputs": [
        {
          "output_type": "stream",
          "text": [
            "A variação média da idade dos inscritos é de 6.630445139150973\n"
          ],
          "name": "stdout"
        }
      ]
    },
    {
      "cell_type": "markdown",
      "metadata": {
        "id": "8Tl7uOrPZFtV"
      },
      "source": [
        "**Coeficiente de Variação (Coefficient of Variation)**\n",
        "<br>\n",
        "![coefficientofvariance.PNG](data:image/png;base64,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)"
      ]
    },
    {
      "cell_type": "markdown",
      "metadata": {
        "id": "dbm2gVChEy6R"
      },
      "source": [
        "Apesar de o cálculo anterior não ter criado nenhum problema, ele ainda pode trazer resultados similares em situações muito diferentes, então esse cálculo pega o resultado da fórmula anterior e divide pela média, assim o resultado fica em função da média e é possível diferenciar melhor algumas situações."
      ]
    },
    {
      "cell_type": "code",
      "metadata": {
        "id": "h-4tL479ZL3d",
        "colab": {
          "base_uri": "https://localhost:8080/"
        },
        "outputId": "09112a30-cf7f-48ed-a1f7-b0de53eef59d"
      },
      "source": [
        "variation(df.NU_IDADE)"
      ],
      "execution_count": 18,
      "outputs": [
        {
          "output_type": "execute_result",
          "data": {
            "text/plain": [
              "0.3084838895587977"
            ]
          },
          "metadata": {
            "tags": []
          },
          "execution_count": 18
        }
      ]
    },
    {
      "cell_type": "code",
      "metadata": {
        "colab": {
          "base_uri": "https://localhost:8080/"
        },
        "id": "7p5iyIPCGrp4",
        "outputId": "aacd414f-a622-48e8-d777-0dc46456272c"
      },
      "source": [
        "print(f'A variação média da idade dos inscritos em relação à média é de {round(variation(df.NU_IDADE)*100,1)}%')  "
      ],
      "execution_count": 27,
      "outputs": [
        {
          "output_type": "stream",
          "text": [
            "A variação em relação à média é de 30.8%\n"
          ],
          "name": "stdout"
        }
      ]
    },
    {
      "cell_type": "markdown",
      "metadata": {
        "id": "kb5f6eSnKDrH"
      },
      "source": [
        "Nesse caso dos inscritos no Enem, 30% da média que é 21 fica em torno de 6.4, não muito diferente do que calculamos no Desvio Padrão.\n",
        "<br><br>\n",
        "É possível perceber que diferente do cálculo de amplitude, nos demais cálculos não precisamos nos preocupar com os outliers, pois não influenciaram muito nos resultados."
      ]
    }
  ]
}
