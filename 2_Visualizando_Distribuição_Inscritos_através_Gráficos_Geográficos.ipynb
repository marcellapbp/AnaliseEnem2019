{
  "nbformat": 4,
  "nbformat_minor": 0,
  "metadata": {
    "colab": {
      "name": "2_Visualizando_Distribuição_Inscritos_através_Gráficos_Geográficos.ipynb",
      "provenance": [],
      "collapsed_sections": [],
      "authorship_tag": "ABX9TyMm7Fs5wPkJ9ooE8Ze558/a",
      "include_colab_link": true
    },
    "kernelspec": {
      "name": "python3",
      "display_name": "Python 3"
    }
  },
  "cells": [
    {
      "cell_type": "markdown",
      "metadata": {
        "id": "view-in-github",
        "colab_type": "text"
      },
      "source": [
        "<a href=\"https://colab.research.google.com/github/marcellapbp/AnaliseEnem2019/blob/main/2_Visualizando_Distribui%C3%A7%C3%A3o_Inscritos_atrav%C3%A9s_Gr%C3%A1ficos_Geogr%C3%A1ficos.ipynb\" target=\"_parent\"><img src=\"https://colab.research.google.com/assets/colab-badge.svg\" alt=\"Open In Colab\"/></a>"
      ]
    },
    {
      "cell_type": "markdown",
      "metadata": {
        "id": "6d2JWHtazJ03"
      },
      "source": [
        "#Visualizando Distribuição de Inscritos Nascidos em SP através de Gráficos Geográficos"
      ]
    },
    {
      "cell_type": "markdown",
      "metadata": {
        "id": "-qfOIQQ3ytbc"
      },
      "source": [
        "**Fonte de apoio**\n",
        "<br>https://www.kdnuggets.com/2020/09/geographical-plots-python.html\n",
        "<br>https://joseotaviobiscaia.wixsite.com/geopdf/arquivo-das-cidades-em-excel\n",
        "<br>http://metadados.inde.gov.br/geonetwork/srv/por/metadata.show?uuid=46e1b9ec-5ed7-4450-ac42-26f948130fa6\n",
        "<br>https://plotly.com/python/choropleth-maps/"
      ]
    },
    {
      "cell_type": "markdown",
      "metadata": {
        "id": "SJYYQ9rYzwgv"
      },
      "source": [
        "\n",
        "Introdução\n",
        "---\n",
        "\n",
        "\n",
        "A ideia desse experimento surgiu após a leitura do artigo do [KDNuggets](https://www.kdnuggets.com/2020/09/geographical-plots-python.html) junto  da curiosidade em saber qual a concentração dos inscritos no Enem 2019 nascidos no Estado de São Pulo em cada cidade. Com essa curiosidade em mente logo surgiu a primeira hipótese de que a concentração tende a ser maior próxima à capital, principalmente por desigualdade social, de forma que quem mora mais próximo a capital tem melhores condições de vida, maior interesse em participar do Enem e até maior facilidade no acesso a escolas no dia da prova, também com melhor acesso à internet para estudo entre outras questões.\n",
        "\n",
        "---\n",
        "\n",
        "Importando Bibliotecas\n"
      ]
    },
    {
      "cell_type": "code",
      "metadata": {
        "id": "Poi2MrI5mkZ9"
      },
      "source": [
        "#para manipulação dos datasets\n",
        "import pandas as pd\n",
        "#para plotar o gráfico\n",
        "import plotly.express as px"
      ],
      "execution_count": 1,
      "outputs": []
    },
    {
      "cell_type": "markdown",
      "metadata": {
        "id": "O5DpazR07KX1"
      },
      "source": [
        "Realizando a leitura do dataset com dados dos Inscritos do Enem 2019\n",
        "<br>\n",
        "Essa amostra contém apenas inscritos nascidos no Estado de São Paulo"
      ]
    },
    {
      "cell_type": "code",
      "metadata": {
        "id": "DtO-wS1Cmq7-"
      },
      "source": [
        "df = pd.read_csv('/content/MICRODADOS_ENEM_2019_SP.csv')"
      ],
      "execution_count": null,
      "outputs": []
    },
    {
      "cell_type": "markdown",
      "metadata": {
        "id": "ecGQ60KQ7ggG"
      },
      "source": [
        "Conferindo os dados se estão tabulados corretamente sem nenhuma inconsistência"
      ]
    },
    {
      "cell_type": "code",
      "metadata": {
        "colab": {
          "base_uri": "https://localhost:8080/",
          "height": 273
        },
        "id": "LEs_Jrp6m4GB",
        "outputId": "1b73410f-5664-481a-c856-1ebdc980a6f0"
      },
      "source": [
        "df.head()"
      ],
      "execution_count": 3,
      "outputs": [
        {
          "output_type": "execute_result",
          "data": {
            "text/html": [
              "<div>\n",
              "<style scoped>\n",
              "    .dataframe tbody tr th:only-of-type {\n",
              "        vertical-align: middle;\n",
              "    }\n",
              "\n",
              "    .dataframe tbody tr th {\n",
              "        vertical-align: top;\n",
              "    }\n",
              "\n",
              "    .dataframe thead th {\n",
              "        text-align: right;\n",
              "    }\n",
              "</style>\n",
              "<table border=\"1\" class=\"dataframe\">\n",
              "  <thead>\n",
              "    <tr style=\"text-align: right;\">\n",
              "      <th></th>\n",
              "      <th>NU_INSCRICAO</th>\n",
              "      <th>NU_ANO</th>\n",
              "      <th>CO_MUNICIPIO_RESIDENCIA</th>\n",
              "      <th>NO_MUNICIPIO_RESIDENCIA</th>\n",
              "      <th>CO_UF_RESIDENCIA</th>\n",
              "      <th>SG_UF_RESIDENCIA</th>\n",
              "      <th>NU_IDADE</th>\n",
              "      <th>TP_SEXO</th>\n",
              "      <th>TP_ESTADO_CIVIL</th>\n",
              "      <th>TP_COR_RACA</th>\n",
              "      <th>TP_NACIONALIDADE</th>\n",
              "      <th>CO_MUNICIPIO_NASCIMENTO</th>\n",
              "      <th>NO_MUNICIPIO_NASCIMENTO</th>\n",
              "      <th>CO_UF_NASCIMENTO</th>\n",
              "      <th>SG_UF_NASCIMENTO</th>\n",
              "      <th>TP_ST_CONCLUSAO</th>\n",
              "      <th>TP_ANO_CONCLUIU</th>\n",
              "      <th>TP_ESCOLA</th>\n",
              "      <th>TP_ENSINO</th>\n",
              "      <th>IN_TREINEIRO</th>\n",
              "      <th>CO_ESCOLA</th>\n",
              "      <th>CO_MUNICIPIO_ESC</th>\n",
              "      <th>NO_MUNICIPIO_ESC</th>\n",
              "      <th>CO_UF_ESC</th>\n",
              "      <th>SG_UF_ESC</th>\n",
              "      <th>TP_DEPENDENCIA_ADM_ESC</th>\n",
              "      <th>TP_LOCALIZACAO_ESC</th>\n",
              "      <th>TP_SIT_FUNC_ESC</th>\n",
              "      <th>IN_BAIXA_VISAO</th>\n",
              "      <th>IN_CEGUEIRA</th>\n",
              "      <th>IN_SURDEZ</th>\n",
              "      <th>IN_DEFICIENCIA_AUDITIVA</th>\n",
              "      <th>IN_SURDO_CEGUEIRA</th>\n",
              "      <th>IN_DEFICIENCIA_FISICA</th>\n",
              "      <th>IN_DEFICIENCIA_MENTAL</th>\n",
              "      <th>IN_DEFICIT_ATENCAO</th>\n",
              "      <th>IN_DISLEXIA</th>\n",
              "      <th>IN_DISCALCULIA</th>\n",
              "      <th>IN_AUTISMO</th>\n",
              "      <th>IN_VISAO_MONOCULAR</th>\n",
              "      <th>...</th>\n",
              "      <th>TX_RESPOSTAS_CH</th>\n",
              "      <th>TX_RESPOSTAS_LC</th>\n",
              "      <th>TX_RESPOSTAS_MT</th>\n",
              "      <th>TP_LINGUA</th>\n",
              "      <th>TX_GABARITO_CN</th>\n",
              "      <th>TX_GABARITO_CH</th>\n",
              "      <th>TX_GABARITO_LC</th>\n",
              "      <th>TX_GABARITO_MT</th>\n",
              "      <th>TP_STATUS_REDACAO</th>\n",
              "      <th>NU_NOTA_COMP1</th>\n",
              "      <th>NU_NOTA_COMP2</th>\n",
              "      <th>NU_NOTA_COMP3</th>\n",
              "      <th>NU_NOTA_COMP4</th>\n",
              "      <th>NU_NOTA_COMP5</th>\n",
              "      <th>NU_NOTA_REDACAO</th>\n",
              "      <th>Q001</th>\n",
              "      <th>Q002</th>\n",
              "      <th>Q003</th>\n",
              "      <th>Q004</th>\n",
              "      <th>Q005</th>\n",
              "      <th>Q006</th>\n",
              "      <th>Q007</th>\n",
              "      <th>Q008</th>\n",
              "      <th>Q009</th>\n",
              "      <th>Q010</th>\n",
              "      <th>Q011</th>\n",
              "      <th>Q012</th>\n",
              "      <th>Q013</th>\n",
              "      <th>Q014</th>\n",
              "      <th>Q015</th>\n",
              "      <th>Q016</th>\n",
              "      <th>Q017</th>\n",
              "      <th>Q018</th>\n",
              "      <th>Q019</th>\n",
              "      <th>Q020</th>\n",
              "      <th>Q021</th>\n",
              "      <th>Q022</th>\n",
              "      <th>Q023</th>\n",
              "      <th>Q024</th>\n",
              "      <th>Q025</th>\n",
              "    </tr>\n",
              "  </thead>\n",
              "  <tbody>\n",
              "    <tr>\n",
              "      <th>0</th>\n",
              "      <td>190001017053</td>\n",
              "      <td>2019</td>\n",
              "      <td>3546801</td>\n",
              "      <td>Santa Isabel</td>\n",
              "      <td>35</td>\n",
              "      <td>SP</td>\n",
              "      <td>22</td>\n",
              "      <td>M</td>\n",
              "      <td>1</td>\n",
              "      <td>3</td>\n",
              "      <td>1</td>\n",
              "      <td>1506500.0</td>\n",
              "      <td>Santa Izabel do Pará</td>\n",
              "      <td>15.0</td>\n",
              "      <td>PA</td>\n",
              "      <td>1</td>\n",
              "      <td>4</td>\n",
              "      <td>1</td>\n",
              "      <td>1.0</td>\n",
              "      <td>0</td>\n",
              "      <td>NaN</td>\n",
              "      <td>NaN</td>\n",
              "      <td>NaN</td>\n",
              "      <td>NaN</td>\n",
              "      <td>NaN</td>\n",
              "      <td>NaN</td>\n",
              "      <td>NaN</td>\n",
              "      <td>NaN</td>\n",
              "      <td>0</td>\n",
              "      <td>0</td>\n",
              "      <td>0</td>\n",
              "      <td>0</td>\n",
              "      <td>0</td>\n",
              "      <td>0</td>\n",
              "      <td>0</td>\n",
              "      <td>0</td>\n",
              "      <td>0</td>\n",
              "      <td>0</td>\n",
              "      <td>0</td>\n",
              "      <td>0</td>\n",
              "      <td>...</td>\n",
              "      <td>EEACECDBADBEABAAEAEACAAAECBEEEBACACCDEDACADCB</td>\n",
              "      <td>ADBBE99999DEDDBCAAAEEDDDBAADCCACECDCAEBCBCEBBA...</td>\n",
              "      <td>EDBADBDBAECBBB*CBADBAECCBACECDEDECBACCECDCCAA</td>\n",
              "      <td>0.0</td>\n",
              "      <td>AAECACDEADCBCDDDBCBDADAEABCEBABEEBCBEECEBDADC</td>\n",
              "      <td>EEBCEEDBADBBCBABCCADCEBACDBBACCACACBEADBBADCB</td>\n",
              "      <td>ADBBEDCABAABBCBCDAAECDDDBAAAECADECDCEBDEEAECBD...</td>\n",
              "      <td>EEEADBEBACABCDBABECECACDCBDCCEDCDABEDECDDDBAA</td>\n",
              "      <td>1.0</td>\n",
              "      <td>160.0</td>\n",
              "      <td>200.0</td>\n",
              "      <td>180.0</td>\n",
              "      <td>200.0</td>\n",
              "      <td>200.0</td>\n",
              "      <td>940.0</td>\n",
              "      <td>H</td>\n",
              "      <td>E</td>\n",
              "      <td>C</td>\n",
              "      <td>B</td>\n",
              "      <td>7.0</td>\n",
              "      <td>C</td>\n",
              "      <td>A</td>\n",
              "      <td>B</td>\n",
              "      <td>C</td>\n",
              "      <td>A</td>\n",
              "      <td>A</td>\n",
              "      <td>B</td>\n",
              "      <td>A</td>\n",
              "      <td>B</td>\n",
              "      <td>A</td>\n",
              "      <td>A</td>\n",
              "      <td>A</td>\n",
              "      <td>A</td>\n",
              "      <td>C</td>\n",
              "      <td>A</td>\n",
              "      <td>A</td>\n",
              "      <td>D</td>\n",
              "      <td>A</td>\n",
              "      <td>B</td>\n",
              "      <td>B</td>\n",
              "    </tr>\n",
              "    <tr>\n",
              "      <th>1</th>\n",
              "      <td>190001019476</td>\n",
              "      <td>2019</td>\n",
              "      <td>3538204</td>\n",
              "      <td>Pinhalzinho</td>\n",
              "      <td>35</td>\n",
              "      <td>SP</td>\n",
              "      <td>19</td>\n",
              "      <td>M</td>\n",
              "      <td>1</td>\n",
              "      <td>3</td>\n",
              "      <td>1</td>\n",
              "      <td>1503804.0</td>\n",
              "      <td>Jacundá</td>\n",
              "      <td>15.0</td>\n",
              "      <td>PA</td>\n",
              "      <td>1</td>\n",
              "      <td>2</td>\n",
              "      <td>1</td>\n",
              "      <td>1.0</td>\n",
              "      <td>0</td>\n",
              "      <td>NaN</td>\n",
              "      <td>NaN</td>\n",
              "      <td>NaN</td>\n",
              "      <td>NaN</td>\n",
              "      <td>NaN</td>\n",
              "      <td>NaN</td>\n",
              "      <td>NaN</td>\n",
              "      <td>NaN</td>\n",
              "      <td>0</td>\n",
              "      <td>0</td>\n",
              "      <td>0</td>\n",
              "      <td>0</td>\n",
              "      <td>0</td>\n",
              "      <td>0</td>\n",
              "      <td>0</td>\n",
              "      <td>0</td>\n",
              "      <td>0</td>\n",
              "      <td>0</td>\n",
              "      <td>0</td>\n",
              "      <td>0</td>\n",
              "      <td>...</td>\n",
              "      <td>NaN</td>\n",
              "      <td>NaN</td>\n",
              "      <td>NaN</td>\n",
              "      <td>1.0</td>\n",
              "      <td>NaN</td>\n",
              "      <td>NaN</td>\n",
              "      <td>NaN</td>\n",
              "      <td>NaN</td>\n",
              "      <td>NaN</td>\n",
              "      <td>NaN</td>\n",
              "      <td>NaN</td>\n",
              "      <td>NaN</td>\n",
              "      <td>NaN</td>\n",
              "      <td>NaN</td>\n",
              "      <td>NaN</td>\n",
              "      <td>D</td>\n",
              "      <td>D</td>\n",
              "      <td>B</td>\n",
              "      <td>B</td>\n",
              "      <td>4.0</td>\n",
              "      <td>C</td>\n",
              "      <td>A</td>\n",
              "      <td>B</td>\n",
              "      <td>D</td>\n",
              "      <td>A</td>\n",
              "      <td>B</td>\n",
              "      <td>B</td>\n",
              "      <td>A</td>\n",
              "      <td>A</td>\n",
              "      <td>A</td>\n",
              "      <td>A</td>\n",
              "      <td>A</td>\n",
              "      <td>A</td>\n",
              "      <td>B</td>\n",
              "      <td>A</td>\n",
              "      <td>A</td>\n",
              "      <td>C</td>\n",
              "      <td>A</td>\n",
              "      <td>B</td>\n",
              "      <td>A</td>\n",
              "    </tr>\n",
              "    <tr>\n",
              "      <th>2</th>\n",
              "      <td>190001019850</td>\n",
              "      <td>2019</td>\n",
              "      <td>3550308</td>\n",
              "      <td>São Paulo</td>\n",
              "      <td>35</td>\n",
              "      <td>SP</td>\n",
              "      <td>17</td>\n",
              "      <td>F</td>\n",
              "      <td>1</td>\n",
              "      <td>3</td>\n",
              "      <td>1</td>\n",
              "      <td>1501402.0</td>\n",
              "      <td>Belém</td>\n",
              "      <td>15.0</td>\n",
              "      <td>PA</td>\n",
              "      <td>2</td>\n",
              "      <td>0</td>\n",
              "      <td>3</td>\n",
              "      <td>1.0</td>\n",
              "      <td>0</td>\n",
              "      <td>15567761.0</td>\n",
              "      <td>1501402.0</td>\n",
              "      <td>Belém</td>\n",
              "      <td>15.0</td>\n",
              "      <td>PA</td>\n",
              "      <td>4.0</td>\n",
              "      <td>1.0</td>\n",
              "      <td>1.0</td>\n",
              "      <td>0</td>\n",
              "      <td>0</td>\n",
              "      <td>0</td>\n",
              "      <td>0</td>\n",
              "      <td>0</td>\n",
              "      <td>0</td>\n",
              "      <td>0</td>\n",
              "      <td>0</td>\n",
              "      <td>0</td>\n",
              "      <td>0</td>\n",
              "      <td>0</td>\n",
              "      <td>0</td>\n",
              "      <td>...</td>\n",
              "      <td>BCDCABABABBCBAEEEBCACACAEDBCCAEBEABEADBAEACCB</td>\n",
              "      <td>BDABE99999BCBDADDBDCDAAECDEECDBCBCCDEDAACDEDBB...</td>\n",
              "      <td>DBEBAECBADCACECADBBBBCEBADCEABECAADDBEDDBAECB</td>\n",
              "      <td>0.0</td>\n",
              "      <td>DADCCEBBCCACBEEBEEBACBCDDDDADBCBBCEAEADEADAAE</td>\n",
              "      <td>BACCCBABBADCBCEEEBCACACEEDBCCADBEADBADBBBACDB</td>\n",
              "      <td>BDABEABCADBCBAADDBECDAAECDAECBECBCCDEEAAADDBBC...</td>\n",
              "      <td>DBEBACABCDBABECEEEDCBDCCEDCDABEDAADDDECACAECB</td>\n",
              "      <td>1.0</td>\n",
              "      <td>160.0</td>\n",
              "      <td>120.0</td>\n",
              "      <td>200.0</td>\n",
              "      <td>200.0</td>\n",
              "      <td>200.0</td>\n",
              "      <td>880.0</td>\n",
              "      <td>E</td>\n",
              "      <td>E</td>\n",
              "      <td>F</td>\n",
              "      <td>B</td>\n",
              "      <td>6.0</td>\n",
              "      <td>D</td>\n",
              "      <td>A</td>\n",
              "      <td>B</td>\n",
              "      <td>C</td>\n",
              "      <td>A</td>\n",
              "      <td>A</td>\n",
              "      <td>B</td>\n",
              "      <td>A</td>\n",
              "      <td>A</td>\n",
              "      <td>A</td>\n",
              "      <td>A</td>\n",
              "      <td>A</td>\n",
              "      <td>A</td>\n",
              "      <td>A</td>\n",
              "      <td>A</td>\n",
              "      <td>A</td>\n",
              "      <td>C</td>\n",
              "      <td>A</td>\n",
              "      <td>A</td>\n",
              "      <td>A</td>\n",
              "    </tr>\n",
              "    <tr>\n",
              "      <th>3</th>\n",
              "      <td>190001024874</td>\n",
              "      <td>2019</td>\n",
              "      <td>3548708</td>\n",
              "      <td>São Bernardo do Campo</td>\n",
              "      <td>35</td>\n",
              "      <td>SP</td>\n",
              "      <td>19</td>\n",
              "      <td>M</td>\n",
              "      <td>1</td>\n",
              "      <td>3</td>\n",
              "      <td>1</td>\n",
              "      <td>3548708.0</td>\n",
              "      <td>São Bernardo do Campo</td>\n",
              "      <td>35.0</td>\n",
              "      <td>SP</td>\n",
              "      <td>2</td>\n",
              "      <td>0</td>\n",
              "      <td>2</td>\n",
              "      <td>1.0</td>\n",
              "      <td>0</td>\n",
              "      <td>35904958.0</td>\n",
              "      <td>3548708.0</td>\n",
              "      <td>São Bernardo do Campo</td>\n",
              "      <td>35.0</td>\n",
              "      <td>SP</td>\n",
              "      <td>2.0</td>\n",
              "      <td>1.0</td>\n",
              "      <td>1.0</td>\n",
              "      <td>0</td>\n",
              "      <td>0</td>\n",
              "      <td>0</td>\n",
              "      <td>0</td>\n",
              "      <td>0</td>\n",
              "      <td>0</td>\n",
              "      <td>0</td>\n",
              "      <td>0</td>\n",
              "      <td>0</td>\n",
              "      <td>0</td>\n",
              "      <td>0</td>\n",
              "      <td>0</td>\n",
              "      <td>...</td>\n",
              "      <td>AC.BECDABAECBCBBEAACA.EDCDEAEAADCEABDAAACEBCC</td>\n",
              "      <td>99999CBEAEBBCEDBABEBDAADCEAEDEBBEACACACACDCEDB...</td>\n",
              "      <td>ADDCEEEDADABDBDAAACAECEBBABEBDBEEBADCEBDEDCDA</td>\n",
              "      <td>1.0</td>\n",
              "      <td>DADCCEBBCCACBEEBEEBACBCDDDDADBCBBCEAEADEADAAE</td>\n",
              "      <td>ACACEEBCCBABADBBBACDBBACCCCADCEBADCBEEDBBEADB</td>\n",
              "      <td>EBBADCABDABACBCEBDEEAAADDBECDECDDBADBCDAAECBCC...</td>\n",
              "      <td>DBEBACABCDBABECEEEDCBDCCEDCDABEDAADDDECACAECB</td>\n",
              "      <td>1.0</td>\n",
              "      <td>80.0</td>\n",
              "      <td>160.0</td>\n",
              "      <td>120.0</td>\n",
              "      <td>100.0</td>\n",
              "      <td>100.0</td>\n",
              "      <td>560.0</td>\n",
              "      <td>B</td>\n",
              "      <td>B</td>\n",
              "      <td>B</td>\n",
              "      <td>B</td>\n",
              "      <td>4.0</td>\n",
              "      <td>C</td>\n",
              "      <td>A</td>\n",
              "      <td>C</td>\n",
              "      <td>D</td>\n",
              "      <td>B</td>\n",
              "      <td>B</td>\n",
              "      <td>B</td>\n",
              "      <td>A</td>\n",
              "      <td>B</td>\n",
              "      <td>B</td>\n",
              "      <td>B</td>\n",
              "      <td>A</td>\n",
              "      <td>B</td>\n",
              "      <td>B</td>\n",
              "      <td>B</td>\n",
              "      <td>A</td>\n",
              "      <td>B</td>\n",
              "      <td>B</td>\n",
              "      <td>A</td>\n",
              "      <td>B</td>\n",
              "    </tr>\n",
              "    <tr>\n",
              "      <th>4</th>\n",
              "      <td>190001024931</td>\n",
              "      <td>2019</td>\n",
              "      <td>3549409</td>\n",
              "      <td>São Joaquim da Barra</td>\n",
              "      <td>35</td>\n",
              "      <td>SP</td>\n",
              "      <td>37</td>\n",
              "      <td>M</td>\n",
              "      <td>2</td>\n",
              "      <td>1</td>\n",
              "      <td>1</td>\n",
              "      <td>3549409.0</td>\n",
              "      <td>São Joaquim da Barra</td>\n",
              "      <td>35.0</td>\n",
              "      <td>SP</td>\n",
              "      <td>1</td>\n",
              "      <td>3</td>\n",
              "      <td>1</td>\n",
              "      <td>1.0</td>\n",
              "      <td>0</td>\n",
              "      <td>NaN</td>\n",
              "      <td>NaN</td>\n",
              "      <td>NaN</td>\n",
              "      <td>NaN</td>\n",
              "      <td>NaN</td>\n",
              "      <td>NaN</td>\n",
              "      <td>NaN</td>\n",
              "      <td>NaN</td>\n",
              "      <td>0</td>\n",
              "      <td>0</td>\n",
              "      <td>0</td>\n",
              "      <td>0</td>\n",
              "      <td>0</td>\n",
              "      <td>0</td>\n",
              "      <td>0</td>\n",
              "      <td>0</td>\n",
              "      <td>0</td>\n",
              "      <td>0</td>\n",
              "      <td>0</td>\n",
              "      <td>0</td>\n",
              "      <td>...</td>\n",
              "      <td>NaN</td>\n",
              "      <td>NaN</td>\n",
              "      <td>NaN</td>\n",
              "      <td>1.0</td>\n",
              "      <td>NaN</td>\n",
              "      <td>NaN</td>\n",
              "      <td>NaN</td>\n",
              "      <td>NaN</td>\n",
              "      <td>NaN</td>\n",
              "      <td>NaN</td>\n",
              "      <td>NaN</td>\n",
              "      <td>NaN</td>\n",
              "      <td>NaN</td>\n",
              "      <td>NaN</td>\n",
              "      <td>NaN</td>\n",
              "      <td>B</td>\n",
              "      <td>B</td>\n",
              "      <td>A</td>\n",
              "      <td>A</td>\n",
              "      <td>3.0</td>\n",
              "      <td>C</td>\n",
              "      <td>A</td>\n",
              "      <td>B</td>\n",
              "      <td>C</td>\n",
              "      <td>A</td>\n",
              "      <td>B</td>\n",
              "      <td>B</td>\n",
              "      <td>A</td>\n",
              "      <td>A</td>\n",
              "      <td>A</td>\n",
              "      <td>B</td>\n",
              "      <td>A</td>\n",
              "      <td>A</td>\n",
              "      <td>A</td>\n",
              "      <td>A</td>\n",
              "      <td>A</td>\n",
              "      <td>C</td>\n",
              "      <td>B</td>\n",
              "      <td>B</td>\n",
              "      <td>B</td>\n",
              "    </tr>\n",
              "  </tbody>\n",
              "</table>\n",
              "<p>5 rows × 136 columns</p>\n",
              "</div>"
            ],
            "text/plain": [
              "   NU_INSCRICAO  NU_ANO  CO_MUNICIPIO_RESIDENCIA  ... Q023  Q024 Q025\n",
              "0  190001017053    2019                  3546801  ...    A     B    B\n",
              "1  190001019476    2019                  3538204  ...    A     B    A\n",
              "2  190001019850    2019                  3550308  ...    A     A    A\n",
              "3  190001024874    2019                  3548708  ...    B     A    B\n",
              "4  190001024931    2019                  3549409  ...    B     B    B\n",
              "\n",
              "[5 rows x 136 columns]"
            ]
          },
          "metadata": {
            "tags": []
          },
          "execution_count": 3
        }
      ]
    },
    {
      "cell_type": "markdown",
      "metadata": {
        "id": "veAMZgKm7q_I"
      },
      "source": [
        "Realizando a leitura de um dataset encontrado no site do [INDE](http://metadados.inde.gov.br/geonetwork/srv/por/metadata.show?uuid=46e1b9ec-5ed7-4450-ac42-26f948130fa6) que contém a Geolocalização das Cidades do Brasil. Para esse experimento precisamos da latitude e longitude visto que alguns gráficos explorados durante este experimento só reconhecem nome de países ou no máximo os estados do EUA."
      ]
    },
    {
      "cell_type": "code",
      "metadata": {
        "colab": {
          "base_uri": "https://localhost:8080/",
          "height": 206
        },
        "id": "kbCkMA1_wkFy",
        "outputId": "fc094597-0e75-4f56-9ff6-13bd7dc55e56"
      },
      "source": [
        "df_ibge = pd.read_csv('/content/BCIM_Cidade_P.csv')\n",
        "df_ibge.head()"
      ],
      "execution_count": 68,
      "outputs": [
        {
          "output_type": "execute_result",
          "data": {
            "text/html": [
              "<div>\n",
              "<style scoped>\n",
              "    .dataframe tbody tr th:only-of-type {\n",
              "        vertical-align: middle;\n",
              "    }\n",
              "\n",
              "    .dataframe tbody tr th {\n",
              "        vertical-align: top;\n",
              "    }\n",
              "\n",
              "    .dataframe thead th {\n",
              "        text-align: right;\n",
              "    }\n",
              "</style>\n",
              "<table border=\"1\" class=\"dataframe\">\n",
              "  <thead>\n",
              "    <tr style=\"text-align: right;\">\n",
              "      <th></th>\n",
              "      <th>FID</th>\n",
              "      <th>id_objeto</th>\n",
              "      <th>nome</th>\n",
              "      <th>nomeabrev</th>\n",
              "      <th>geometriaaproximada</th>\n",
              "      <th>geom</th>\n",
              "    </tr>\n",
              "  </thead>\n",
              "  <tbody>\n",
              "    <tr>\n",
              "      <th>0</th>\n",
              "      <td>BCIM_Cidade_P.301380</td>\n",
              "      <td>301380</td>\n",
              "      <td>Pojuca</td>\n",
              "      <td>NaN</td>\n",
              "      <td>NaN</td>\n",
              "      <td>POINT (-38.337469081656856 -12.430728101952266)</td>\n",
              "    </tr>\n",
              "    <tr>\n",
              "      <th>1</th>\n",
              "      <td>BCIM_Cidade_P.300699</td>\n",
              "      <td>300699</td>\n",
              "      <td>Cruz</td>\n",
              "      <td>NaN</td>\n",
              "      <td>NaN</td>\n",
              "      <td>POINT (-40.17630489052276 -2.918518104716811)</td>\n",
              "    </tr>\n",
              "    <tr>\n",
              "      <th>2</th>\n",
              "      <td>BCIM_Cidade_P.301905</td>\n",
              "      <td>301905</td>\n",
              "      <td>Bonito</td>\n",
              "      <td>NaN</td>\n",
              "      <td>NaN</td>\n",
              "      <td>POINT (-47.30694235975195 -1.367829928859953)</td>\n",
              "    </tr>\n",
              "    <tr>\n",
              "      <th>3</th>\n",
              "      <td>BCIM_Cidade_P.302319</td>\n",
              "      <td>302319</td>\n",
              "      <td>Arês</td>\n",
              "      <td>NaN</td>\n",
              "      <td>NaN</td>\n",
              "      <td>POINT (-35.16284744400113 -6.1969810369166405)</td>\n",
              "    </tr>\n",
              "    <tr>\n",
              "      <th>4</th>\n",
              "      <td>BCIM_Cidade_P.302648</td>\n",
              "      <td>302648</td>\n",
              "      <td>Macaé</td>\n",
              "      <td>NaN</td>\n",
              "      <td>NaN</td>\n",
              "      <td>POINT (-41.785189555693314 -22.377294006185394)</td>\n",
              "    </tr>\n",
              "  </tbody>\n",
              "</table>\n",
              "</div>"
            ],
            "text/plain": [
              "                    FID  ...                                             geom\n",
              "0  BCIM_Cidade_P.301380  ...  POINT (-38.337469081656856 -12.430728101952266)\n",
              "1  BCIM_Cidade_P.300699  ...    POINT (-40.17630489052276 -2.918518104716811)\n",
              "2  BCIM_Cidade_P.301905  ...    POINT (-47.30694235975195 -1.367829928859953)\n",
              "3  BCIM_Cidade_P.302319  ...   POINT (-35.16284744400113 -6.1969810369166405)\n",
              "4  BCIM_Cidade_P.302648  ...  POINT (-41.785189555693314 -22.377294006185394)\n",
              "\n",
              "[5 rows x 6 columns]"
            ]
          },
          "metadata": {
            "tags": []
          },
          "execution_count": 68
        }
      ]
    },
    {
      "cell_type": "markdown",
      "metadata": {
        "id": "D36tlgpx8NU7"
      },
      "source": [
        "Realizando a limpeza e estruturação das informações Latitude e Longitude"
      ]
    },
    {
      "cell_type": "code",
      "metadata": {
        "id": "8PPemppOzcin"
      },
      "source": [
        "#criando novas colunas no dataset\n",
        "df_ibge['Lat'] = ''\n",
        "df_ibge['Lon'] = ''\n",
        "\n",
        "#para cada linha separa o conteúdo nas novas colunas e elimina os parênteses\n",
        "i = 0\n",
        "for conteudo in df_ibge.geom:\n",
        "  lista = conteudo.split()\n",
        "  df_ibge['Lon'][i]= lista[1].replace('(','')\n",
        "  df_ibge['Lat'][i] = lista[2].replace(')','') \n",
        "  i = i+1"
      ],
      "execution_count": null,
      "outputs": []
    },
    {
      "cell_type": "markdown",
      "metadata": {
        "id": "DwyR3L9h8g0d"
      },
      "source": [
        "Conferindo resultado da limpeza e estruturação"
      ]
    },
    {
      "cell_type": "code",
      "metadata": {
        "colab": {
          "base_uri": "https://localhost:8080/",
          "height": 206
        },
        "id": "CI75rdxy2Y-L",
        "outputId": "46b66e9f-1c4f-41e6-95a1-9a78b3461816"
      },
      "source": [
        "df_ibge.head()"
      ],
      "execution_count": 39,
      "outputs": [
        {
          "output_type": "execute_result",
          "data": {
            "text/html": [
              "<div>\n",
              "<style scoped>\n",
              "    .dataframe tbody tr th:only-of-type {\n",
              "        vertical-align: middle;\n",
              "    }\n",
              "\n",
              "    .dataframe tbody tr th {\n",
              "        vertical-align: top;\n",
              "    }\n",
              "\n",
              "    .dataframe thead th {\n",
              "        text-align: right;\n",
              "    }\n",
              "</style>\n",
              "<table border=\"1\" class=\"dataframe\">\n",
              "  <thead>\n",
              "    <tr style=\"text-align: right;\">\n",
              "      <th></th>\n",
              "      <th>FID</th>\n",
              "      <th>id_objeto</th>\n",
              "      <th>nome</th>\n",
              "      <th>nomeabrev</th>\n",
              "      <th>geometriaaproximada</th>\n",
              "      <th>geom</th>\n",
              "      <th>Lat</th>\n",
              "      <th>Lon</th>\n",
              "    </tr>\n",
              "  </thead>\n",
              "  <tbody>\n",
              "    <tr>\n",
              "      <th>0</th>\n",
              "      <td>BCIM_Cidade_P.301380</td>\n",
              "      <td>301380</td>\n",
              "      <td>Pojuca</td>\n",
              "      <td>NaN</td>\n",
              "      <td>NaN</td>\n",
              "      <td>POINT (-38.337469081656856 -12.430728101952266)</td>\n",
              "      <td>-12.430728101952266</td>\n",
              "      <td>-38.337469081656856</td>\n",
              "    </tr>\n",
              "    <tr>\n",
              "      <th>1</th>\n",
              "      <td>BCIM_Cidade_P.300699</td>\n",
              "      <td>300699</td>\n",
              "      <td>Cruz</td>\n",
              "      <td>NaN</td>\n",
              "      <td>NaN</td>\n",
              "      <td>POINT (-40.17630489052276 -2.918518104716811)</td>\n",
              "      <td>-2.918518104716811</td>\n",
              "      <td>-40.17630489052276</td>\n",
              "    </tr>\n",
              "    <tr>\n",
              "      <th>2</th>\n",
              "      <td>BCIM_Cidade_P.301905</td>\n",
              "      <td>301905</td>\n",
              "      <td>Bonito</td>\n",
              "      <td>NaN</td>\n",
              "      <td>NaN</td>\n",
              "      <td>POINT (-47.30694235975195 -1.367829928859953)</td>\n",
              "      <td>-1.367829928859953</td>\n",
              "      <td>-47.30694235975195</td>\n",
              "    </tr>\n",
              "    <tr>\n",
              "      <th>3</th>\n",
              "      <td>BCIM_Cidade_P.302319</td>\n",
              "      <td>302319</td>\n",
              "      <td>Arês</td>\n",
              "      <td>NaN</td>\n",
              "      <td>NaN</td>\n",
              "      <td>POINT (-35.16284744400113 -6.1969810369166405)</td>\n",
              "      <td>-6.1969810369166405</td>\n",
              "      <td>-35.16284744400113</td>\n",
              "    </tr>\n",
              "    <tr>\n",
              "      <th>4</th>\n",
              "      <td>BCIM_Cidade_P.302648</td>\n",
              "      <td>302648</td>\n",
              "      <td>Macaé</td>\n",
              "      <td>NaN</td>\n",
              "      <td>NaN</td>\n",
              "      <td>POINT (-41.785189555693314 -22.377294006185394)</td>\n",
              "      <td>-22.377294006185394</td>\n",
              "      <td>-41.785189555693314</td>\n",
              "    </tr>\n",
              "  </tbody>\n",
              "</table>\n",
              "</div>"
            ],
            "text/plain": [
              "                    FID  id_objeto  ...                  Lat                  Lon\n",
              "0  BCIM_Cidade_P.301380     301380  ...  -12.430728101952266  -38.337469081656856\n",
              "1  BCIM_Cidade_P.300699     300699  ...   -2.918518104716811   -40.17630489052276\n",
              "2  BCIM_Cidade_P.301905     301905  ...   -1.367829928859953   -47.30694235975195\n",
              "3  BCIM_Cidade_P.302319     302319  ...  -6.1969810369166405   -35.16284744400113\n",
              "4  BCIM_Cidade_P.302648     302648  ...  -22.377294006185394  -41.785189555693314\n",
              "\n",
              "[5 rows x 8 columns]"
            ]
          },
          "metadata": {
            "tags": []
          },
          "execution_count": 39
        }
      ]
    },
    {
      "cell_type": "markdown",
      "metadata": {
        "id": "q5tKnDwP8lrs"
      },
      "source": [
        "Criando um novo dataframe com dados consolidados de quantidade de inscritos por cidade para a montagem do gráifco"
      ]
    },
    {
      "cell_type": "code",
      "metadata": {
        "id": "xflVE8KHm43-"
      },
      "source": [
        "d = {'Cidade': df.NO_MUNICIPIO_RESIDENCIA.value_counts().index,\n",
        "     'Qtdes' : df.NO_MUNICIPIO_RESIDENCIA.value_counts().values}\n",
        "df_count = pd.DataFrame(data=d)"
      ],
      "execution_count": 40,
      "outputs": []
    },
    {
      "cell_type": "code",
      "metadata": {
        "colab": {
          "base_uri": "https://localhost:8080/",
          "height": 206
        },
        "id": "5pS3b40LnTjF",
        "outputId": "b9e221db-4c05-4582-88fb-25ebdab2f393"
      },
      "source": [
        "df_count.head()"
      ],
      "execution_count": 41,
      "outputs": [
        {
          "output_type": "execute_result",
          "data": {
            "text/html": [
              "<div>\n",
              "<style scoped>\n",
              "    .dataframe tbody tr th:only-of-type {\n",
              "        vertical-align: middle;\n",
              "    }\n",
              "\n",
              "    .dataframe tbody tr th {\n",
              "        vertical-align: top;\n",
              "    }\n",
              "\n",
              "    .dataframe thead th {\n",
              "        text-align: right;\n",
              "    }\n",
              "</style>\n",
              "<table border=\"1\" class=\"dataframe\">\n",
              "  <thead>\n",
              "    <tr style=\"text-align: right;\">\n",
              "      <th></th>\n",
              "      <th>Cidade</th>\n",
              "      <th>Qtdes</th>\n",
              "    </tr>\n",
              "  </thead>\n",
              "  <tbody>\n",
              "    <tr>\n",
              "      <th>0</th>\n",
              "      <td>São Paulo</td>\n",
              "      <td>917</td>\n",
              "    </tr>\n",
              "    <tr>\n",
              "      <th>1</th>\n",
              "      <td>Guarulhos</td>\n",
              "      <td>102</td>\n",
              "    </tr>\n",
              "    <tr>\n",
              "      <th>2</th>\n",
              "      <td>Campinas</td>\n",
              "      <td>76</td>\n",
              "    </tr>\n",
              "    <tr>\n",
              "      <th>3</th>\n",
              "      <td>Ribeirão Preto</td>\n",
              "      <td>69</td>\n",
              "    </tr>\n",
              "    <tr>\n",
              "      <th>4</th>\n",
              "      <td>Osasco</td>\n",
              "      <td>67</td>\n",
              "    </tr>\n",
              "  </tbody>\n",
              "</table>\n",
              "</div>"
            ],
            "text/plain": [
              "           Cidade  Qtdes\n",
              "0       São Paulo    917\n",
              "1       Guarulhos    102\n",
              "2        Campinas     76\n",
              "3  Ribeirão Preto     69\n",
              "4          Osasco     67"
            ]
          },
          "metadata": {
            "tags": []
          },
          "execution_count": 41
        }
      ]
    },
    {
      "cell_type": "code",
      "metadata": {
        "colab": {
          "base_uri": "https://localhost:8080/"
        },
        "id": "Sy7ofKz2oq9k",
        "outputId": "8a82d829-8bdc-4818-93c1-5516eae775b1"
      },
      "source": [
        "print(f'O conjunto de dados possui {df_count.shape[0]} cidades do Estado de são Paulo')"
      ],
      "execution_count": 71,
      "outputs": [
        {
          "output_type": "stream",
          "text": [
            "O conjunto de dados possui 349 cidades do Estado de são Paulo\n"
          ],
          "name": "stdout"
        }
      ]
    },
    {
      "cell_type": "markdown",
      "metadata": {
        "id": "usRnn99u9Tw4"
      },
      "source": [
        "Eliminando colunas não utilizadas do dataset usado para complementar a geolocalização"
      ]
    },
    {
      "cell_type": "code",
      "metadata": {
        "colab": {
          "base_uri": "https://localhost:8080/",
          "height": 206
        },
        "id": "KcLK6aLGl0Cm",
        "outputId": "4a12c757-6230-464f-fd5d-399368d3ac35"
      },
      "source": [
        "df_ibge = df_ibge.drop(columns=['FID','id_objeto', 'nomeabrev','geometriaaproximada','geom'])\n",
        "df_ibge.head()"
      ],
      "execution_count": 43,
      "outputs": [
        {
          "output_type": "execute_result",
          "data": {
            "text/html": [
              "<div>\n",
              "<style scoped>\n",
              "    .dataframe tbody tr th:only-of-type {\n",
              "        vertical-align: middle;\n",
              "    }\n",
              "\n",
              "    .dataframe tbody tr th {\n",
              "        vertical-align: top;\n",
              "    }\n",
              "\n",
              "    .dataframe thead th {\n",
              "        text-align: right;\n",
              "    }\n",
              "</style>\n",
              "<table border=\"1\" class=\"dataframe\">\n",
              "  <thead>\n",
              "    <tr style=\"text-align: right;\">\n",
              "      <th></th>\n",
              "      <th>nome</th>\n",
              "      <th>Lat</th>\n",
              "      <th>Lon</th>\n",
              "    </tr>\n",
              "  </thead>\n",
              "  <tbody>\n",
              "    <tr>\n",
              "      <th>0</th>\n",
              "      <td>Pojuca</td>\n",
              "      <td>-12.430728101952266</td>\n",
              "      <td>-38.337469081656856</td>\n",
              "    </tr>\n",
              "    <tr>\n",
              "      <th>1</th>\n",
              "      <td>Cruz</td>\n",
              "      <td>-2.918518104716811</td>\n",
              "      <td>-40.17630489052276</td>\n",
              "    </tr>\n",
              "    <tr>\n",
              "      <th>2</th>\n",
              "      <td>Bonito</td>\n",
              "      <td>-1.367829928859953</td>\n",
              "      <td>-47.30694235975195</td>\n",
              "    </tr>\n",
              "    <tr>\n",
              "      <th>3</th>\n",
              "      <td>Arês</td>\n",
              "      <td>-6.1969810369166405</td>\n",
              "      <td>-35.16284744400113</td>\n",
              "    </tr>\n",
              "    <tr>\n",
              "      <th>4</th>\n",
              "      <td>Macaé</td>\n",
              "      <td>-22.377294006185394</td>\n",
              "      <td>-41.785189555693314</td>\n",
              "    </tr>\n",
              "  </tbody>\n",
              "</table>\n",
              "</div>"
            ],
            "text/plain": [
              "     nome                  Lat                  Lon\n",
              "0  Pojuca  -12.430728101952266  -38.337469081656856\n",
              "1    Cruz   -2.918518104716811   -40.17630489052276\n",
              "2  Bonito   -1.367829928859953   -47.30694235975195\n",
              "3    Arês  -6.1969810369166405   -35.16284744400113\n",
              "4   Macaé  -22.377294006185394  -41.785189555693314"
            ]
          },
          "metadata": {
            "tags": []
          },
          "execution_count": 43
        }
      ]
    },
    {
      "cell_type": "markdown",
      "metadata": {
        "id": "7DqTpGrH9h5r"
      },
      "source": [
        "Esse dataset possui cidades de todo Brasil"
      ]
    },
    {
      "cell_type": "code",
      "metadata": {
        "colab": {
          "base_uri": "https://localhost:8080/"
        },
        "id": "6UDPllRuo_uR",
        "outputId": "43ae154b-baa7-4393-eb7c-a3b4617c04ba"
      },
      "source": [
        "df_ibge.shape"
      ],
      "execution_count": 44,
      "outputs": [
        {
          "output_type": "execute_result",
          "data": {
            "text/plain": [
              "(5812, 3)"
            ]
          },
          "metadata": {
            "tags": []
          },
          "execution_count": 44
        }
      ]
    },
    {
      "cell_type": "markdown",
      "metadata": {
        "id": "TmayvuWm9qXi"
      },
      "source": [
        "Renomeando a coluna que será a chave para mesclar os datasets"
      ]
    },
    {
      "cell_type": "code",
      "metadata": {
        "colab": {
          "base_uri": "https://localhost:8080/",
          "height": 206
        },
        "id": "04Jrp4hPm6Z7",
        "outputId": "3a0808aa-3525-4f16-885d-4c9cc39b8867"
      },
      "source": [
        "df_ibge = df_ibge.rename(columns={'nome':'Cidade'})\n",
        "df_ibge.head()"
      ],
      "execution_count": 45,
      "outputs": [
        {
          "output_type": "execute_result",
          "data": {
            "text/html": [
              "<div>\n",
              "<style scoped>\n",
              "    .dataframe tbody tr th:only-of-type {\n",
              "        vertical-align: middle;\n",
              "    }\n",
              "\n",
              "    .dataframe tbody tr th {\n",
              "        vertical-align: top;\n",
              "    }\n",
              "\n",
              "    .dataframe thead th {\n",
              "        text-align: right;\n",
              "    }\n",
              "</style>\n",
              "<table border=\"1\" class=\"dataframe\">\n",
              "  <thead>\n",
              "    <tr style=\"text-align: right;\">\n",
              "      <th></th>\n",
              "      <th>Cidade</th>\n",
              "      <th>Lat</th>\n",
              "      <th>Lon</th>\n",
              "    </tr>\n",
              "  </thead>\n",
              "  <tbody>\n",
              "    <tr>\n",
              "      <th>0</th>\n",
              "      <td>Pojuca</td>\n",
              "      <td>-12.430728101952266</td>\n",
              "      <td>-38.337469081656856</td>\n",
              "    </tr>\n",
              "    <tr>\n",
              "      <th>1</th>\n",
              "      <td>Cruz</td>\n",
              "      <td>-2.918518104716811</td>\n",
              "      <td>-40.17630489052276</td>\n",
              "    </tr>\n",
              "    <tr>\n",
              "      <th>2</th>\n",
              "      <td>Bonito</td>\n",
              "      <td>-1.367829928859953</td>\n",
              "      <td>-47.30694235975195</td>\n",
              "    </tr>\n",
              "    <tr>\n",
              "      <th>3</th>\n",
              "      <td>Arês</td>\n",
              "      <td>-6.1969810369166405</td>\n",
              "      <td>-35.16284744400113</td>\n",
              "    </tr>\n",
              "    <tr>\n",
              "      <th>4</th>\n",
              "      <td>Macaé</td>\n",
              "      <td>-22.377294006185394</td>\n",
              "      <td>-41.785189555693314</td>\n",
              "    </tr>\n",
              "  </tbody>\n",
              "</table>\n",
              "</div>"
            ],
            "text/plain": [
              "   Cidade                  Lat                  Lon\n",
              "0  Pojuca  -12.430728101952266  -38.337469081656856\n",
              "1    Cruz   -2.918518104716811   -40.17630489052276\n",
              "2  Bonito   -1.367829928859953   -47.30694235975195\n",
              "3    Arês  -6.1969810369166405   -35.16284744400113\n",
              "4   Macaé  -22.377294006185394  -41.785189555693314"
            ]
          },
          "metadata": {
            "tags": []
          },
          "execution_count": 45
        }
      ]
    },
    {
      "cell_type": "markdown",
      "metadata": {
        "id": "P68ZRsMF9wKF"
      },
      "source": [
        "Resultado do merge entre os datasets"
      ]
    },
    {
      "cell_type": "code",
      "metadata": {
        "colab": {
          "base_uri": "https://localhost:8080/",
          "height": 206
        },
        "id": "PtQEmQIYmsd0",
        "outputId": "a115c652-7b88-40cb-b838-a455e3dbb99b"
      },
      "source": [
        "df_final = pd.merge(df_count,df_ibge, on='Cidade')\n",
        "df_final.head()"
      ],
      "execution_count": 46,
      "outputs": [
        {
          "output_type": "execute_result",
          "data": {
            "text/html": [
              "<div>\n",
              "<style scoped>\n",
              "    .dataframe tbody tr th:only-of-type {\n",
              "        vertical-align: middle;\n",
              "    }\n",
              "\n",
              "    .dataframe tbody tr th {\n",
              "        vertical-align: top;\n",
              "    }\n",
              "\n",
              "    .dataframe thead th {\n",
              "        text-align: right;\n",
              "    }\n",
              "</style>\n",
              "<table border=\"1\" class=\"dataframe\">\n",
              "  <thead>\n",
              "    <tr style=\"text-align: right;\">\n",
              "      <th></th>\n",
              "      <th>Cidade</th>\n",
              "      <th>Qtdes</th>\n",
              "      <th>Lat</th>\n",
              "      <th>Lon</th>\n",
              "    </tr>\n",
              "  </thead>\n",
              "  <tbody>\n",
              "    <tr>\n",
              "      <th>0</th>\n",
              "      <td>Guarulhos</td>\n",
              "      <td>102</td>\n",
              "      <td>-23.454237227889976</td>\n",
              "      <td>-46.53374514741128</td>\n",
              "    </tr>\n",
              "    <tr>\n",
              "      <th>1</th>\n",
              "      <td>Campinas</td>\n",
              "      <td>76</td>\n",
              "      <td>-22.905822218783705</td>\n",
              "      <td>-47.066350129618975</td>\n",
              "    </tr>\n",
              "    <tr>\n",
              "      <th>2</th>\n",
              "      <td>Ribeirão Preto</td>\n",
              "      <td>69</td>\n",
              "      <td>-21.170391981881515</td>\n",
              "      <td>-47.81027519335388</td>\n",
              "    </tr>\n",
              "    <tr>\n",
              "      <th>3</th>\n",
              "      <td>Osasco</td>\n",
              "      <td>67</td>\n",
              "      <td>-23.53286880192161</td>\n",
              "      <td>-46.79195514213204</td>\n",
              "    </tr>\n",
              "    <tr>\n",
              "      <th>4</th>\n",
              "      <td>São José dos Campos</td>\n",
              "      <td>58</td>\n",
              "      <td>-23.190034056806446</td>\n",
              "      <td>-45.88450791544053</td>\n",
              "    </tr>\n",
              "  </tbody>\n",
              "</table>\n",
              "</div>"
            ],
            "text/plain": [
              "                Cidade  Qtdes                  Lat                  Lon\n",
              "0            Guarulhos    102  -23.454237227889976   -46.53374514741128\n",
              "1             Campinas     76  -22.905822218783705  -47.066350129618975\n",
              "2       Ribeirão Preto     69  -21.170391981881515   -47.81027519335388\n",
              "3               Osasco     67   -23.53286880192161   -46.79195514213204\n",
              "4  São José dos Campos     58  -23.190034056806446   -45.88450791544053"
            ]
          },
          "metadata": {
            "tags": []
          },
          "execution_count": 46
        }
      ]
    },
    {
      "cell_type": "markdown",
      "metadata": {
        "id": "_Zw3maLJ9zoD"
      },
      "source": [
        "Foi notado que há alguma inconsistência nos dados, pois o resultado de linhas ficou maior do que era antes do merge. Provavelmente há cidades de outros estados que coincidem com o estado de São Paulo. No entanto esse dataset não possuía uma coluna identificando os estados, como se trata de um experimento, por hora foi desconsiderado e os dados foram utilizados dessa maneira mesmo."
      ]
    },
    {
      "cell_type": "code",
      "metadata": {
        "colab": {
          "base_uri": "https://localhost:8080/"
        },
        "id": "7OWJozK8nXbu",
        "outputId": "6f8e49b9-c9e7-446d-941c-9781942bec83"
      },
      "source": [
        "df_final.shape"
      ],
      "execution_count": 47,
      "outputs": [
        {
          "output_type": "execute_result",
          "data": {
            "text/plain": [
              "(385, 4)"
            ]
          },
          "metadata": {
            "tags": []
          },
          "execution_count": 47
        }
      ]
    },
    {
      "cell_type": "markdown",
      "metadata": {
        "id": "cCxkZfKJ-ZeS"
      },
      "source": [
        "Conferindo os valores mínimos e máximos e concentração da quantidade de inscritos para conferir se o mapa projetado faz sentido tendo em vista esses dados."
      ]
    },
    {
      "cell_type": "code",
      "metadata": {
        "colab": {
          "base_uri": "https://localhost:8080/"
        },
        "id": "Ik0Lr8S7w0Jo",
        "outputId": "e1fda80f-b66f-4970-af1c-d82b7fccccc7"
      },
      "source": [
        "df_final.Qtdes.describe()"
      ],
      "execution_count": 50,
      "outputs": [
        {
          "output_type": "execute_result",
          "data": {
            "text/plain": [
              "count    385.000000\n",
              "mean       6.480519\n",
              "std       11.675083\n",
              "min        1.000000\n",
              "25%        1.000000\n",
              "50%        2.000000\n",
              "75%        6.000000\n",
              "max      102.000000\n",
              "Name: Qtdes, dtype: float64"
            ]
          },
          "metadata": {
            "tags": []
          },
          "execution_count": 50
        }
      ]
    },
    {
      "cell_type": "markdown",
      "metadata": {
        "id": "JZuoOj2d-ofd"
      },
      "source": [
        "Conferindo total de inscritos"
      ]
    },
    {
      "cell_type": "code",
      "metadata": {
        "colab": {
          "base_uri": "https://localhost:8080/"
        },
        "id": "u2pAnraUw9u5",
        "outputId": "ee72df35-7c93-4695-c8eb-cef2dd2d673a"
      },
      "source": [
        "df_final.Qtdes.sum()"
      ],
      "execution_count": 51,
      "outputs": [
        {
          "output_type": "execute_result",
          "data": {
            "text/plain": [
              "2495"
            ]
          },
          "metadata": {
            "tags": []
          },
          "execution_count": 51
        }
      ]
    },
    {
      "cell_type": "markdown",
      "metadata": {
        "id": "Aw-6jtFT-sBB"
      },
      "source": [
        "Plotando o Mapa de Densidade\n",
        "\n",
        "\n",
        "---\n",
        "\n",
        "Nesse mapa foi informado a Latitude e Longitude, e o volume é a quantidades de inscritos, assim a mancha criada acima de cada posição no mapa fica maior de forma proporcional a quantidade de inscritos daquela localização.\n",
        "<br>\n",
        "O mapa foi centralizado e foi dado zoom de forma a centralizar o estado de São Paulo.\n",
        "\n",
        "\n",
        "---\n",
        "\n",
        "Por fim, mesmo com algumas inconsistências nos dados, é possível notar que de fato a hipótese inicial foi confirmada, a concentração de inscritos é maior nas regiões próximas à capital e na própria capital. No entanto a justificativa dessa hipótese de que isso se dá devido a desigualdade social não é possível sustentar apenas com os dados desse experimento, pois teríamos que ter dados socioeconômicos dos não participantes para efeito de comparação e validação dessa hipótese."
      ]
    },
    {
      "cell_type": "code",
      "metadata": {
        "colab": {
          "base_uri": "https://localhost:8080/",
          "height": 542
        },
        "id": "Wqy5JraYvwKC",
        "outputId": "dab5cc61-9d55-4664-ecd8-7f17b30d629e"
      },
      "source": [
        "fig = px.density_mapbox(df_final, lat='Lat', lon='Lon', z='Qtdes', radius=40,\n",
        "                        center=dict(lat=-22, lon=-48), zoom=5,\n",
        "                        mapbox_style=\"stamen-terrain\")\n",
        "fig.show()"
      ],
      "execution_count": 72,
      "outputs": [
        {
          "output_type": "display_data",
          "data": {
            "text/html": [
              "<html>\n",
              "<head><meta charset=\"utf-8\" /></head>\n",
              "<body>\n",
              "    <div>\n",
              "            <script src=\"https://cdnjs.cloudflare.com/ajax/libs/mathjax/2.7.5/MathJax.js?config=TeX-AMS-MML_SVG\"></script><script type=\"text/javascript\">if (window.MathJax) {MathJax.Hub.Config({SVG: {font: \"STIX-Web\"}});}</script>\n",
              "                <script type=\"text/javascript\">window.PlotlyConfig = {MathJaxConfig: 'local'};</script>\n",
              "        <script src=\"https://cdn.plot.ly/plotly-latest.min.js\"></script>    \n",
              "            <div id=\"27cd3777-5ace-496a-bf6f-a0faeec096f4\" class=\"plotly-graph-div\" style=\"height:525px; width:100%;\"></div>\n",
              "            <script type=\"text/javascript\">\n",
              "                \n",
              "                    window.PLOTLYENV=window.PLOTLYENV || {};\n",
              "                    \n",
              "                if (document.getElementById(\"27cd3777-5ace-496a-bf6f-a0faeec096f4\")) {\n",
              "                    Plotly.newPlot(\n",
              "                        '27cd3777-5ace-496a-bf6f-a0faeec096f4',\n",
              "                        [{\"coloraxis\": \"coloraxis\", \"hoverlabel\": {\"namelength\": 0}, \"hovertemplate\": \"Qtdes=%{z}<br>Lat=%{lat}<br>Lon=%{lon}\", \"lat\": [\"-23.454237227889976\", \"-22.905822218783705\", \"-21.170391981881515\", \"-23.53286880192161\", \"-23.190034056806446\", \"-23.691891859172237\", \"-23.497363009102397\", \"-7.220208844282173\", \"-23.674209861817\", \"-23.954024230651147\", \"-23.52130031715433\", \"-23.52394964908438\", \"-6.219343774692151\", \"-23.957834103613493\", \"-20.535697847209313\", \"-23.60265568017835\", \"-22.682414207550174\", \"-22.473780963854896\", \"-20.81175313078061\", \"-23.483960795926816\", \"-23.681826685128257\", \"-22.01786646229297\", \"-27.08022631159068\", \"-23.506167497582013\", \"-23.54530806953239\", \"-23.66815005439757\", \"-23.602346108550627\", \"-22.85332968603993\", \"-22.82089144030449\", \"-23.082067385778185\", \"-23.989279535006055\", \"-24.008859192420182\", \"-29.19694134053073\", \"-22.12111687604473\", \"-22.32503837952316\", \"-22.734275234214746\", \"-22.5665243557659\", \"-20.04115241074603\", \"-23.1856954919564\", \"-22.737835036938787\", \"-23.010894298831346\", \"-23.54925248695646\", \"-23.298770189892238\", \"-23.5450671643046\", \"-23.09968421282023\", \"-23.644195960877667\", \"-6.751689902248374\", \"-21.132064438682715\", \"-21.784981028785293\", \"-21.131847075259223\", \"-22.2175748700335\", \"-23.540299808801763\", \"-22.884169646898485\", \"-23.83019662262785\", \"-23.89160181531537\", \"-23.32336033488233\", \"-20.433087268592693\", \"-23.541535905539796\", \"-22.92511026624777\", \"-23.62334968016561\", \"-23.44299219888247\", \"-21.208110736913856\", \"-23.27972616324148\", \"-23.716614175971596\", \"-23.355492050782626\", \"-23.11753714762802\", \"-23.52801550250493\", \"-22.733860480022372\", \"-22.35771174697637\", \"-22.29405562294067\", \"-21.2914972198032\", \"-9.931912836748785\", \"-23.79554211416604\", \"-23.589082696159537\", \"-22.97028158731526\", \"-21.465202844336975\", \"-23.533764942524755\", \"-23.39695559728002\", \"-23.599816405420693\", \"-23.200068526214075\", \"-31.380928913014543\", \"-22.367927867158237\", \"-22.95315867878897\", \"-23.25487368985108\", \"-23.214059765223173\", \"-21.850285915024234\", \"-22.80801454162555\", \"-23.31760867186422\", \"-23.10720403428119\", \"-20.281016428376383\", \"-23.36120742138711\", \"-22.75573088697617\", \"-21.873694037849692\", \"-20.553611217255995\", \"-22.980164198260066\", \"-22.227374463520125\", \"-24.312454520100058\", \"-21.25250501584005\", \"-20.335931300220647\", \"-22.672225897470405\", \"-23.66008806012305\", \"-21.956576421482197\", \"-22.754653550601244\", \"-23.208268835380057\", \"-22.720483777543496\", \"-22.398851450740942\", \"-23.16696226663099\", \"-21.022032957184713\", \"-22.766965888537097\", \"-23.979297564372054\", \"-22.732552876970228\", \"-23.030660805828234\", \"-24.17772982993629\", \"-22.99561937169986\", \"-22.107505980783284\", \"-22.21298361219982\", \"-22.076877549702253\", \"-23.798163827040696\", \"-21.05552612150184\", \"-24.498420769212984\", \"-22.36776228795491\", \"-23.086049061797976\", \"-7.567367988904996\", \"-22.709266351359435\", \"-23.849049423163017\", \"-22.783661274075165\", \"-21.405329047228467\", \"-21.66418212235002\", \"-22.70421580539761\", \"-21.729241011295883\", \"-23.003974070369743\", \"-21.93240903345963\", \"-22.351556240392483\", \"-23.349206537770286\", \"-21.99645452269253\", \"-22.94551871689415\", \"-23.523075885818862\", \"-20.581624954554975\", \"-22.642381097927682\", \"-23.640216429091684\", \"-22.55498081274162\", \"-22.786316751405337\", \"-24.885768381653136\", \"-22.842197666169618\", \"-22.603163909252856\", \"-21.363046980262496\", \"-23.411675358644874\", \"-23.11057317696017\", \"-23.647864107903345\", \"-21.52846789809685\", \"-21.018080607402258\", \"-26.71960509995161\", \"-21.415229241034965\", \"-23.924860240276335\", \"-21.75669833582292\", \"-21.359848577368233\", \"-20.949543693745966\", \"-20.717392339368597\", \"-22.271588002195006\", \"-23.433644816238967\", \"-21.232869788233224\", \"-23.305807241995346\", \"-23.714418688889662\", \"-22.07342450392618\", \"-23.70714931355174\", \"-21.536037133578827\", \"-23.61301755475382\", \"-23.317673598912652\", \"-15.297822349617052\", \"-20.917991971955384\", \"-22.730097342598658\", \"-20.845992133357065\", \"-23.153111982434417\", \"-21.266012645925787\", \"-22.57324431578821\", \"-22.66042388213166\", \"-22.590740592726345\", \"-23.396964864657942\", \"-20.081993329686554\", \"-22.7433396833327\", \"-12.808763073247865\", \"-21.46561149502895\", \"-26.444686688144483\", \"-22.469903056557293\", \"-20.320056055502796\", \"-24.08546461974547\", \"-21.765534059010992\", \"-22.436206376670885\", \"-23.209793960106218\", \"-21.243128830282636\", \"-22.29088897011539\", \"-22.12938935727639\", \"-20.42412050381381\", \"-5.896237710640935\", \"-22.54872901718531\", \"-22.279947668464718\", \"-7.302439598287821\", \"-23.704745190258098\", \"-21.01367050837264\", \"-23.228599228750056\", \"-23.104332674313586\", \"-21.204805599917975\", \"-22.41462952020805\", \"-23.437074825069594\", \"-22.27178855281763\", \"-21.510809106757165\", \"-22.181330201275586\", \"-21.90953812206283\", \"-23.52928620100809\", \"-23.744204446665098\", \"-21.90068275442253\", \"-21.971220973287124\", \"-20.8693831714466\", \"-22.8992195926067\", \"-23.28600678819843\", \"-23.136057427841816\", \"-21.672285800135544\", \"-22.491330207781843\", \"-26.65446674396979\", \"-24.086986439914583\", \"-22.66697851276144\", \"-21.563122680410757\", \"-21.832667296151257\", \"-21.60298001376509\", \"-23.035988795367388\", \"-21.59469188713075\", \"-23.87867365716834\", \"-6.7850724746675155\", \"-22.849989583432837\", \"-23.42176246883026\", \"-22.41505776666311\", \"-21.70879449037728\", \"-20.737099002061576\", \"-21.14361122907591\", \"-22.927477266875627\", \"-22.41299015934779\", \"-21.3179912686919\", \"-20.856429135479488\", \"-23.532988097390273\", \"-21.19399118685551\", \"-22.15299037701259\", \"-22.00426714095135\", \"-21.59576054113002\", \"-22.406925598516224\", \"-20.53253741206932\", \"-22.573211935305473\", \"-22.834807479099656\", \"-21.26795421082589\", \"-23.13398861612409\", \"-20.287993174952867\", \"-22.881656572049465\", \"-21.621991054050994\", \"-22.640988452354776\", \"-24.221055519453948\", \"-22.6919893787458\", \"-22.579991371435966\", \"-20.080722255787457\", \"-23.808193177544062\", \"-21.55109545498501\", \"-23.198537090366703\", \"-21.89499059161928\", \"-22.455978902801082\", \"-21.777990445107115\", \"-20.477992713863774\", \"-12.963744483988997\", \"-6.044401739758666\", \"-22.218775204461895\", \"-29.718910291224347\", \"-20.430628538370016\", \"-22.41247824667674\", \"-22.458029119450323\", \"-20.685992644294533\", \"-20.794992085034878\", \"-23.073581976127098\", \"-20.182760221101223\", \"-21.042991768987303\", \"-20.498992437817154\", \"-22.972908303051746\", \"-21.823947409982768\", \"-20.267686672870855\", \"-21.783990657329753\", \"-22.067659191337253\", \"-20.729294976238734\", \"-21.085835348793797\", \"-22.74756019986072\", \"-21.682474499299552\", \"-21.25489336453213\", \"-20.798992369625708\", \"-21.729460071892817\", \"-4.24197967016996\", \"-21.324991132052382\", \"-22.5230380728169\", \"-2.0006522361724\", \"-20.90299194017307\", \"-24.519986278700596\", \"-23.787296915124017\", \"-26.403184003613642\", \"-22.107227349996354\", \"-22.10037783752067\", \"-20.873848892101712\", \"-20.647992640308356\", \"-21.473641565858344\", \"-18.99648570563742\", \"-20.87775269152723\", \"-23.175209721998492\", \"-22.81980088799443\", \"-21.016113463003887\", \"-22.435986164260868\", \"-22.23291503793619\", \"-21.703391972730476\", \"-22.887523798473243\", \"-27.487190575359445\", \"-21.02183353100698\", \"-20.637226423280723\", \"-22.781592028742182\", \"-26.850014931871073\", \"-21.887198753342666\", \"-20.031589529181968\", \"-22.889857652405304\", \"-20.649992729996722\", \"-20.811218484387698\", \"-21.9339926156839\", \"-21.499502887433206\", \"-20.12299344628558\", \"-20.63882947461769\", \"-21.30785101456219\", \"-20.893335595447198\", \"-22.11255069023899\", \"-21.79721631406482\", \"-21.484771778711423\", \"-23.86430054187225\", \"-20.623252880576633\", \"-9.672457825655153\", \"-20.3905086876743\", \"-26.692497792752103\", \"-21.48761036074544\", \"-20.960636416117\", \"-22.74575488626175\", \"-22.302074913158034\", \"-20.444251149572686\", \"-21.338428703432605\", \"-20.949760438657123\", \"-21.06652703899141\", \"-20.817337801862777\", \"-21.170991357940885\", \"-22.89431454481978\", \"-21.589898679836725\", \"-21.354432605185032\", \"-23.392114267692413\", \"-6.945570913876021\", \"-22.13598990591761\", \"-20.208710587323974\", \"-24.38252622750407\", \"-23.105179836094777\", \"-24.755986067436332\", \"-24.714985917199538\", \"-23.38666935278957\", \"-22.02826747714406\", \"-22.50951525785959\", \"-20.766047988285287\", \"-21.99905304678748\", \"-22.603348658024828\", \"-24.511295065458064\", \"-21.889990423411383\", \"-21.185766406496676\", \"-21.99230213890197\", \"-23.492207459788023\", \"-24.696804864423807\", \"-23.053023443634412\", \"-22.432353049343053\", \"-22.682175493275004\", \"-21.458880681277506\", \"-23.204139417553773\", \"-23.550813982041632\", \"-21.771282633955668\", \"-12.302576436919377\", \"-22.53039789363149\", \"-23.101988407689344\", \"-21.62399138803226\", \"-26.46146573646032\", \"-21.298552180248514\", \"-22.741823146085654\", \"-23.38769422306937\", \"-20.25393473416365\", \"-24.320986415024468\"], \"lon\": [\"-46.53374514741128\", \"-47.066350129618975\", \"-47.81027519335388\", \"-46.79195514213204\", \"-45.88450791544053\", \"-46.56501607821502\", \"-47.445477447954964\", \"-36.631634206273475\", \"-46.54355287789321\", \"-46.33544030617745\", \"-46.1858059666822\", \"-46.84107644875397\", \"-36.68299643708804\", \"-46.38873168393885\", \"-47.40425685663035\", \"-46.919421219132225\", \"-44.32849463469931\", \"-46.63183695094478\", \"-49.376176333136435\", \"-46.34612095421288\", \"-46.620919429258215\", \"-47.88637403109901\", \"-53.00415692026982\", \"-46.87944265529516\", \"-46.31157790147365\", \"-46.46166129963166\", \"-46.753037087986236\", \"-47.21465997216925\", \"-47.27322426972504\", \"-47.210494619295694\", \"-46.25835688432762\", \"-46.412456003953174\", \"-49.94985748319571\", \"-51.39295166842492\", \"-49.087553747310565\", \"-47.64801551751325\", \"-47.39738835914721\", \"-47.74697284366119\", \"-46.89775781858984\", \"-47.33352043045119\", \"-45.55965015427076\", \"-46.93314814995035\", \"-45.96620779672148\", \"-47.43915755127805\", \"-45.708036435850815\", \"-46.858254930435656\", \"-35.437450576093525\", \"-47.98789725299906\", \"-48.17841829214586\", \"-48.97742265830988\", \"-49.950476949361565\", \"-47.18539782857754\", \"-48.44411521985145\", \"-46.8139941987851\", \"-46.4243667251355\", \"-46.72941008766504\", \"-51.34297253644225\", \"-46.37136729969316\", \"-45.461653230283474\", \"-46.55519580325488\", \"-46.922615757143156\", \"-50.44052312034531\", \"-46.745180064578776\", \"-46.857594146992334\", \"-46.87854619544417\", \"-46.55665930331883\", \"-46.90271487924566\", \"-45.12006631830376\", \"-47.38463567334304\", \"-48.55960123350438\", \"-50.34357875000643\", \"-36.5501347637916\", \"-45.4147054508412\", \"-48.04873475832351\", \"-46.997766857042194\", \"-47.002800647484015\", \"-46.34768911422694\", \"-46.32037951826965\", \"-47.02243990856494\", \"-47.29348952879166\", \"-57.96324038879362\", \"-46.94319774866786\", \"-46.54227672398521\", \"-47.29309069044903\", \"-46.82384340255078\", \"-47.48743392502622\", \"-45.19417504235069\", \"-46.59009312318633\", \"-48.925465040275284\", \"-50.247528388892896\", \"-46.74013927367949\", \"-47.41471002544386\", \"-51.84517169327611\", \"-48.57023549274667\", \"-49.870120739846556\", \"-50.893463898762185\", \"-47.00160398139703\", \"-48.325626779943406\", \"-47.79060487543854\", \"-44.444508422937204\", \"-47.223440451424004\", \"-48.00400394733307\", \"-47.149176244323534\", \"-46.78931815138612\", \"-44.142253425660336\", \"-47.55503392525336\", \"-47.746267457454\", \"-48.04266231528077\", \"-46.22444702096867\", \"-48.87684845439159\", \"-48.57272560886646\", \"-46.98371194012917\", \"-46.78600456875715\", \"-47.50755335290564\", \"-50.176382052562445\", \"-49.6550110576238\", \"-51.472666025341944\", \"-48.59622403351877\", \"-49.68964498338218\", \"-47.84530528317165\", \"-48.382331290307526\", \"-46.94876886791196\", \"-37.06301796198896\", \"-46.77241957566869\", \"-46.139982640293695\", \"-47.29446030296748\", \"-48.510750400371336\", \"-46.736522405230176\", \"-46.98546099750559\", \"-48.115073721738064\", \"-46.846751936584106\", \"-46.71801701564199\", \"-48.778522824973244\", \"-47.84652667689403\", \"-47.426145926627505\", \"-47.31258390004211\", \"-47.13607244324971\", \"-47.85971496001624\", \"-47.192978211928825\", \"-47.825270428877154\", \"-52.593213296037796\", \"-50.21838435793653\", \"-52.20329368959023\", \"-47.60506054914212\", \"-48.80409373225103\", \"-48.06827140441496\", \"-46.03734061972221\", \"-47.71678309162653\", \"-47.57472777670738\", \"-46.64405241732199\", \"-47.76098246251021\", \"-52.862974613473625\", \"-50.077270430204855\", \"-47.0657352017016\", \"-48.83231146228242\", \"-48.23198346384818\", \"-48.47948695806725\", \"-47.88560448342162\", \"-51.49806176842181\", \"-45.08380306944459\", \"-47.97602344741419\", \"-47.13665279059026\", \"-47.42597698316277\", \"-48.7442367958674\", \"-46.406203038186796\", \"-49.86030440480843\", \"-45.41292389438364\", \"-46.22406362330467\", \"-49.425015136726955\", \"-49.44494897782077\", \"-45.58372651930845\", \"-49.62994872287279\", \"-47.05966281511592\", \"-48.497470931757285\", \"-44.969344820926025\", \"-50.41872823793834\", \"-46.52551356433766\", \"-46.99950413881189\", \"-49.913948551921486\", \"-50.57904250025521\", \"-42.168517624503735\", \"-49.22381915957686\", \"-52.82855332653688\", \"-48.986731522289496\", \"-48.312371222153985\", \"-54.25777623055668\", \"-52.1115689857017\", \"-46.82283113303869\", \"-47.52552411316129\", \"-48.80674686643444\", \"-51.90877933882384\", \"-47.66234086760143\", \"-49.978524090911215\", \"-35.63492322875568\", \"-47.90998371147075\", \"-48.12552035248592\", \"-38.15075374990428\", \"-49.482272519474435\", \"-48.221353456494725\", \"-51.587707304820356\", \"-46.7284134308415\", \"-47.595637875295665\", \"-49.13428131238024\", \"-47.061226677039585\", \"-46.94850851200145\", \"-51.434611122706684\", \"-47.38450917061954\", \"-49.89902572145434\", \"-45.84692365625565\", \"-46.39748209093927\", \"-47.61850593345452\", \"-46.79475163869549\", \"-51.48881662667007\", \"-49.63586099300176\", \"-47.67897936833315\", \"-46.46787075335775\", \"-49.75296911330342\", \"-48.5587578042053\", \"-53.44045353227566\", \"-46.62895220028066\", \"-45.01576940520834\", \"-51.265789239721855\", \"-46.891681906392705\", \"-48.36437299706287\", \"-49.16594864030659\", \"-48.81531789652374\", \"-47.993958297715956\", \"-38.08056990081715\", \"-45.23288343003206\", \"-49.09242009832731\", \"-49.818435697078186\", \"-47.4783994730763\", \"-48.91103116666641\", \"-48.51160768972792\", \"-46.27451282558542\", \"-50.575946736044656\", \"-49.053949433562096\", \"-50.262098031446705\", \"-49.24394832929598\", \"-48.163950841377634\", \"-50.09094756435985\", \"-50.3911530993373\", \"-46.88769823215495\", \"-51.52387845122919\", \"-49.312676182896965\", \"-47.17307887863343\", \"-45.25559254474345\", \"-51.66597909803233\", \"-49.0539487749963\", \"-50.40094775813568\", \"-49.24254740896242\", \"-49.79894819777518\", \"-47.049093242436996\", \"-48.76396049233268\", \"-49.429948369255065\", \"-53.05910746653248\", \"-47.429503867488926\", \"-47.7225582642651\", \"-47.70123851098502\", \"-49.380751272757664\", \"-49.589948416815446\", \"-51.76296000155975\", \"-48.560950029702255\", \"-49.7779486245262\", \"-38.61773609870683\", \"-35.42827005252445\", \"-49.82115113215857\", \"-52.51563717258108\", \"-47.82402433651495\", \"-48.451405872250895\", \"-49.33975076368857\", \"-50.55494739404005\", \"-49.21994935933186\", \"-44.95794514996274\", \"-49.701983951491314\", \"-49.37694903790686\", \"-48.944949872892295\", \"-51.6499440719344\", \"-47.24842126445955\", \"-50.54985722768723\", \"-49.2809489258582\", \"-48.17932020001403\", \"-48.05848464164095\", \"-48.80406241948041\", \"-50.38774730920408\", \"-51.074117406852984\", \"-50.645756528654026\", \"-50.18694790447186\", \"-48.69034138134254\", \"-69.93875219303041\", \"-48.63095007800078\", \"-46.650431216887306\", \"-44.528466882991964\", \"-49.267949250725415\", \"-48.107949703431785\", \"-54.28422335425135\", \"-54.59288182606686\", \"-51.96209910486906\", \"-49.43854634560173\", \"-48.293376550428555\", \"-50.36094769573142\", \"-47.55215431585426\", \"-50.5473799585441\", \"-48.8067418743541\", \"-46.39869139687371\", \"-46.694143366214284\", \"-49.49905266846365\", \"-47.71548909709013\", \"-48.720143100332606\", \"-47.27074208039414\", \"-46.412842652806695\", \"-50.97279669873876\", \"-47.37159690995883\", \"-51.11268768812056\", \"-46.59007555041951\", \"-52.99171992364189\", \"-51.73092335297441\", \"-50.730128714372725\", \"-49.983553185046496\", \"-50.66194724751162\", \"-48.80578568985379\", \"-50.51953269704223\", \"-50.317906179084254\", \"-50.51294764710186\", \"-47.28051930717713\", \"-47.5606419221203\", \"-47.59254702624969\", \"-46.684882292226845\", \"-50.87970953925605\", \"-51.53545866339404\", \"-49.14040380929923\", \"-49.65672960133798\", \"-37.338629619660246\", \"-49.43126255871229\", \"-52.3112920795642\", \"-51.70282369129738\", \"-49.031147536530554\", \"-49.74324621270481\", \"-51.562560256908476\", \"-48.013280604300185\", \"-47.73282713863024\", \"-50.10746565133684\", \"-50.147908897089735\", \"-49.52102026660941\", \"-48.628950133903764\", \"-45.30738107311922\", \"-48.07324106060905\", \"-51.8566112384485\", \"-49.51282072807676\", \"-41.32370320550372\", \"-48.51794997127077\", \"-50.93237542480635\", \"-47.92835346500953\", \"-48.616123014565325\", \"-48.5049489867207\", \"-47.88094998205019\", \"-48.721847570944256\", \"-48.911674480302196\", \"-48.56008086628026\", \"-43.18989963605078\", \"-51.56271718136783\", \"-46.919588262899026\", \"-48.84468797373067\", \"-49.02494927852387\", \"-48.90901736684805\", \"-48.391028266652626\", \"-48.41428287712021\", \"-48.006814014992756\", \"-46.359769772824116\", \"-46.95091198383732\", \"-46.68137688207984\", \"-49.951307760621035\", \"-46.157379831552944\", \"-47.89837864003746\", \"-47.08564203431249\", \"-38.64016294242486\", \"-52.168606655674\", \"-48.25795001444787\", \"-50.86094660462279\", \"-50.233156930523336\", \"-51.56831332641426\", \"-46.89524449879476\", \"-45.664334974623706\", \"-47.477845620767134\", \"-47.63495052406678\"], \"name\": \"\", \"radius\": 40, \"subplot\": \"mapbox\", \"type\": \"densitymapbox\", \"z\": [102, 76, 69, 67, 58, 56, 52, 45, 45, 36, 35, 34, 33, 33, 32, 32, 32, 31, 30, 30, 30, 30, 30, 27, 27, 27, 27, 25, 23, 23, 22, 22, 22, 21, 20, 18, 17, 16, 16, 15, 15, 15, 14, 14, 14, 14, 13, 13, 13, 13, 13, 12, 12, 12, 12, 12, 12, 12, 11, 11, 11, 11, 11, 11, 10, 9, 9, 9, 9, 9, 9, 8, 8, 8, 8, 8, 8, 8, 7, 7, 7, 7, 7, 7, 7, 6, 6, 6, 6, 6, 6, 6, 6, 6, 6, 6, 6, 6, 5, 5, 5, 5, 5, 5, 5, 5, 5, 5, 5, 5, 5, 5, 5, 5, 5, 5, 4, 4, 4, 4, 4, 4, 4, 4, 4, 4, 4, 4, 4, 4, 4, 4, 4, 4, 4, 4, 4, 4, 4, 3, 3, 3, 3, 3, 3, 3, 3, 3, 3, 3, 3, 3, 3, 3, 3, 3, 3, 3, 3, 3, 3, 3, 3, 3, 3, 3, 3, 3, 3, 3, 3, 3, 3, 3, 3, 3, 3, 2, 2, 2, 2, 2, 2, 2, 2, 2, 2, 2, 2, 2, 2, 2, 2, 2, 2, 2, 2, 2, 2, 2, 2, 2, 2, 2, 2, 2, 2, 2, 2, 2, 2, 2, 2, 2, 2, 2, 2, 2, 2, 2, 2, 2, 2, 2, 2, 2, 2, 2, 2, 2, 2, 2, 2, 2, 1, 1, 1, 1, 1, 1, 1, 1, 1, 1, 1, 1, 1, 1, 1, 1, 1, 1, 1, 1, 1, 1, 1, 1, 1, 1, 1, 1, 1, 1, 1, 1, 1, 1, 1, 1, 1, 1, 1, 1, 1, 1, 1, 1, 1, 1, 1, 1, 1, 1, 1, 1, 1, 1, 1, 1, 1, 1, 1, 1, 1, 1, 1, 1, 1, 1, 1, 1, 1, 1, 1, 1, 1, 1, 1, 1, 1, 1, 1, 1, 1, 1, 1, 1, 1, 1, 1, 1, 1, 1, 1, 1, 1, 1, 1, 1, 1, 1, 1, 1, 1, 1, 1, 1, 1, 1, 1, 1, 1, 1, 1, 1, 1, 1, 1, 1, 1, 1, 1, 1, 1, 1, 1, 1, 1, 1, 1, 1, 1, 1, 1, 1, 1, 1, 1, 1, 1, 1, 1, 1, 1, 1, 1, 1, 1, 1, 1, 1, 1, 1, 1]}],\n",
              "                        {\"coloraxis\": {\"colorbar\": {\"title\": {\"text\": \"Qtdes\"}}, \"colorscale\": [[0.0, \"#0d0887\"], [0.1111111111111111, \"#46039f\"], [0.2222222222222222, \"#7201a8\"], [0.3333333333333333, \"#9c179e\"], [0.4444444444444444, \"#bd3786\"], [0.5555555555555556, \"#d8576b\"], [0.6666666666666666, \"#ed7953\"], [0.7777777777777778, \"#fb9f3a\"], [0.8888888888888888, \"#fdca26\"], [1.0, \"#f0f921\"]]}, \"legend\": {\"tracegroupgap\": 0}, \"mapbox\": {\"center\": {\"lat\": -22, \"lon\": -48}, \"domain\": {\"x\": [0.0, 1.0], \"y\": [0.0, 1.0]}, \"style\": \"stamen-terrain\", \"zoom\": 5}, \"margin\": {\"t\": 60}, \"template\": {\"data\": {\"bar\": [{\"error_x\": {\"color\": \"#2a3f5f\"}, \"error_y\": {\"color\": \"#2a3f5f\"}, \"marker\": {\"line\": {\"color\": \"#E5ECF6\", \"width\": 0.5}}, \"type\": \"bar\"}], \"barpolar\": [{\"marker\": {\"line\": {\"color\": \"#E5ECF6\", \"width\": 0.5}}, \"type\": \"barpolar\"}], \"carpet\": [{\"aaxis\": {\"endlinecolor\": \"#2a3f5f\", \"gridcolor\": \"white\", \"linecolor\": \"white\", \"minorgridcolor\": \"white\", \"startlinecolor\": \"#2a3f5f\"}, \"baxis\": {\"endlinecolor\": \"#2a3f5f\", \"gridcolor\": \"white\", \"linecolor\": \"white\", \"minorgridcolor\": \"white\", \"startlinecolor\": \"#2a3f5f\"}, \"type\": \"carpet\"}], \"choropleth\": [{\"colorbar\": {\"outlinewidth\": 0, \"ticks\": \"\"}, \"type\": \"choropleth\"}], \"contour\": [{\"colorbar\": {\"outlinewidth\": 0, \"ticks\": \"\"}, \"colorscale\": [[0.0, \"#0d0887\"], [0.1111111111111111, \"#46039f\"], [0.2222222222222222, \"#7201a8\"], [0.3333333333333333, \"#9c179e\"], [0.4444444444444444, \"#bd3786\"], [0.5555555555555556, \"#d8576b\"], [0.6666666666666666, \"#ed7953\"], [0.7777777777777778, \"#fb9f3a\"], [0.8888888888888888, \"#fdca26\"], [1.0, \"#f0f921\"]], \"type\": \"contour\"}], \"contourcarpet\": [{\"colorbar\": {\"outlinewidth\": 0, \"ticks\": \"\"}, \"type\": \"contourcarpet\"}], \"heatmap\": [{\"colorbar\": {\"outlinewidth\": 0, \"ticks\": \"\"}, \"colorscale\": [[0.0, \"#0d0887\"], [0.1111111111111111, \"#46039f\"], [0.2222222222222222, \"#7201a8\"], [0.3333333333333333, \"#9c179e\"], [0.4444444444444444, \"#bd3786\"], [0.5555555555555556, \"#d8576b\"], [0.6666666666666666, \"#ed7953\"], [0.7777777777777778, \"#fb9f3a\"], [0.8888888888888888, \"#fdca26\"], [1.0, \"#f0f921\"]], \"type\": \"heatmap\"}], \"heatmapgl\": [{\"colorbar\": {\"outlinewidth\": 0, \"ticks\": \"\"}, \"colorscale\": [[0.0, \"#0d0887\"], [0.1111111111111111, \"#46039f\"], [0.2222222222222222, \"#7201a8\"], [0.3333333333333333, \"#9c179e\"], [0.4444444444444444, \"#bd3786\"], [0.5555555555555556, \"#d8576b\"], [0.6666666666666666, \"#ed7953\"], [0.7777777777777778, \"#fb9f3a\"], [0.8888888888888888, \"#fdca26\"], [1.0, \"#f0f921\"]], \"type\": \"heatmapgl\"}], \"histogram\": [{\"marker\": {\"colorbar\": {\"outlinewidth\": 0, \"ticks\": \"\"}}, \"type\": \"histogram\"}], \"histogram2d\": [{\"colorbar\": {\"outlinewidth\": 0, \"ticks\": \"\"}, \"colorscale\": [[0.0, \"#0d0887\"], [0.1111111111111111, \"#46039f\"], [0.2222222222222222, \"#7201a8\"], [0.3333333333333333, \"#9c179e\"], [0.4444444444444444, \"#bd3786\"], [0.5555555555555556, \"#d8576b\"], [0.6666666666666666, \"#ed7953\"], [0.7777777777777778, \"#fb9f3a\"], [0.8888888888888888, \"#fdca26\"], [1.0, \"#f0f921\"]], \"type\": \"histogram2d\"}], \"histogram2dcontour\": [{\"colorbar\": {\"outlinewidth\": 0, \"ticks\": \"\"}, \"colorscale\": [[0.0, \"#0d0887\"], [0.1111111111111111, \"#46039f\"], [0.2222222222222222, \"#7201a8\"], [0.3333333333333333, \"#9c179e\"], [0.4444444444444444, \"#bd3786\"], [0.5555555555555556, \"#d8576b\"], [0.6666666666666666, \"#ed7953\"], [0.7777777777777778, \"#fb9f3a\"], [0.8888888888888888, \"#fdca26\"], [1.0, \"#f0f921\"]], \"type\": \"histogram2dcontour\"}], \"mesh3d\": [{\"colorbar\": {\"outlinewidth\": 0, \"ticks\": \"\"}, \"type\": \"mesh3d\"}], \"parcoords\": [{\"line\": {\"colorbar\": {\"outlinewidth\": 0, \"ticks\": \"\"}}, \"type\": \"parcoords\"}], \"pie\": [{\"automargin\": true, \"type\": \"pie\"}], \"scatter\": [{\"marker\": {\"colorbar\": {\"outlinewidth\": 0, \"ticks\": \"\"}}, \"type\": \"scatter\"}], \"scatter3d\": [{\"line\": {\"colorbar\": {\"outlinewidth\": 0, \"ticks\": \"\"}}, \"marker\": {\"colorbar\": {\"outlinewidth\": 0, \"ticks\": \"\"}}, \"type\": \"scatter3d\"}], \"scattercarpet\": [{\"marker\": {\"colorbar\": {\"outlinewidth\": 0, \"ticks\": \"\"}}, \"type\": \"scattercarpet\"}], \"scattergeo\": [{\"marker\": {\"colorbar\": {\"outlinewidth\": 0, \"ticks\": \"\"}}, \"type\": \"scattergeo\"}], \"scattergl\": [{\"marker\": {\"colorbar\": {\"outlinewidth\": 0, \"ticks\": \"\"}}, \"type\": \"scattergl\"}], \"scattermapbox\": [{\"marker\": {\"colorbar\": {\"outlinewidth\": 0, \"ticks\": \"\"}}, \"type\": \"scattermapbox\"}], \"scatterpolar\": [{\"marker\": {\"colorbar\": {\"outlinewidth\": 0, \"ticks\": \"\"}}, \"type\": \"scatterpolar\"}], \"scatterpolargl\": [{\"marker\": {\"colorbar\": {\"outlinewidth\": 0, \"ticks\": \"\"}}, \"type\": \"scatterpolargl\"}], \"scatterternary\": [{\"marker\": {\"colorbar\": {\"outlinewidth\": 0, \"ticks\": \"\"}}, \"type\": \"scatterternary\"}], \"surface\": [{\"colorbar\": {\"outlinewidth\": 0, \"ticks\": \"\"}, \"colorscale\": [[0.0, \"#0d0887\"], [0.1111111111111111, \"#46039f\"], [0.2222222222222222, \"#7201a8\"], [0.3333333333333333, \"#9c179e\"], [0.4444444444444444, \"#bd3786\"], [0.5555555555555556, \"#d8576b\"], [0.6666666666666666, \"#ed7953\"], [0.7777777777777778, \"#fb9f3a\"], [0.8888888888888888, \"#fdca26\"], [1.0, \"#f0f921\"]], \"type\": \"surface\"}], \"table\": [{\"cells\": {\"fill\": {\"color\": \"#EBF0F8\"}, \"line\": {\"color\": \"white\"}}, \"header\": {\"fill\": {\"color\": \"#C8D4E3\"}, \"line\": {\"color\": \"white\"}}, \"type\": \"table\"}]}, \"layout\": {\"annotationdefaults\": {\"arrowcolor\": \"#2a3f5f\", \"arrowhead\": 0, \"arrowwidth\": 1}, \"coloraxis\": {\"colorbar\": {\"outlinewidth\": 0, \"ticks\": \"\"}}, \"colorscale\": {\"diverging\": [[0, \"#8e0152\"], [0.1, \"#c51b7d\"], [0.2, \"#de77ae\"], [0.3, \"#f1b6da\"], [0.4, \"#fde0ef\"], [0.5, \"#f7f7f7\"], [0.6, \"#e6f5d0\"], [0.7, \"#b8e186\"], [0.8, \"#7fbc41\"], [0.9, \"#4d9221\"], [1, \"#276419\"]], \"sequential\": [[0.0, \"#0d0887\"], [0.1111111111111111, \"#46039f\"], [0.2222222222222222, \"#7201a8\"], [0.3333333333333333, \"#9c179e\"], [0.4444444444444444, \"#bd3786\"], [0.5555555555555556, \"#d8576b\"], [0.6666666666666666, \"#ed7953\"], [0.7777777777777778, \"#fb9f3a\"], [0.8888888888888888, \"#fdca26\"], [1.0, \"#f0f921\"]], \"sequentialminus\": [[0.0, \"#0d0887\"], [0.1111111111111111, \"#46039f\"], [0.2222222222222222, \"#7201a8\"], [0.3333333333333333, \"#9c179e\"], [0.4444444444444444, \"#bd3786\"], [0.5555555555555556, \"#d8576b\"], [0.6666666666666666, \"#ed7953\"], [0.7777777777777778, \"#fb9f3a\"], [0.8888888888888888, \"#fdca26\"], [1.0, \"#f0f921\"]]}, \"colorway\": [\"#636efa\", \"#EF553B\", \"#00cc96\", \"#ab63fa\", \"#FFA15A\", \"#19d3f3\", \"#FF6692\", \"#B6E880\", \"#FF97FF\", \"#FECB52\"], \"font\": {\"color\": \"#2a3f5f\"}, \"geo\": {\"bgcolor\": \"white\", \"lakecolor\": \"white\", \"landcolor\": \"#E5ECF6\", \"showlakes\": true, \"showland\": true, \"subunitcolor\": \"white\"}, \"hoverlabel\": {\"align\": \"left\"}, \"hovermode\": \"closest\", \"mapbox\": {\"style\": \"light\"}, \"paper_bgcolor\": \"white\", \"plot_bgcolor\": \"#E5ECF6\", \"polar\": {\"angularaxis\": {\"gridcolor\": \"white\", \"linecolor\": \"white\", \"ticks\": \"\"}, \"bgcolor\": \"#E5ECF6\", \"radialaxis\": {\"gridcolor\": \"white\", \"linecolor\": \"white\", \"ticks\": \"\"}}, \"scene\": {\"xaxis\": {\"backgroundcolor\": \"#E5ECF6\", \"gridcolor\": \"white\", \"gridwidth\": 2, \"linecolor\": \"white\", \"showbackground\": true, \"ticks\": \"\", \"zerolinecolor\": \"white\"}, \"yaxis\": {\"backgroundcolor\": \"#E5ECF6\", \"gridcolor\": \"white\", \"gridwidth\": 2, \"linecolor\": \"white\", \"showbackground\": true, \"ticks\": \"\", \"zerolinecolor\": \"white\"}, \"zaxis\": {\"backgroundcolor\": \"#E5ECF6\", \"gridcolor\": \"white\", \"gridwidth\": 2, \"linecolor\": \"white\", \"showbackground\": true, \"ticks\": \"\", \"zerolinecolor\": \"white\"}}, \"shapedefaults\": {\"line\": {\"color\": \"#2a3f5f\"}}, \"ternary\": {\"aaxis\": {\"gridcolor\": \"white\", \"linecolor\": \"white\", \"ticks\": \"\"}, \"baxis\": {\"gridcolor\": \"white\", \"linecolor\": \"white\", \"ticks\": \"\"}, \"bgcolor\": \"#E5ECF6\", \"caxis\": {\"gridcolor\": \"white\", \"linecolor\": \"white\", \"ticks\": \"\"}}, \"title\": {\"x\": 0.05}, \"xaxis\": {\"automargin\": true, \"gridcolor\": \"white\", \"linecolor\": \"white\", \"ticks\": \"\", \"title\": {\"standoff\": 15}, \"zerolinecolor\": \"white\", \"zerolinewidth\": 2}, \"yaxis\": {\"automargin\": true, \"gridcolor\": \"white\", \"linecolor\": \"white\", \"ticks\": \"\", \"title\": {\"standoff\": 15}, \"zerolinecolor\": \"white\", \"zerolinewidth\": 2}}}},\n",
              "                        {\"responsive\": true}\n",
              "                    ).then(function(){\n",
              "                            \n",
              "var gd = document.getElementById('27cd3777-5ace-496a-bf6f-a0faeec096f4');\n",
              "var x = new MutationObserver(function (mutations, observer) {{\n",
              "        var display = window.getComputedStyle(gd).display;\n",
              "        if (!display || display === 'none') {{\n",
              "            console.log([gd, 'removed!']);\n",
              "            Plotly.purge(gd);\n",
              "            observer.disconnect();\n",
              "        }}\n",
              "}});\n",
              "\n",
              "// Listen for the removal of the full notebook cells\n",
              "var notebookContainer = gd.closest('#notebook-container');\n",
              "if (notebookContainer) {{\n",
              "    x.observe(notebookContainer, {childList: true});\n",
              "}}\n",
              "\n",
              "// Listen for the clearing of the current output cell\n",
              "var outputEl = gd.closest('.output');\n",
              "if (outputEl) {{\n",
              "    x.observe(outputEl, {childList: true});\n",
              "}}\n",
              "\n",
              "                        })\n",
              "                };\n",
              "                \n",
              "            </script>\n",
              "        </div>\n",
              "</body>\n",
              "</html>"
            ]
          },
          "metadata": {
            "tags": []
          }
        }
      ]
    },
    {
      "cell_type": "code",
      "metadata": {
        "id": "gBcIVUiEpQey"
      },
      "source": [
        ""
      ],
      "execution_count": null,
      "outputs": []
    }
  ]
}