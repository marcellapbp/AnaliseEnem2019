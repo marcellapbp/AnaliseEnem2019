{
  "nbformat": 4,
  "nbformat_minor": 0,
  "metadata": {
    "colab": {
      "name": "1_Leitura Dados em Grande Volume com Pandas.ipynb",
      "provenance": [],
      "collapsed_sections": [],
      "authorship_tag": "ABX9TyPmGLwE8ADQLBlqsSvz+CVB",
      "include_colab_link": true
    },
    "kernelspec": {
      "name": "python3",
      "display_name": "Python 3"
    }
  },
  "cells": [
    {
      "cell_type": "markdown",
      "metadata": {
        "id": "view-in-github",
        "colab_type": "text"
      },
      "source": [
        "<a href=\"https://colab.research.google.com/github/marcellapbp/AnaliseEnem2019/blob/main/1_Leitura_Dados_em_Grande_Volume_com_Pandas.ipynb\" target=\"_parent\"><img src=\"https://colab.research.google.com/assets/colab-badge.svg\" alt=\"Open In Colab\"/></a>"
      ]
    },
    {
      "cell_type": "markdown",
      "metadata": {
        "id": "-YOZYvMf3vjw"
      },
      "source": [
        "#Leitura Dados em Grande Volume com Pandas\n",
        "\n",
        "Neste notebook é feito a leitura dos dados do Enem 2019 disponível no [site do INEP](http://inep.gov.br/microdados).\n",
        "<br><br>\n",
        "Como o dataset possui mais de 3gb de conteúdo após descompactado torna inviável realizar sua leitura da forma convencional com a biblioteca Pandas, pois ocupa muito espaço em memória ocasionando erro.\n",
        "Sendo assim através de um artigo no [Medium](https://medium.com/@miltongamaneto/otimizando-o-armazenamento-da-mem%C3%B3ria-de-um-dataframe-pandas-ca8c4eb45699) encontrei uma alternativa de realizar a leitura dos dados ainda utilizando Pandas.\n"
      ]
    },
    {
      "cell_type": "markdown",
      "metadata": {
        "id": "1_m5QKYS5YgO"
      },
      "source": [
        "Importando a biblioteca"
      ]
    },
    {
      "cell_type": "code",
      "metadata": {
        "id": "FOvpCA8Lv1kC"
      },
      "source": [
        "import pandas as pd"
      ],
      "execution_count": 1,
      "outputs": []
    },
    {
      "cell_type": "markdown",
      "metadata": {
        "id": "YIn3x52L5dRA"
      },
      "source": [
        "Já que não é possível realizar a leitura de uma vez, a ideia foi ler em partes e ir armazenando cada parte e ao final concatenar num único Data Frame. Para isso utilizei as opções *chunksize* e *low_memory* combinado com um loop para a cada iteração gravar parte dos dados.\n",
        "<br><br>\n",
        "Já as opções *encoding* e *delimiter* foram necessárias para conseguir fazer a leitura e separar as colunas corretamente.\n",
        "<br><br>\n",
        "Obs.: Conectei o notebook localmente para aproveitar a infraestrura local com mais memória, pois a  execução demora alguns minutos."
      ]
    },
    {
      "cell_type": "code",
      "metadata": {
        "id": "88LVo-sywLZD"
      },
      "source": [
        "lotes = []\n",
        "\n",
        "for lote in pd.read_csv(r\"C:\\Users\\marcellapereira\\Downloads\\microdados_enem_2019\\DADOS\\MICRODADOS_ENEM_2019.csv\", encoding='ISO-8859-1', delimiter=';', low_memory=False, chunksize=1000):\n",
        "  lotes.append(lote)\n",
        "\n",
        "df = pd.concat(lotes)"
      ],
      "execution_count": null,
      "outputs": []
    },
    {
      "cell_type": "markdown",
      "metadata": {
        "id": "z3mqhhlO69L9"
      },
      "source": [
        "Conferindo o tamanho do arquivo e de fato armazenou as mais de 5 milhões de linhas.\n",
        "<br>\n",
        "Nem no excel é possível ler todos os dados, o Excel suporta até em torno de 1 milhão e 45 mil linhas."
      ]
    },
    {
      "cell_type": "code",
      "metadata": {
        "id": "QMkT1jCx3cJt",
        "outputId": "9e364674-1714-47b9-d2a1-9eba9333ed59",
        "colab": {
          "base_uri": "https://localhost:8080/"
        }
      },
      "source": [
        "df.shape"
      ],
      "execution_count": null,
      "outputs": [
        {
          "output_type": "execute_result",
          "data": {
            "text/plain": [
              "(5095270, 136)"
            ]
          },
          "metadata": {
            "tags": []
          },
          "execution_count": 10
        }
      ]
    },
    {
      "cell_type": "markdown",
      "metadata": {
        "id": "vkzKLrNp7VRJ"
      },
      "source": [
        "Conferindo as primeiras linhas para garantir que os dados não ficaram distorcidos."
      ]
    },
    {
      "cell_type": "code",
      "metadata": {
        "id": "JlNhJHsP4EU7",
        "outputId": "197ce08f-8ad6-4c3a-abc8-39d783b6e2db",
        "colab": {
          "base_uri": "https://localhost:8080/",
          "height": 236
        }
      },
      "source": [
        "df.head()"
      ],
      "execution_count": null,
      "outputs": [
        {
          "output_type": "execute_result",
          "data": {
            "text/plain": [
              "   NU_INSCRICAO  NU_ANO  CO_MUNICIPIO_RESIDENCIA     NO_MUNICIPIO_RESIDENCIA  \\\n",
              "0  190001004627    2019                  1506807                    Santarém   \n",
              "1  190001004628    2019                  1504059                  Mãe do Rio   \n",
              "2  190001004629    2019                  1505502                 Paragominas   \n",
              "3  190001004630    2019                  1507706  São Sebastião da Boa Vista   \n",
              "4  190001004631    2019                  1503903                      Juruti   \n",
              "\n",
              "   CO_UF_RESIDENCIA SG_UF_RESIDENCIA  NU_IDADE TP_SEXO  TP_ESTADO_CIVIL  \\\n",
              "0                15               PA        21       M                1   \n",
              "1                15               PA        16       F                1   \n",
              "2                15               PA        18       F                1   \n",
              "3                15               PA        23       M                0   \n",
              "4                15               PA        23       M                1   \n",
              "\n",
              "   TP_COR_RACA  ...  Q016  Q017 Q018  Q019 Q020  Q021  Q022  Q023  Q024  Q025  \n",
              "0            3  ...     A     A    A     C    B     A     D     A     B     A  \n",
              "1            3  ...     A     A    A     B    B     A     B     A     A     A  \n",
              "2            1  ...     B     A    A     D    B     B     D     A     C     B  \n",
              "3            3  ...     A     A    A     C    A     A     D     A     A     A  \n",
              "4            3  ...     A     A    A     B    A     A     D     A     A     A  \n",
              "\n",
              "[5 rows x 136 columns]"
            ],
            "text/html": [
              "<div>\n",
              "<style scoped>\n",
              "    .dataframe tbody tr th:only-of-type {\n",
              "        vertical-align: middle;\n",
              "    }\n",
              "\n",
              "    .dataframe tbody tr th {\n",
              "        vertical-align: top;\n",
              "    }\n",
              "\n",
              "    .dataframe thead th {\n",
              "        text-align: right;\n",
              "    }\n",
              "</style>\n",
              "<table border=\"1\" class=\"dataframe\">\n",
              "  <thead>\n",
              "    <tr style=\"text-align: right;\">\n",
              "      <th></th>\n",
              "      <th>NU_INSCRICAO</th>\n",
              "      <th>NU_ANO</th>\n",
              "      <th>CO_MUNICIPIO_RESIDENCIA</th>\n",
              "      <th>NO_MUNICIPIO_RESIDENCIA</th>\n",
              "      <th>CO_UF_RESIDENCIA</th>\n",
              "      <th>SG_UF_RESIDENCIA</th>\n",
              "      <th>NU_IDADE</th>\n",
              "      <th>TP_SEXO</th>\n",
              "      <th>TP_ESTADO_CIVIL</th>\n",
              "      <th>TP_COR_RACA</th>\n",
              "      <th>...</th>\n",
              "      <th>Q016</th>\n",
              "      <th>Q017</th>\n",
              "      <th>Q018</th>\n",
              "      <th>Q019</th>\n",
              "      <th>Q020</th>\n",
              "      <th>Q021</th>\n",
              "      <th>Q022</th>\n",
              "      <th>Q023</th>\n",
              "      <th>Q024</th>\n",
              "      <th>Q025</th>\n",
              "    </tr>\n",
              "  </thead>\n",
              "  <tbody>\n",
              "    <tr>\n",
              "      <th>0</th>\n",
              "      <td>190001004627</td>\n",
              "      <td>2019</td>\n",
              "      <td>1506807</td>\n",
              "      <td>Santarém</td>\n",
              "      <td>15</td>\n",
              "      <td>PA</td>\n",
              "      <td>21</td>\n",
              "      <td>M</td>\n",
              "      <td>1</td>\n",
              "      <td>3</td>\n",
              "      <td>...</td>\n",
              "      <td>A</td>\n",
              "      <td>A</td>\n",
              "      <td>A</td>\n",
              "      <td>C</td>\n",
              "      <td>B</td>\n",
              "      <td>A</td>\n",
              "      <td>D</td>\n",
              "      <td>A</td>\n",
              "      <td>B</td>\n",
              "      <td>A</td>\n",
              "    </tr>\n",
              "    <tr>\n",
              "      <th>1</th>\n",
              "      <td>190001004628</td>\n",
              "      <td>2019</td>\n",
              "      <td>1504059</td>\n",
              "      <td>Mãe do Rio</td>\n",
              "      <td>15</td>\n",
              "      <td>PA</td>\n",
              "      <td>16</td>\n",
              "      <td>F</td>\n",
              "      <td>1</td>\n",
              "      <td>3</td>\n",
              "      <td>...</td>\n",
              "      <td>A</td>\n",
              "      <td>A</td>\n",
              "      <td>A</td>\n",
              "      <td>B</td>\n",
              "      <td>B</td>\n",
              "      <td>A</td>\n",
              "      <td>B</td>\n",
              "      <td>A</td>\n",
              "      <td>A</td>\n",
              "      <td>A</td>\n",
              "    </tr>\n",
              "    <tr>\n",
              "      <th>2</th>\n",
              "      <td>190001004629</td>\n",
              "      <td>2019</td>\n",
              "      <td>1505502</td>\n",
              "      <td>Paragominas</td>\n",
              "      <td>15</td>\n",
              "      <td>PA</td>\n",
              "      <td>18</td>\n",
              "      <td>F</td>\n",
              "      <td>1</td>\n",
              "      <td>1</td>\n",
              "      <td>...</td>\n",
              "      <td>B</td>\n",
              "      <td>A</td>\n",
              "      <td>A</td>\n",
              "      <td>D</td>\n",
              "      <td>B</td>\n",
              "      <td>B</td>\n",
              "      <td>D</td>\n",
              "      <td>A</td>\n",
              "      <td>C</td>\n",
              "      <td>B</td>\n",
              "    </tr>\n",
              "    <tr>\n",
              "      <th>3</th>\n",
              "      <td>190001004630</td>\n",
              "      <td>2019</td>\n",
              "      <td>1507706</td>\n",
              "      <td>São Sebastião da Boa Vista</td>\n",
              "      <td>15</td>\n",
              "      <td>PA</td>\n",
              "      <td>23</td>\n",
              "      <td>M</td>\n",
              "      <td>0</td>\n",
              "      <td>3</td>\n",
              "      <td>...</td>\n",
              "      <td>A</td>\n",
              "      <td>A</td>\n",
              "      <td>A</td>\n",
              "      <td>C</td>\n",
              "      <td>A</td>\n",
              "      <td>A</td>\n",
              "      <td>D</td>\n",
              "      <td>A</td>\n",
              "      <td>A</td>\n",
              "      <td>A</td>\n",
              "    </tr>\n",
              "    <tr>\n",
              "      <th>4</th>\n",
              "      <td>190001004631</td>\n",
              "      <td>2019</td>\n",
              "      <td>1503903</td>\n",
              "      <td>Juruti</td>\n",
              "      <td>15</td>\n",
              "      <td>PA</td>\n",
              "      <td>23</td>\n",
              "      <td>M</td>\n",
              "      <td>1</td>\n",
              "      <td>3</td>\n",
              "      <td>...</td>\n",
              "      <td>A</td>\n",
              "      <td>A</td>\n",
              "      <td>A</td>\n",
              "      <td>B</td>\n",
              "      <td>A</td>\n",
              "      <td>A</td>\n",
              "      <td>D</td>\n",
              "      <td>A</td>\n",
              "      <td>A</td>\n",
              "      <td>A</td>\n",
              "    </tr>\n",
              "  </tbody>\n",
              "</table>\n",
              "<p>5 rows × 136 columns</p>\n",
              "</div>"
            ]
          },
          "metadata": {
            "tags": []
          },
          "execution_count": 11
        }
      ]
    },
    {
      "cell_type": "markdown",
      "metadata": {
        "id": "3bRw8N277iLt"
      },
      "source": [
        "Conferindo a memória que o Data Frame ocupa após carregado."
      ]
    },
    {
      "cell_type": "code",
      "metadata": {
        "id": "t-1DBF3hxSZn",
        "outputId": "2e49a782-e10e-4aa6-96d2-33233c857067",
        "colab": {
          "base_uri": "https://localhost:8080/"
        }
      },
      "source": [
        "df.info(memory_usage='deep')"
      ],
      "execution_count": null,
      "outputs": [
        {
          "output_type": "stream",
          "text": [
            "<class 'pandas.core.frame.DataFrame'>\n",
            "RangeIndex: 5095270 entries, 0 to 5095269\n",
            "Columns: 136 entries, NU_INSCRICAO to Q025\n",
            "dtypes: float64(24), int64(71), object(41)\n",
            "memory usage: 16.0 GB\n"
          ],
          "name": "stdout"
        }
      ]
    },
    {
      "cell_type": "markdown",
      "metadata": {
        "id": "RIKrjy0FdEHK"
      },
      "source": [
        "No entanto ainda não é possível executar algumas funções por utilizar muita memória, sendo assim, no código abaixo, é selecionando para essa amostra, inscritos no Enem 2019 nascidos no Estado de São Paulo"
      ]
    },
    {
      "cell_type": "code",
      "metadata": {
        "id": "C9P5pmgjdDdK"
      },
      "source": [
        "lotes = []\n",
        "\n",
        "for lote in pd.read_csv(r\"C:\\Users\\marcellapereira\\Downloads\\microdados_enem_2019\\DADOS\\MICRODADOS_ENEM_2019.csv\", encoding='ISO-8859-1', delimiter=';', low_memory=False, chunksize=1000):\n",
        "  lote = lote.drop(lote[lote.SG_UF_RESIDENCIA != 'SP'].index)\n",
        "  lotes.append(lote)\n",
        "\n",
        "df = pd.concat(lotes)"
      ],
      "execution_count": 3,
      "outputs": []
    },
    {
      "cell_type": "code",
      "metadata": {
        "id": "nmeWQSzieI9W",
        "outputId": "73f4a165-9b1c-4627-e6e5-94e4adf2088b",
        "colab": {
          "base_uri": "https://localhost:8080/",
          "height": 254
        }
      },
      "source": [
        "print(f'Shape {df.shape}')\n",
        "df.head()"
      ],
      "execution_count": 6,
      "outputs": [
        {
          "output_type": "stream",
          "text": [
            "Shape (813772, 136)\n"
          ],
          "name": "stdout"
        },
        {
          "output_type": "execute_result",
          "data": {
            "text/plain": [
              "       NU_INSCRICAO  NU_ANO  CO_MUNICIPIO_RESIDENCIA NO_MUNICIPIO_RESIDENCIA  \\\n",
              "12426  190001017053    2019                  3546801            Santa Isabel   \n",
              "14849  190001019476    2019                  3538204             Pinhalzinho   \n",
              "15223  190001019850    2019                  3550308               São Paulo   \n",
              "20246  190001024874    2019                  3548708   São Bernardo do Campo   \n",
              "20303  190001024931    2019                  3549409    São Joaquim da Barra   \n",
              "\n",
              "       CO_UF_RESIDENCIA SG_UF_RESIDENCIA  NU_IDADE TP_SEXO  TP_ESTADO_CIVIL  \\\n",
              "12426                35               SP        22       M                1   \n",
              "14849                35               SP        19       M                1   \n",
              "15223                35               SP        17       F                1   \n",
              "20246                35               SP        19       M                1   \n",
              "20303                35               SP        37       M                2   \n",
              "\n",
              "       TP_COR_RACA  ...  Q016  Q017 Q018  Q019 Q020  Q021  Q022  Q023  Q024  \\\n",
              "12426            3  ...     A     A    A     C    A     A     D     A     B   \n",
              "14849            3  ...     A     A    A     B    A     A     C     A     B   \n",
              "15223            3  ...     A     A    A     A    A     A     C     A     A   \n",
              "20246            3  ...     B     A    B     B    B     A     B     B     A   \n",
              "20303            1  ...     B     A    A     A    A     A     C     B     B   \n",
              "\n",
              "       Q025  \n",
              "12426     B  \n",
              "14849     A  \n",
              "15223     A  \n",
              "20246     B  \n",
              "20303     B  \n",
              "\n",
              "[5 rows x 136 columns]"
            ],
            "text/html": [
              "<div>\n",
              "<style scoped>\n",
              "    .dataframe tbody tr th:only-of-type {\n",
              "        vertical-align: middle;\n",
              "    }\n",
              "\n",
              "    .dataframe tbody tr th {\n",
              "        vertical-align: top;\n",
              "    }\n",
              "\n",
              "    .dataframe thead th {\n",
              "        text-align: right;\n",
              "    }\n",
              "</style>\n",
              "<table border=\"1\" class=\"dataframe\">\n",
              "  <thead>\n",
              "    <tr style=\"text-align: right;\">\n",
              "      <th></th>\n",
              "      <th>NU_INSCRICAO</th>\n",
              "      <th>NU_ANO</th>\n",
              "      <th>CO_MUNICIPIO_RESIDENCIA</th>\n",
              "      <th>NO_MUNICIPIO_RESIDENCIA</th>\n",
              "      <th>CO_UF_RESIDENCIA</th>\n",
              "      <th>SG_UF_RESIDENCIA</th>\n",
              "      <th>NU_IDADE</th>\n",
              "      <th>TP_SEXO</th>\n",
              "      <th>TP_ESTADO_CIVIL</th>\n",
              "      <th>TP_COR_RACA</th>\n",
              "      <th>...</th>\n",
              "      <th>Q016</th>\n",
              "      <th>Q017</th>\n",
              "      <th>Q018</th>\n",
              "      <th>Q019</th>\n",
              "      <th>Q020</th>\n",
              "      <th>Q021</th>\n",
              "      <th>Q022</th>\n",
              "      <th>Q023</th>\n",
              "      <th>Q024</th>\n",
              "      <th>Q025</th>\n",
              "    </tr>\n",
              "  </thead>\n",
              "  <tbody>\n",
              "    <tr>\n",
              "      <th>12426</th>\n",
              "      <td>190001017053</td>\n",
              "      <td>2019</td>\n",
              "      <td>3546801</td>\n",
              "      <td>Santa Isabel</td>\n",
              "      <td>35</td>\n",
              "      <td>SP</td>\n",
              "      <td>22</td>\n",
              "      <td>M</td>\n",
              "      <td>1</td>\n",
              "      <td>3</td>\n",
              "      <td>...</td>\n",
              "      <td>A</td>\n",
              "      <td>A</td>\n",
              "      <td>A</td>\n",
              "      <td>C</td>\n",
              "      <td>A</td>\n",
              "      <td>A</td>\n",
              "      <td>D</td>\n",
              "      <td>A</td>\n",
              "      <td>B</td>\n",
              "      <td>B</td>\n",
              "    </tr>\n",
              "    <tr>\n",
              "      <th>14849</th>\n",
              "      <td>190001019476</td>\n",
              "      <td>2019</td>\n",
              "      <td>3538204</td>\n",
              "      <td>Pinhalzinho</td>\n",
              "      <td>35</td>\n",
              "      <td>SP</td>\n",
              "      <td>19</td>\n",
              "      <td>M</td>\n",
              "      <td>1</td>\n",
              "      <td>3</td>\n",
              "      <td>...</td>\n",
              "      <td>A</td>\n",
              "      <td>A</td>\n",
              "      <td>A</td>\n",
              "      <td>B</td>\n",
              "      <td>A</td>\n",
              "      <td>A</td>\n",
              "      <td>C</td>\n",
              "      <td>A</td>\n",
              "      <td>B</td>\n",
              "      <td>A</td>\n",
              "    </tr>\n",
              "    <tr>\n",
              "      <th>15223</th>\n",
              "      <td>190001019850</td>\n",
              "      <td>2019</td>\n",
              "      <td>3550308</td>\n",
              "      <td>São Paulo</td>\n",
              "      <td>35</td>\n",
              "      <td>SP</td>\n",
              "      <td>17</td>\n",
              "      <td>F</td>\n",
              "      <td>1</td>\n",
              "      <td>3</td>\n",
              "      <td>...</td>\n",
              "      <td>A</td>\n",
              "      <td>A</td>\n",
              "      <td>A</td>\n",
              "      <td>A</td>\n",
              "      <td>A</td>\n",
              "      <td>A</td>\n",
              "      <td>C</td>\n",
              "      <td>A</td>\n",
              "      <td>A</td>\n",
              "      <td>A</td>\n",
              "    </tr>\n",
              "    <tr>\n",
              "      <th>20246</th>\n",
              "      <td>190001024874</td>\n",
              "      <td>2019</td>\n",
              "      <td>3548708</td>\n",
              "      <td>São Bernardo do Campo</td>\n",
              "      <td>35</td>\n",
              "      <td>SP</td>\n",
              "      <td>19</td>\n",
              "      <td>M</td>\n",
              "      <td>1</td>\n",
              "      <td>3</td>\n",
              "      <td>...</td>\n",
              "      <td>B</td>\n",
              "      <td>A</td>\n",
              "      <td>B</td>\n",
              "      <td>B</td>\n",
              "      <td>B</td>\n",
              "      <td>A</td>\n",
              "      <td>B</td>\n",
              "      <td>B</td>\n",
              "      <td>A</td>\n",
              "      <td>B</td>\n",
              "    </tr>\n",
              "    <tr>\n",
              "      <th>20303</th>\n",
              "      <td>190001024931</td>\n",
              "      <td>2019</td>\n",
              "      <td>3549409</td>\n",
              "      <td>São Joaquim da Barra</td>\n",
              "      <td>35</td>\n",
              "      <td>SP</td>\n",
              "      <td>37</td>\n",
              "      <td>M</td>\n",
              "      <td>2</td>\n",
              "      <td>1</td>\n",
              "      <td>...</td>\n",
              "      <td>B</td>\n",
              "      <td>A</td>\n",
              "      <td>A</td>\n",
              "      <td>A</td>\n",
              "      <td>A</td>\n",
              "      <td>A</td>\n",
              "      <td>C</td>\n",
              "      <td>B</td>\n",
              "      <td>B</td>\n",
              "      <td>B</td>\n",
              "    </tr>\n",
              "  </tbody>\n",
              "</table>\n",
              "<p>5 rows × 136 columns</p>\n",
              "</div>"
            ]
          },
          "metadata": {
            "tags": []
          },
          "execution_count": 6
        }
      ]
    },
    {
      "cell_type": "code",
      "metadata": {
        "id": "vJL2JAOxgXEX"
      },
      "source": [
        ""
      ],
      "execution_count": null,
      "outputs": []
    }
  ]
}