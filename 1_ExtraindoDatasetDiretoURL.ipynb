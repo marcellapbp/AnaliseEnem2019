{
  "nbformat": 4,
  "nbformat_minor": 0,
  "metadata": {
    "colab": {
      "name": "1_ExtraindoDatasetDiretoURL.ipynb",
      "provenance": [],
      "authorship_tag": "ABX9TyP/IAkUGUKEJQy4gFi4A+m2",
      "include_colab_link": true
    },
    "kernelspec": {
      "name": "python3",
      "display_name": "Python 3"
    },
    "accelerator": "GPU"
  },
  "cells": [
    {
      "cell_type": "markdown",
      "metadata": {
        "id": "view-in-github",
        "colab_type": "text"
      },
      "source": [
        "<a href=\"https://colab.research.google.com/github/marcellapbp/AnaliseEnem2019/blob/main/1_ExtraindoDatasetDiretoURL.ipynb\" target=\"_parent\"><img src=\"https://colab.research.google.com/assets/colab-badge.svg\" alt=\"Open In Colab\"/></a>"
      ]
    },
    {
      "cell_type": "markdown",
      "metadata": {
        "id": "Ezy6DBCaSmlG"
      },
      "source": [
        "#Análise dos Dados do Enem 2019\n",
        "\n",
        "No Evento Imersão Dados 2020 da Alura foi utilizado como fonte de dados para análise o Enem 2019. Meu intuito agora é me aprofundar nas análises, criar meus próprios desafios."
      ]
    },
    {
      "cell_type": "markdown",
      "metadata": {
        "id": "hEmZ2DobTIHe"
      },
      "source": [
        "Nesse Notebook eu busquei conseguir ler os dados direto da URL sem necessidade de baixar o conteúdo no computador ou armazenar na nuvem."
      ]
    },
    {
      "cell_type": "markdown",
      "metadata": {
        "id": "DDeKjHAdNdg_"
      },
      "source": [
        "Fontes Consultadas que auxiliaram na resolução:<br>\n",
        "https://svaderia.github.io/articles/downloading-and-unzipping-a-zipfile/<BR>\n",
        "https://www.youtube.com/watch?v=0yyiV4cyYww\n"
      ]
    },
    {
      "cell_type": "code",
      "metadata": {
        "id": "sw73rSEvGCpa"
      },
      "source": [
        "#importando bibliotecas para conseguir:\n",
        "#Extrair dados compactados direto da URL\n",
        "#Descompactar o arquivo zip\n",
        "#Ler arquivo CSV\n",
        "from urllib.request import urlopen\n",
        "from zipfile import ZipFile\n",
        "import pandas as pd"
      ],
      "execution_count": 11,
      "outputs": []
    },
    {
      "cell_type": "code",
      "metadata": {
        "id": "NmRjQefeSN8g"
      },
      "source": [
        "#Link para baixar o conteúdo compactado\n",
        "zipurl = 'http://download.inep.gov.br/microdados/microdados_enem_2019.zip'"
      ],
      "execution_count": null,
      "outputs": []
    },
    {
      "cell_type": "code",
      "metadata": {
        "id": "r1kaOU-xHDDd"
      },
      "source": [
        "#abre o link\n",
        "zipresp = urlopen(zipurl)"
      ],
      "execution_count": 2,
      "outputs": []
    },
    {
      "cell_type": "code",
      "metadata": {
        "id": "ZR13Z6o5HFu9"
      },
      "source": [
        "#cria o arquivo em branco onde vou inserir os dados\n",
        "tempzip = open(\"/content/tempfile.zip\", \"wb\")"
      ],
      "execution_count": 3,
      "outputs": []
    },
    {
      "cell_type": "code",
      "metadata": {
        "id": "kESLnv-iJU3w",
        "outputId": "e5b2e848-6eb2-4707-d39c-6d14c0d59c59",
        "colab": {
          "base_uri": "https://localhost:8080/",
          "height": 35
        }
      },
      "source": [
        "#gravando os dados (são quase 3 gb, esse comando no colab demora em média 10 minutos)\n",
        "tempzip.write(zipresp.read())"
      ],
      "execution_count": 4,
      "outputs": [
        {
          "output_type": "execute_result",
          "data": {
            "text/plain": [
              "665939887"
            ]
          },
          "metadata": {
            "tags": []
          },
          "execution_count": 4
        }
      ]
    },
    {
      "cell_type": "code",
      "metadata": {
        "id": "dnE5uUqAIwzh"
      },
      "source": [
        "#fechando arquivo após feita a gravação dos dados\n",
        "tempzip.close()"
      ],
      "execution_count": 5,
      "outputs": []
    },
    {
      "cell_type": "code",
      "metadata": {
        "id": "Z5gCugyqI0tN"
      },
      "source": [
        "#informando arquivo zip gravado anteriormente\n",
        "zf = ZipFile(\"/content/tempfile.zip\")"
      ],
      "execution_count": 6,
      "outputs": []
    },
    {
      "cell_type": "code",
      "metadata": {
        "id": "9Cs_eY1RHOkV"
      },
      "source": [
        "#extraindo no novo diretório indicado\n",
        "zf.extractall(path = '/content/Enem2019')"
      ],
      "execution_count": 7,
      "outputs": []
    },
    {
      "cell_type": "code",
      "metadata": {
        "id": "5HSIrIB7HbNN"
      },
      "source": [
        "#fechando o arquivo manipulado\n",
        "zf.close()"
      ],
      "execution_count": 9,
      "outputs": []
    },
    {
      "cell_type": "code",
      "metadata": {
        "id": "JAnXiLA7Nwi6"
      },
      "source": [
        "#gravando o CSV dos dados do Enem, decodificado e separado por ponto e vírgula\n",
        "df = pd.read_csv(\"/content/Enem2019/DADOS/MICRODADOS_ENEM_2019.csv\", encoding='ISO-8859-1', sep=\";\")\n",
        "df.head()"
      ],
      "execution_count": null,
      "outputs": []
    },
    {
      "cell_type": "code",
      "metadata": {
        "id": "RqdSVBxVN63R"
      },
      "source": [
        ""
      ],
      "execution_count": null,
      "outputs": []
    }
  ]
}