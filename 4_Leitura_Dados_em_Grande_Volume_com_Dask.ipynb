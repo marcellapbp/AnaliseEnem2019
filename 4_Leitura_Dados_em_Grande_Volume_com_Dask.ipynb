{
  "nbformat": 4,
  "nbformat_minor": 0,
  "metadata": {
    "colab": {
      "name": "4_Leitura_Dados_em_Grande_Volume_com_Dask.ipynb",
      "provenance": [],
      "collapsed_sections": [],
      "toc_visible": true,
      "authorship_tag": "ABX9TyMokgM9A3ZYDQmorGzF8Gfb",
      "include_colab_link": true
    },
    "kernelspec": {
      "name": "python3",
      "display_name": "Python 3"
    },
    "language_info": {
      "name": "python"
    }
  },
  "cells": [
    {
      "cell_type": "markdown",
      "metadata": {
        "id": "view-in-github",
        "colab_type": "text"
      },
      "source": [
        "<a href=\"https://colab.research.google.com/github/marcellapbp/AnaliseEnem2019/blob/main/4_Leitura_Dados_em_Grande_Volume_com_Dask.ipynb\" target=\"_parent\"><img src=\"https://colab.research.google.com/assets/colab-badge.svg\" alt=\"Open In Colab\"/></a>"
      ]
    },
    {
      "cell_type": "markdown",
      "metadata": {
        "id": "92Vx8dHx0G9G"
      },
      "source": [
        "#Leitura de Dados em Grande Volume com Dask\n",
        "Neste notebook vamos dar continuidade no [experimento](https://github.com/marcellapbp/AnaliseEnem2019/blob/main/1_Leitura_Dados_em_Grande_Volume_com_Pandas.ipynb) de ler e trabalhar com grande quantidade de dados em um arquivo CSV. <BR>\n",
        "Nesse [artigo](https://www.kdnuggets.com/2021/03/dask-pandas-data.html) do KDNuggets, é apresentado uma comparação entre as bibliotecas Pandas e Dask. <BR><BR>\n",
        "\n",
        "Pandas é amplamente utilizado em análise de dados, no entanto com grande quantidades de dados percebemos no experimento anterior que se torna um pouco lento e mais complexo de trabalhar. Dask tem a proposta de lidar melhor com esse volume de dados e é isso que vamos testar logo abaixo. <BR><BR>\n",
        "\n",
        "Instalando a biblioteca por completo e em seguida a importando, mais informações em [dask.org](https://dask.org/)\n"
      ]
    },
    {
      "cell_type": "code",
      "metadata": {
        "colab": {
          "base_uri": "https://localhost:8080/"
        },
        "id": "_J3zyV0c0EAP",
        "outputId": "fda3924c-bd14-43c4-d163-2a3c4af3276a"
      },
      "source": [
        "pip install \"dask[complete]\" "
      ],
      "execution_count": 1,
      "outputs": [
        {
          "output_type": "stream",
          "text": [
            "Collecting dask[complete]\n",
            "  Downloading dask-2021.4.1-py3-none-any.whl (952 kB)\n",
            "Collecting cloudpickle>=1.1.1\n",
            "  Downloading cloudpickle-1.6.0-py3-none-any.whl (23 kB)\n",
            "Collecting toolz>=0.8.2\n",
            "  Downloading toolz-0.11.1-py3-none-any.whl (55 kB)\n",
            "Requirement already satisfied: pyyaml in c:\\users\\marcellapereira\\appdata\\local\\programs\\python\\python39\\lib\\site-packages (from dask[complete]) (5.3.1)\n",
            "Collecting partd>=0.3.10\n",
            "  Downloading partd-1.2.0-py3-none-any.whl (19 kB)\n",
            "Collecting fsspec>=0.6.0\n",
            "  Downloading fsspec-2021.4.0-py3-none-any.whl (108 kB)\n",
            "Requirement already satisfied: numpy>=1.16; extra == \"complete\" in c:\\users\\marcellapereira\\appdata\\local\\programs\\python\\python39\\lib\\site-packages (from dask[complete]) (1.19.3)\n",
            "Collecting distributed>=2021.04.1; extra == \"complete\"\n",
            "  Downloading distributed-2021.4.1-py3-none-any.whl (696 kB)\n",
            "Requirement already satisfied: pandas>=0.25.0; extra == \"complete\" in c:\\users\\marcellapereira\\appdata\\local\\programs\\python\\python39\\lib\\site-packages (from dask[complete]) (1.1.3)\n",
            "Requirement already satisfied: bokeh!=2.0.0,>=1.0.0; extra == \"complete\" in c:\\users\\marcellapereira\\appdata\\local\\programs\\python\\python39\\lib\\site-packages (from dask[complete]) (2.2.3)\n",
            "Collecting locket\n",
            "  Downloading locket-0.2.1-py2.py3-none-any.whl (4.1 kB)\n",
            "Requirement already satisfied: tornado>=6.0.3; python_version >= \"3.8\" in c:\\users\\marcellapereira\\appdata\\local\\programs\\python\\python39\\lib\\site-packages (from distributed>=2021.04.1; extra == \"complete\"->dask[complete]) (6.0.4)\n",
            "Collecting psutil>=5.0\n",
            "  Downloading psutil-5.8.0-cp39-cp39-win_amd64.whl (246 kB)\n",
            "Requirement already satisfied: setuptools in c:\\users\\marcellapereira\\appdata\\local\\programs\\python\\python39\\lib\\site-packages (from distributed>=2021.04.1; extra == \"complete\"->dask[complete]) (49.2.1)\n",
            "Collecting zict>=0.1.3\n",
            "  Downloading zict-2.0.0-py3-none-any.whl (10 kB)\n",
            "Collecting click>=6.6\n",
            "  Downloading click-7.1.2-py2.py3-none-any.whl (82 kB)\n",
            "Collecting sortedcontainers!=2.0.0,!=2.0.1\n",
            "  Downloading sortedcontainers-2.3.0-py2.py3-none-any.whl (29 kB)\n",
            "Collecting msgpack>=0.6.0\n",
            "  Downloading msgpack-1.0.2-cp39-cp39-win_amd64.whl (68 kB)\n",
            "Collecting tblib>=1.6.0\n",
            "  Downloading tblib-1.7.0-py2.py3-none-any.whl (12 kB)\n",
            "Requirement already satisfied: pytz>=2017.2 in c:\\users\\marcellapereira\\appdata\\local\\programs\\python\\python39\\lib\\site-packages (from pandas>=0.25.0; extra == \"complete\"->dask[complete]) (2020.1)\n",
            "Requirement already satisfied: python-dateutil>=2.7.3 in c:\\users\\marcellapereira\\appdata\\local\\programs\\python\\python39\\lib\\site-packages (from pandas>=0.25.0; extra == \"complete\"->dask[complete]) (2.8.1)\n",
            "Requirement already satisfied: Jinja2>=2.7 in c:\\users\\marcellapereira\\appdata\\local\\programs\\python\\python39\\lib\\site-packages (from bokeh!=2.0.0,>=1.0.0; extra == \"complete\"->dask[complete]) (2.11.2)\n",
            "Requirement already satisfied: pillow>=7.1.0 in c:\\users\\marcellapereira\\appdata\\local\\programs\\python\\python39\\lib\\site-packages (from bokeh!=2.0.0,>=1.0.0; extra == \"complete\"->dask[complete]) (8.0.1)\n",
            "Requirement already satisfied: packaging>=16.8 in c:\\users\\marcellapereira\\appdata\\local\\programs\\python\\python39\\lib\\site-packages (from bokeh!=2.0.0,>=1.0.0; extra == \"complete\"->dask[complete]) (20.4)\n",
            "Requirement already satisfied: typing_extensions>=3.7.4 in c:\\users\\marcellapereira\\appdata\\local\\programs\\python\\python39\\lib\\site-packages (from bokeh!=2.0.0,>=1.0.0; extra == \"complete\"->dask[complete]) (3.7.4.3)\n",
            "Collecting heapdict\n",
            "  Downloading HeapDict-1.0.1-py3-none-any.whl (3.9 kB)\n",
            "Requirement already satisfied: six>=1.5 in c:\\users\\marcellapereira\\appdata\\local\\programs\\python\\python39\\lib\\site-packages (from python-dateutil>=2.7.3->pandas>=0.25.0; extra == \"complete\"->dask[complete]) (1.15.0)\n",
            "Requirement already satisfied: MarkupSafe>=0.23 in c:\\users\\marcellapereira\\appdata\\local\\programs\\python\\python39\\lib\\site-packages (from Jinja2>=2.7->bokeh!=2.0.0,>=1.0.0; extra == \"complete\"->dask[complete]) (1.1.1)\n",
            "Requirement already satisfied: pyparsing>=2.0.2 in c:\\users\\marcellapereira\\appdata\\local\\programs\\python\\python39\\lib\\site-packages (from packaging>=16.8->bokeh!=2.0.0,>=1.0.0; extra == \"complete\"->dask[complete]) (2.4.7)\n",
            "Installing collected packages: cloudpickle, toolz, locket, partd, fsspec, psutil, heapdict, zict, click, sortedcontainers, msgpack, tblib, distributed, dask\n",
            "Successfully installed click-7.1.2 cloudpickle-1.6.0 dask-2021.4.1 distributed-2021.4.1 fsspec-2021.4.0 heapdict-1.0.1 locket-0.2.1 msgpack-1.0.2 partd-1.2.0 psutil-5.8.0 sortedcontainers-2.3.0 tblib-1.7.0 toolz-0.11.1 zict-2.0.0\n",
            "Note: you may need to restart the kernel to use updated packages.\n"
          ],
          "name": "stdout"
        },
        {
          "output_type": "stream",
          "text": [
            "WARNING: You are using pip version 20.2.4; however, version 21.0.1 is available.\n",
            "You should consider upgrading via the 'c:\\users\\marcellapereira\\appdata\\local\\programs\\python\\python39\\python.exe -m pip install --upgrade pip' command.\n"
          ],
          "name": "stderr"
        }
      ]
    },
    {
      "cell_type": "code",
      "metadata": {
        "id": "PG2jGrlk2xhR"
      },
      "source": [
        "import dask.dataframe as dd"
      ],
      "execution_count": 2,
      "outputs": []
    },
    {
      "cell_type": "markdown",
      "metadata": {
        "id": "IcyOFUkr6ZDI"
      },
      "source": [
        "Na documentação do método ```read_csv``` a recomendação é utilizar o parâmetro ```assume_missing=True```, pois a leitura dos dados pode ter nas primeiras linhas informações completas sem valores nulos e a biblioteca assume os tipos de dados e não considera que pode exister valores nulos causando erro caso se depare com eles ao longo da leitura.<BR><BR>\n",
        "No trecho abaixo estou importando os dados do Enem 2019 que possui cerca de 2,97 GB.\n",
        "\n",
        " "
      ]
    },
    {
      "cell_type": "code",
      "metadata": {
        "id": "K31-uNOp3Bgd"
      },
      "source": [
        "#file = f'/home/marcella/Documentos/microdados_enem_2019/DADOS/MICRODADOS_ENEM_2019.csv'\n",
        "file = f'C:/users/marcellapereira/Downloads/microdados_enem_2019/DADOS/MICRODADOS_ENEM_2019.csv'\n",
        "df = dd.read_csv(file, \n",
        "                 assume_missing=True,  \n",
        "                 encoding='ISO-8859-1', \n",
        "                 delimiter=';')"
      ],
      "execution_count": 5,
      "outputs": []
    },
    {
      "cell_type": "markdown",
      "metadata": {
        "id": "plvvvtWaFDTJ"
      },
      "source": [
        "Utilizar o método ```persist``` ajuda a trabalhar o DataFrame de forma otimizada. Os dados e a estrutura permanecem inalterados, porém os dados ficam previamente computados, ou são computados em backgroud podendo ser até computados de forma distribuída. Na [documentação](https://docs.dask.org/en/latest/api.html#dask.persist) oficial é possível obter mais detalhes.\n",
        "\n",
        "\n"
      ]
    },
    {
      "cell_type": "code",
      "metadata": {
        "colab": {
          "base_uri": "https://localhost:8080/"
        },
        "id": "CeLwJslzBR67",
        "outputId": "234cc5fd-5ad2-4a86-9876-970241f9f709"
      },
      "source": [
        "%%time\n",
        "daskDF = df.persist()"
      ],
      "execution_count": 6,
      "outputs": [
        {
          "output_type": "stream",
          "text": [
            "Wall time: 3min 25s\n"
          ],
          "name": "stdout"
        }
      ]
    },
    {
      "cell_type": "markdown",
      "metadata": {
        "id": "UJvkvNWRHFVq"
      },
      "source": [
        "Logo abaixo foi feito um teste consultando as primeiras linhas do DataFrame antes da persistência e após. \n",
        "O DataFrame ```df``` sem a persistência demorou cerca de 5 segundos na máquina que foi utilizada para o experimento (com Intel i5 de 8ª geração e 16 gb de RAM), enquanto que o DataFrame ```daskDF``` com a persistência demorou menos de 1 segundo.\n",
        "Por ser uma máquina com grande poder de processamento, 5 segundos contra 1 segundo parece não ser um grande resultado, mas dependendo da máquina ou do processo a ser realizado pode valer a pena gastar alguns segundos persistindo o DataFrame, pois o resultado pode ser 5 vezes mais rápido."
      ]
    },
    {
      "cell_type": "code",
      "metadata": {
        "id": "k1Jc_JTf9Cbb",
        "colab": {
          "base_uri": "https://localhost:8080/",
          "height": 274
        },
        "outputId": "97d3c4f5-dc21-4f3b-8e20-686678c0a540"
      },
      "source": [
        "%%time\n",
        "df.head()"
      ],
      "execution_count": 7,
      "outputs": [
        {
          "output_type": "stream",
          "text": [
            "Wall time: 5.49 s\n"
          ],
          "name": "stdout"
        },
        {
          "output_type": "execute_result",
          "data": {
            "text/plain": [
              "   NU_INSCRICAO  NU_ANO  CO_MUNICIPIO_RESIDENCIA     NO_MUNICIPIO_RESIDENCIA  \\\n",
              "0  1.900010e+11  2019.0                1506807.0                    Santarém   \n",
              "1  1.900010e+11  2019.0                1504059.0                  Mãe do Rio   \n",
              "2  1.900010e+11  2019.0                1505502.0                 Paragominas   \n",
              "3  1.900010e+11  2019.0                1507706.0  São Sebastião da Boa Vista   \n",
              "4  1.900010e+11  2019.0                1503903.0                      Juruti   \n",
              "\n",
              "   CO_UF_RESIDENCIA SG_UF_RESIDENCIA  NU_IDADE TP_SEXO  TP_ESTADO_CIVIL  \\\n",
              "0              15.0               PA      21.0       M              1.0   \n",
              "1              15.0               PA      16.0       F              1.0   \n",
              "2              15.0               PA      18.0       F              1.0   \n",
              "3              15.0               PA      23.0       M              0.0   \n",
              "4              15.0               PA      23.0       M              1.0   \n",
              "\n",
              "   TP_COR_RACA  ...  Q016  Q017 Q018  Q019 Q020  Q021  Q022  Q023  Q024  Q025  \n",
              "0          3.0  ...     A     A    A     C    B     A     D     A     B     A  \n",
              "1          3.0  ...     A     A    A     B    B     A     B     A     A     A  \n",
              "2          1.0  ...     B     A    A     D    B     B     D     A     C     B  \n",
              "3          3.0  ...     A     A    A     C    A     A     D     A     A     A  \n",
              "4          3.0  ...     A     A    A     B    A     A     D     A     A     A  \n",
              "\n",
              "[5 rows x 136 columns]"
            ],
            "text/html": [
              "<div>\n",
              "<style scoped>\n",
              "    .dataframe tbody tr th:only-of-type {\n",
              "        vertical-align: middle;\n",
              "    }\n",
              "\n",
              "    .dataframe tbody tr th {\n",
              "        vertical-align: top;\n",
              "    }\n",
              "\n",
              "    .dataframe thead th {\n",
              "        text-align: right;\n",
              "    }\n",
              "</style>\n",
              "<table border=\"1\" class=\"dataframe\">\n",
              "  <thead>\n",
              "    <tr style=\"text-align: right;\">\n",
              "      <th></th>\n",
              "      <th>NU_INSCRICAO</th>\n",
              "      <th>NU_ANO</th>\n",
              "      <th>CO_MUNICIPIO_RESIDENCIA</th>\n",
              "      <th>NO_MUNICIPIO_RESIDENCIA</th>\n",
              "      <th>CO_UF_RESIDENCIA</th>\n",
              "      <th>SG_UF_RESIDENCIA</th>\n",
              "      <th>NU_IDADE</th>\n",
              "      <th>TP_SEXO</th>\n",
              "      <th>TP_ESTADO_CIVIL</th>\n",
              "      <th>TP_COR_RACA</th>\n",
              "      <th>...</th>\n",
              "      <th>Q016</th>\n",
              "      <th>Q017</th>\n",
              "      <th>Q018</th>\n",
              "      <th>Q019</th>\n",
              "      <th>Q020</th>\n",
              "      <th>Q021</th>\n",
              "      <th>Q022</th>\n",
              "      <th>Q023</th>\n",
              "      <th>Q024</th>\n",
              "      <th>Q025</th>\n",
              "    </tr>\n",
              "  </thead>\n",
              "  <tbody>\n",
              "    <tr>\n",
              "      <th>0</th>\n",
              "      <td>1.900010e+11</td>\n",
              "      <td>2019.0</td>\n",
              "      <td>1506807.0</td>\n",
              "      <td>Santarém</td>\n",
              "      <td>15.0</td>\n",
              "      <td>PA</td>\n",
              "      <td>21.0</td>\n",
              "      <td>M</td>\n",
              "      <td>1.0</td>\n",
              "      <td>3.0</td>\n",
              "      <td>...</td>\n",
              "      <td>A</td>\n",
              "      <td>A</td>\n",
              "      <td>A</td>\n",
              "      <td>C</td>\n",
              "      <td>B</td>\n",
              "      <td>A</td>\n",
              "      <td>D</td>\n",
              "      <td>A</td>\n",
              "      <td>B</td>\n",
              "      <td>A</td>\n",
              "    </tr>\n",
              "    <tr>\n",
              "      <th>1</th>\n",
              "      <td>1.900010e+11</td>\n",
              "      <td>2019.0</td>\n",
              "      <td>1504059.0</td>\n",
              "      <td>Mãe do Rio</td>\n",
              "      <td>15.0</td>\n",
              "      <td>PA</td>\n",
              "      <td>16.0</td>\n",
              "      <td>F</td>\n",
              "      <td>1.0</td>\n",
              "      <td>3.0</td>\n",
              "      <td>...</td>\n",
              "      <td>A</td>\n",
              "      <td>A</td>\n",
              "      <td>A</td>\n",
              "      <td>B</td>\n",
              "      <td>B</td>\n",
              "      <td>A</td>\n",
              "      <td>B</td>\n",
              "      <td>A</td>\n",
              "      <td>A</td>\n",
              "      <td>A</td>\n",
              "    </tr>\n",
              "    <tr>\n",
              "      <th>2</th>\n",
              "      <td>1.900010e+11</td>\n",
              "      <td>2019.0</td>\n",
              "      <td>1505502.0</td>\n",
              "      <td>Paragominas</td>\n",
              "      <td>15.0</td>\n",
              "      <td>PA</td>\n",
              "      <td>18.0</td>\n",
              "      <td>F</td>\n",
              "      <td>1.0</td>\n",
              "      <td>1.0</td>\n",
              "      <td>...</td>\n",
              "      <td>B</td>\n",
              "      <td>A</td>\n",
              "      <td>A</td>\n",
              "      <td>D</td>\n",
              "      <td>B</td>\n",
              "      <td>B</td>\n",
              "      <td>D</td>\n",
              "      <td>A</td>\n",
              "      <td>C</td>\n",
              "      <td>B</td>\n",
              "    </tr>\n",
              "    <tr>\n",
              "      <th>3</th>\n",
              "      <td>1.900010e+11</td>\n",
              "      <td>2019.0</td>\n",
              "      <td>1507706.0</td>\n",
              "      <td>São Sebastião da Boa Vista</td>\n",
              "      <td>15.0</td>\n",
              "      <td>PA</td>\n",
              "      <td>23.0</td>\n",
              "      <td>M</td>\n",
              "      <td>0.0</td>\n",
              "      <td>3.0</td>\n",
              "      <td>...</td>\n",
              "      <td>A</td>\n",
              "      <td>A</td>\n",
              "      <td>A</td>\n",
              "      <td>C</td>\n",
              "      <td>A</td>\n",
              "      <td>A</td>\n",
              "      <td>D</td>\n",
              "      <td>A</td>\n",
              "      <td>A</td>\n",
              "      <td>A</td>\n",
              "    </tr>\n",
              "    <tr>\n",
              "      <th>4</th>\n",
              "      <td>1.900010e+11</td>\n",
              "      <td>2019.0</td>\n",
              "      <td>1503903.0</td>\n",
              "      <td>Juruti</td>\n",
              "      <td>15.0</td>\n",
              "      <td>PA</td>\n",
              "      <td>23.0</td>\n",
              "      <td>M</td>\n",
              "      <td>1.0</td>\n",
              "      <td>3.0</td>\n",
              "      <td>...</td>\n",
              "      <td>A</td>\n",
              "      <td>A</td>\n",
              "      <td>A</td>\n",
              "      <td>B</td>\n",
              "      <td>A</td>\n",
              "      <td>A</td>\n",
              "      <td>D</td>\n",
              "      <td>A</td>\n",
              "      <td>A</td>\n",
              "      <td>A</td>\n",
              "    </tr>\n",
              "  </tbody>\n",
              "</table>\n",
              "<p>5 rows × 136 columns</p>\n",
              "</div>"
            ]
          },
          "metadata": {
            "tags": []
          },
          "execution_count": 7
        }
      ]
    },
    {
      "cell_type": "code",
      "metadata": {
        "colab": {
          "base_uri": "https://localhost:8080/",
          "height": 274
        },
        "id": "_KIul0BaLU5S",
        "outputId": "fd8b9f38-95ac-4e8d-fed9-b036f7a3555e"
      },
      "source": [
        "%%time\n",
        "daskDF.head()"
      ],
      "execution_count": 8,
      "outputs": [
        {
          "output_type": "stream",
          "text": [
            "Wall time: 41 ms\n"
          ],
          "name": "stdout"
        },
        {
          "output_type": "execute_result",
          "data": {
            "text/plain": [
              "   NU_INSCRICAO  NU_ANO  CO_MUNICIPIO_RESIDENCIA     NO_MUNICIPIO_RESIDENCIA  \\\n",
              "0  1.900010e+11  2019.0                1506807.0                    Santarém   \n",
              "1  1.900010e+11  2019.0                1504059.0                  Mãe do Rio   \n",
              "2  1.900010e+11  2019.0                1505502.0                 Paragominas   \n",
              "3  1.900010e+11  2019.0                1507706.0  São Sebastião da Boa Vista   \n",
              "4  1.900010e+11  2019.0                1503903.0                      Juruti   \n",
              "\n",
              "   CO_UF_RESIDENCIA SG_UF_RESIDENCIA  NU_IDADE TP_SEXO  TP_ESTADO_CIVIL  \\\n",
              "0              15.0               PA      21.0       M              1.0   \n",
              "1              15.0               PA      16.0       F              1.0   \n",
              "2              15.0               PA      18.0       F              1.0   \n",
              "3              15.0               PA      23.0       M              0.0   \n",
              "4              15.0               PA      23.0       M              1.0   \n",
              "\n",
              "   TP_COR_RACA  ...  Q016  Q017 Q018  Q019 Q020  Q021  Q022  Q023  Q024  Q025  \n",
              "0          3.0  ...     A     A    A     C    B     A     D     A     B     A  \n",
              "1          3.0  ...     A     A    A     B    B     A     B     A     A     A  \n",
              "2          1.0  ...     B     A    A     D    B     B     D     A     C     B  \n",
              "3          3.0  ...     A     A    A     C    A     A     D     A     A     A  \n",
              "4          3.0  ...     A     A    A     B    A     A     D     A     A     A  \n",
              "\n",
              "[5 rows x 136 columns]"
            ],
            "text/html": [
              "<div>\n",
              "<style scoped>\n",
              "    .dataframe tbody tr th:only-of-type {\n",
              "        vertical-align: middle;\n",
              "    }\n",
              "\n",
              "    .dataframe tbody tr th {\n",
              "        vertical-align: top;\n",
              "    }\n",
              "\n",
              "    .dataframe thead th {\n",
              "        text-align: right;\n",
              "    }\n",
              "</style>\n",
              "<table border=\"1\" class=\"dataframe\">\n",
              "  <thead>\n",
              "    <tr style=\"text-align: right;\">\n",
              "      <th></th>\n",
              "      <th>NU_INSCRICAO</th>\n",
              "      <th>NU_ANO</th>\n",
              "      <th>CO_MUNICIPIO_RESIDENCIA</th>\n",
              "      <th>NO_MUNICIPIO_RESIDENCIA</th>\n",
              "      <th>CO_UF_RESIDENCIA</th>\n",
              "      <th>SG_UF_RESIDENCIA</th>\n",
              "      <th>NU_IDADE</th>\n",
              "      <th>TP_SEXO</th>\n",
              "      <th>TP_ESTADO_CIVIL</th>\n",
              "      <th>TP_COR_RACA</th>\n",
              "      <th>...</th>\n",
              "      <th>Q016</th>\n",
              "      <th>Q017</th>\n",
              "      <th>Q018</th>\n",
              "      <th>Q019</th>\n",
              "      <th>Q020</th>\n",
              "      <th>Q021</th>\n",
              "      <th>Q022</th>\n",
              "      <th>Q023</th>\n",
              "      <th>Q024</th>\n",
              "      <th>Q025</th>\n",
              "    </tr>\n",
              "  </thead>\n",
              "  <tbody>\n",
              "    <tr>\n",
              "      <th>0</th>\n",
              "      <td>1.900010e+11</td>\n",
              "      <td>2019.0</td>\n",
              "      <td>1506807.0</td>\n",
              "      <td>Santarém</td>\n",
              "      <td>15.0</td>\n",
              "      <td>PA</td>\n",
              "      <td>21.0</td>\n",
              "      <td>M</td>\n",
              "      <td>1.0</td>\n",
              "      <td>3.0</td>\n",
              "      <td>...</td>\n",
              "      <td>A</td>\n",
              "      <td>A</td>\n",
              "      <td>A</td>\n",
              "      <td>C</td>\n",
              "      <td>B</td>\n",
              "      <td>A</td>\n",
              "      <td>D</td>\n",
              "      <td>A</td>\n",
              "      <td>B</td>\n",
              "      <td>A</td>\n",
              "    </tr>\n",
              "    <tr>\n",
              "      <th>1</th>\n",
              "      <td>1.900010e+11</td>\n",
              "      <td>2019.0</td>\n",
              "      <td>1504059.0</td>\n",
              "      <td>Mãe do Rio</td>\n",
              "      <td>15.0</td>\n",
              "      <td>PA</td>\n",
              "      <td>16.0</td>\n",
              "      <td>F</td>\n",
              "      <td>1.0</td>\n",
              "      <td>3.0</td>\n",
              "      <td>...</td>\n",
              "      <td>A</td>\n",
              "      <td>A</td>\n",
              "      <td>A</td>\n",
              "      <td>B</td>\n",
              "      <td>B</td>\n",
              "      <td>A</td>\n",
              "      <td>B</td>\n",
              "      <td>A</td>\n",
              "      <td>A</td>\n",
              "      <td>A</td>\n",
              "    </tr>\n",
              "    <tr>\n",
              "      <th>2</th>\n",
              "      <td>1.900010e+11</td>\n",
              "      <td>2019.0</td>\n",
              "      <td>1505502.0</td>\n",
              "      <td>Paragominas</td>\n",
              "      <td>15.0</td>\n",
              "      <td>PA</td>\n",
              "      <td>18.0</td>\n",
              "      <td>F</td>\n",
              "      <td>1.0</td>\n",
              "      <td>1.0</td>\n",
              "      <td>...</td>\n",
              "      <td>B</td>\n",
              "      <td>A</td>\n",
              "      <td>A</td>\n",
              "      <td>D</td>\n",
              "      <td>B</td>\n",
              "      <td>B</td>\n",
              "      <td>D</td>\n",
              "      <td>A</td>\n",
              "      <td>C</td>\n",
              "      <td>B</td>\n",
              "    </tr>\n",
              "    <tr>\n",
              "      <th>3</th>\n",
              "      <td>1.900010e+11</td>\n",
              "      <td>2019.0</td>\n",
              "      <td>1507706.0</td>\n",
              "      <td>São Sebastião da Boa Vista</td>\n",
              "      <td>15.0</td>\n",
              "      <td>PA</td>\n",
              "      <td>23.0</td>\n",
              "      <td>M</td>\n",
              "      <td>0.0</td>\n",
              "      <td>3.0</td>\n",
              "      <td>...</td>\n",
              "      <td>A</td>\n",
              "      <td>A</td>\n",
              "      <td>A</td>\n",
              "      <td>C</td>\n",
              "      <td>A</td>\n",
              "      <td>A</td>\n",
              "      <td>D</td>\n",
              "      <td>A</td>\n",
              "      <td>A</td>\n",
              "      <td>A</td>\n",
              "    </tr>\n",
              "    <tr>\n",
              "      <th>4</th>\n",
              "      <td>1.900010e+11</td>\n",
              "      <td>2019.0</td>\n",
              "      <td>1503903.0</td>\n",
              "      <td>Juruti</td>\n",
              "      <td>15.0</td>\n",
              "      <td>PA</td>\n",
              "      <td>23.0</td>\n",
              "      <td>M</td>\n",
              "      <td>1.0</td>\n",
              "      <td>3.0</td>\n",
              "      <td>...</td>\n",
              "      <td>A</td>\n",
              "      <td>A</td>\n",
              "      <td>A</td>\n",
              "      <td>B</td>\n",
              "      <td>A</td>\n",
              "      <td>A</td>\n",
              "      <td>D</td>\n",
              "      <td>A</td>\n",
              "      <td>A</td>\n",
              "      <td>A</td>\n",
              "    </tr>\n",
              "  </tbody>\n",
              "</table>\n",
              "<p>5 rows × 136 columns</p>\n",
              "</div>"
            ]
          },
          "metadata": {
            "tags": []
          },
          "execution_count": 8
        }
      ]
    },
    {
      "cell_type": "markdown",
      "metadata": {
        "id": "mS2Svs35I-xN"
      },
      "source": [
        "No trecho abaixo demorou mais de 4 minutos para mostrar a quantidade de linhas e colunas do DataFrame sem presistência contra menos de 1 segundo do DataFrame com persistência."
      ]
    },
    {
      "cell_type": "code",
      "metadata": {
        "id": "HS_Of73X_ydQ",
        "colab": {
          "base_uri": "https://localhost:8080/"
        },
        "outputId": "5322e0ce-3458-4192-be62-2395f1f9b7ce"
      },
      "source": [
        "%%time\n",
        "a = df.shape\n",
        "a[0].compute(), a[1]"
      ],
      "execution_count": 9,
      "outputs": [
        {
          "output_type": "stream",
          "text": [
            "Wall time: 4min 36s\n"
          ],
          "name": "stdout"
        },
        {
          "output_type": "execute_result",
          "data": {
            "text/plain": [
              "(5095270, 136)"
            ]
          },
          "metadata": {
            "tags": []
          },
          "execution_count": 9
        }
      ]
    },
    {
      "cell_type": "code",
      "metadata": {
        "id": "t7Gn6X3EAWwZ",
        "colab": {
          "base_uri": "https://localhost:8080/"
        },
        "outputId": "22544964-fc4f-41a8-c2bf-eee8643fcf2b"
      },
      "source": [
        "%%time\n",
        "a = daskDF.shape\n",
        "a[0].compute(), a[1]"
      ],
      "execution_count": 10,
      "outputs": [
        {
          "output_type": "stream",
          "text": [
            "Wall time: 25.4 ms\n"
          ],
          "name": "stdout"
        },
        {
          "output_type": "execute_result",
          "data": {
            "text/plain": [
              "(5095270, 136)"
            ]
          },
          "metadata": {
            "tags": []
          },
          "execution_count": 10
        }
      ]
    },
    {
      "cell_type": "markdown",
      "metadata": {
        "id": "pEibGIPGL2BH"
      },
      "source": [
        "##Considerações Finais\n",
        "\n",
        "Dask se demonstrou ser uma boa alternativa ao Pandas para trabalhar com arquivos de grande volume de dados. Provavelmente irei utiliza-lo nos próximos experimentos nesse dataset do Enem 2019 e realizar novos experimentos com outras bibliotecas que surgirem e que eu descobrir."
      ]
    }
  ]
}